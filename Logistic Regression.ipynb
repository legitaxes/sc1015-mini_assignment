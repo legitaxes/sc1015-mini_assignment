{
 "cells": [
  {
   "cell_type": "markdown",
   "id": "9c4e873f",
   "metadata": {},
   "source": [
    "## Logistic Regression"
   ]
  },
  {
   "cell_type": "code",
   "execution_count": 3,
   "id": "bdb307fc",
   "metadata": {},
   "outputs": [],
   "source": [
    "# Basic Libraries\n",
    "import numpy as np\n",
    "import pandas as pd\n",
    "import seaborn as sb\n",
    "import collections\n",
    "from scipy import stats\n",
    "import matplotlib.pyplot as plt # we only need pyplot\n",
    "sb.set() # set the default Seaborn style for graphics\n",
    "from sklearn.model_selection import train_test_split\n",
    "from math import sqrt\n",
    "from datetime import datetime, timedelta\n",
    "# Import Decision Tree Classifier model from Scikit-Learn\n",
    "from sklearn.tree import DecisionTreeClassifier\n",
    "# Plot the trained Decision Tree\n",
    "from sklearn.tree import plot_tree\n",
    "# for plotting confusion matrix\n",
    "from sklearn.metrics import confusion_matrix\n",
    "from collections import Counter\n",
    "\n",
    "\n",
    "from sklearn.model_selection import GridSearchCV\n",
    "from sklearn import tree\n",
    "from sklearn.neural_network import MLPClassifier\n",
    "from sklearn.metrics import mean_squared_error\n",
    "from sklearn.tree import DecisionTreeClassifier\n",
    "from sklearn. ensemble import RandomForestClassifier, RandomForestRegressor, BaggingClassifier, AdaBoostClassifier, VotingClassifier\n",
    "from sklearn.metrics import accuracy_score\n",
    "from sklearn.metrics import precision_score\n",
    "from sklearn.metrics import recall_score\n",
    "from sklearn.svm import SVC, SVR\n",
    "from sklearn.model_selection import cross_val_score, cross_validate"
   ]
  },
  {
   "cell_type": "code",
   "execution_count": 4,
   "id": "81797c41",
   "metadata": {},
   "outputs": [
    {
     "data": {
      "text/html": [
       "<div>\n",
       "<style scoped>\n",
       "    .dataframe tbody tr th:only-of-type {\n",
       "        vertical-align: middle;\n",
       "    }\n",
       "\n",
       "    .dataframe tbody tr th {\n",
       "        vertical-align: top;\n",
       "    }\n",
       "\n",
       "    .dataframe thead th {\n",
       "        text-align: right;\n",
       "    }\n",
       "</style>\n",
       "<table border=\"1\" class=\"dataframe\">\n",
       "  <thead>\n",
       "    <tr style=\"text-align: right;\">\n",
       "      <th></th>\n",
       "      <th>work_year</th>\n",
       "      <th>salary</th>\n",
       "      <th>salary_in_usd</th>\n",
       "      <th>remote_ratio</th>\n",
       "      <th>experience_levelN</th>\n",
       "      <th>company_sizeN</th>\n",
       "      <th>employment_typeN</th>\n",
       "      <th>employee_continentN</th>\n",
       "      <th>company_continentN</th>\n",
       "    </tr>\n",
       "  </thead>\n",
       "  <tbody>\n",
       "    <tr>\n",
       "      <th>0</th>\n",
       "      <td>2020</td>\n",
       "      <td>70000</td>\n",
       "      <td>79833</td>\n",
       "      <td>0</td>\n",
       "      <td>1</td>\n",
       "      <td>2</td>\n",
       "      <td>1</td>\n",
       "      <td>0</td>\n",
       "      <td>0</td>\n",
       "    </tr>\n",
       "    <tr>\n",
       "      <th>1</th>\n",
       "      <td>2020</td>\n",
       "      <td>260000</td>\n",
       "      <td>260000</td>\n",
       "      <td>0</td>\n",
       "      <td>2</td>\n",
       "      <td>0</td>\n",
       "      <td>1</td>\n",
       "      <td>1</td>\n",
       "      <td>1</td>\n",
       "    </tr>\n",
       "    <tr>\n",
       "      <th>2</th>\n",
       "      <td>2020</td>\n",
       "      <td>85000</td>\n",
       "      <td>109024</td>\n",
       "      <td>1</td>\n",
       "      <td>2</td>\n",
       "      <td>1</td>\n",
       "      <td>1</td>\n",
       "      <td>0</td>\n",
       "      <td>0</td>\n",
       "    </tr>\n",
       "    <tr>\n",
       "      <th>3</th>\n",
       "      <td>2020</td>\n",
       "      <td>20000</td>\n",
       "      <td>20000</td>\n",
       "      <td>0</td>\n",
       "      <td>1</td>\n",
       "      <td>0</td>\n",
       "      <td>1</td>\n",
       "      <td>2</td>\n",
       "      <td>2</td>\n",
       "    </tr>\n",
       "    <tr>\n",
       "      <th>4</th>\n",
       "      <td>2020</td>\n",
       "      <td>150000</td>\n",
       "      <td>150000</td>\n",
       "      <td>1</td>\n",
       "      <td>2</td>\n",
       "      <td>2</td>\n",
       "      <td>1</td>\n",
       "      <td>2</td>\n",
       "      <td>2</td>\n",
       "    </tr>\n",
       "  </tbody>\n",
       "</table>\n",
       "</div>"
      ],
      "text/plain": [
       "   work_year  salary  salary_in_usd  remote_ratio  experience_levelN  \\\n",
       "0       2020   70000          79833             0                  1   \n",
       "1       2020  260000         260000             0                  2   \n",
       "2       2020   85000         109024             1                  2   \n",
       "3       2020   20000          20000             0                  1   \n",
       "4       2020  150000         150000             1                  2   \n",
       "\n",
       "   company_sizeN  employment_typeN  employee_continentN  company_continentN  \n",
       "0              2                 1                    0                   0  \n",
       "1              0                 1                    1                   1  \n",
       "2              1                 1                    0                   0  \n",
       "3              0                 1                    2                   2  \n",
       "4              2                 1                    2                   2  "
      ]
     },
     "execution_count": 4,
     "metadata": {},
     "output_type": "execute_result"
    }
   ],
   "source": [
    "dsdata = pd.read_csv('new_ds_salaries.csv')\n",
    "ds_new = dsdata.copy()\n",
    "\n",
    "# Exploring the numeric data in hr_data\n",
    "ds_num = ds_new.select_dtypes(['int64', 'float64']).copy()\n",
    "ds_num.head()\n"
   ]
  },
  {
   "cell_type": "code",
   "execution_count": 8,
   "id": "fcddf910",
   "metadata": {},
   "outputs": [
    {
     "data": {
      "text/plain": [
       "array(['low', 'low-mid', 'low-mid', 'low', 'low', 'low', 'low-mid',\n",
       "       'low-mid', 'low-mid', 'low-mid', 'low-mid', 'low', 'low', 'low',\n",
       "       'low', 'low-mid', 'low-mid', 'low-mid', 'low', 'low', 'low-mid',\n",
       "       'low-mid', 'low', 'low-mid', 'low', 'low-mid', 'low-mid',\n",
       "       'low-mid', 'low-mid', 'low-mid', 'mid', 'low-mid', 'low',\n",
       "       'low-mid', 'mid', 'low-mid', 'low', 'low', 'low', 'low-mid', 'low',\n",
       "       'low-mid', 'low-mid', 'mid', 'low', 'low-mid', 'low-mid',\n",
       "       'low-mid', 'low', 'low-mid', 'low-mid', 'mid', 'low-mid', 'low',\n",
       "       'low-mid', 'low-mid', 'low-mid', 'low-mid', 'low-mid', 'low-mid',\n",
       "       'low-mid', 'low-mid', 'low-mid', 'low-mid', 'low-mid', 'low',\n",
       "       'mid-high', 'low-mid', 'low-mid', 'low-mid', 'low-mid', 'low',\n",
       "       'low-mid', 'low-mid', 'low-mid', 'low', 'mid', 'low-mid',\n",
       "       'low-mid', 'low-mid', 'low', 'low-mid', 'low-mid', 'low-mid',\n",
       "       'low-mid', 'low-mid', 'low-mid', 'low-mid', 'low', 'low',\n",
       "       'low-mid', 'low-mid', 'low-mid', 'mid', 'low', 'low-mid',\n",
       "       'low-mid', 'mid', 'mid', 'mid', 'low-mid', 'low', 'low', 'low-mid',\n",
       "       'low-mid', 'low', 'low-mid', 'low-mid', 'low-mid', 'low',\n",
       "       'low-mid', 'low-mid', 'low-mid', 'low', 'low', 'low-mid',\n",
       "       'low-mid', 'low-mid', 'low-mid', 'low-mid', 'low-mid', 'low-mid'],\n",
       "      dtype=object)"
      ]
     },
     "execution_count": 8,
     "metadata": {},
     "output_type": "execute_result"
    }
   ],
   "source": [
    "from sklearn.linear_model import LogisticRegression\n",
    "\n",
    "X = ds_num.drop([\"work_year\", \"salary\", \"salary_in_usd\"], axis = 1)\n",
    "Y = dsdata[\"salary_group\"]\n",
    "\n",
    "X_train, X_test, Y_train, Y_test = train_test_split(X, Y, test_size=0.2, random_state=48)\n",
    "logreg =  LogisticRegression(solver='liblinear') \n",
    "logreg.fit(X_train,Y_train) \n",
    "\n",
    "Y_pred=logreg.predict(X_test) \n",
    "\n",
    "Y_pred "
   ]
  },
  {
   "cell_type": "code",
   "execution_count": 9,
   "id": "56a6582f",
   "metadata": {},
   "outputs": [
    {
     "name": "stdout",
     "output_type": "stream",
     "text": [
      "Accuracy: 0.47540983606557374\n"
     ]
    }
   ],
   "source": [
    "print(\"Accuracy:\",accuracy_score(Y_test, Y_pred)) "
   ]
  },
  {
   "cell_type": "code",
   "execution_count": 11,
   "id": "f00ab427",
   "metadata": {},
   "outputs": [
    {
     "data": {
      "text/plain": [
       "array([[ 0,  0,  2,  0,  0,  0],\n",
       "       [ 0, 23, 17,  0,  0,  0],\n",
       "       [ 0, 10, 29,  2,  0,  0],\n",
       "       [ 0,  0, 22,  6,  1,  0],\n",
       "       [ 0,  0,  8,  0,  0,  0],\n",
       "       [ 0,  0,  1,  1,  0,  0]], dtype=int64)"
      ]
     },
     "execution_count": 11,
     "metadata": {},
     "output_type": "execute_result"
    }
   ],
   "source": [
    "cnf_matrix = confusion_matrix(Y_test, Y_pred) \n",
    "\n",
    "cnf_matrix "
   ]
  },
  {
   "cell_type": "code",
   "execution_count": 12,
   "id": "ef91cdc3",
   "metadata": {},
   "outputs": [
    {
     "data": {
      "text/plain": [
       "Text(0.5, 427.9555555555555, 'Predicted label')"
      ]
     },
     "execution_count": 12,
     "metadata": {},
     "output_type": "execute_result"
    },
    {
     "data": {
      "image/png": "[encoded data removed]",
      "text/plain": [
       "<Figure size 640x480 with 2 Axes>"
      ]
     },
     "metadata": {},
     "output_type": "display_data"
    }
   ],
   "source": [
    "class_names=[0,1] # name  of classes \n",
    "\n",
    "fig, ax = plt.subplots() \n",
    "\n",
    "tick_marks = np.arange(len(class_names)) \n",
    "\n",
    "plt.xticks(tick_marks, class_names) \n",
    "\n",
    "plt.yticks(tick_marks, class_names) \n",
    "\n",
    "# create heatmap \n",
    "sb.heatmap(pd.DataFrame(cnf_matrix), annot=True, cmap=\"YlGnBu\" ,fmt='g') \n",
    "\n",
    "ax.xaxis.set_label_position(\"top\") \n",
    "\n",
    "plt.tight_layout() \n",
    "\n",
    "plt.title('Confusion matrix', y=1.1) \n",
    "\n",
    "plt.ylabel('Actual label') \n",
    "\n",
    "plt.xlabel('Predicted label')"
   ]
  },
  {
   "cell_type": "code",
   "execution_count": null,
   "id": "732d27e0",
   "metadata": {},
   "outputs": [],
   "source": []
  }
 ],
 "metadata": {
  "kernelspec": {
   "display_name": "Python 3 (ipykernel)",
   "language": "python",
   "name": "python3"
  },
  "language_info": {
   "codemirror_mode": {
    "name": "ipython",
    "version": 3
   },
   "file_extension": ".py",
   "mimetype": "text/x-python",
   "name": "python",
   "nbconvert_exporter": "python",
   "pygments_lexer": "ipython3",
   "version": "3.9.13"
  }
 },
 "nbformat": 4,
 "nbformat_minor": 5
}
