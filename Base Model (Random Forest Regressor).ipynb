{
 "cells": [
  {
   "cell_type": "markdown",
   "id": "3f95ec5b",
   "metadata": {},
   "source": [
    "# Base Model\n",
    "## 1.0. Random Forest Regressor"
   ]
  },
  {
   "cell_type": "code",
   "execution_count": 1,
   "id": "81631bde",
   "metadata": {},
   "outputs": [],
   "source": [
    "# Basic Libraries\n",
    "import numpy as np\n",
    "import pandas as pd\n",
    "import seaborn as sb\n",
    "import collections\n",
    "from scipy import stats\n",
    "import matplotlib.pyplot as plt # we only need pyplot\n",
    "sb.set() # set the default Seaborn style for graphics\n",
    "from sklearn.model_selection import train_test_split\n",
    "from math import sqrt\n",
    "from datetime import datetime, timedelta\n",
    "# Import Decision Tree Classifier model from Scikit-Learn\n",
    "from sklearn.tree import DecisionTreeClassifier\n",
    "# Plot the trained Decision Tree\n",
    "from sklearn.tree import plot_tree\n",
    "# for plotting confusion matrix\n",
    "from sklearn.metrics import confusion_matrix\n",
    "from collections import Counter\n",
    "\n",
    "\n",
    "from sklearn.model_selection import GridSearchCV\n",
    "from sklearn import tree\n",
    "from sklearn.neural_network import MLPClassifier\n",
    "from sklearn.metrics import mean_squared_error\n",
    "from sklearn.tree import DecisionTreeClassifier\n",
    "from sklearn. ensemble import RandomForestClassifier, RandomForestRegressor, BaggingClassifier, AdaBoostClassifier, VotingClassifier\n",
    "from sklearn.metrics import accuracy_score\n",
    "from sklearn.svm import SVC, SVR\n",
    "from sklearn.model_selection import cross_val_score, cross_validate"
   ]
  },
  {
   "cell_type": "code",
   "execution_count": 2,
   "id": "9ad5fb3d",
   "metadata": {},
   "outputs": [
    {
     "data": {
      "text/html": [
       "<div>\n",
       "<style scoped>\n",
       "    .dataframe tbody tr th:only-of-type {\n",
       "        vertical-align: middle;\n",
       "    }\n",
       "\n",
       "    .dataframe tbody tr th {\n",
       "        vertical-align: top;\n",
       "    }\n",
       "\n",
       "    .dataframe thead th {\n",
       "        text-align: right;\n",
       "    }\n",
       "</style>\n",
       "<table border=\"1\" class=\"dataframe\">\n",
       "  <thead>\n",
       "    <tr style=\"text-align: right;\">\n",
       "      <th></th>\n",
       "      <th>work_year</th>\n",
       "      <th>salary</th>\n",
       "      <th>salary_in_usd</th>\n",
       "      <th>remote_ratio</th>\n",
       "      <th>compare_avr_salary</th>\n",
       "      <th>experience_levelN</th>\n",
       "      <th>company_sizeN</th>\n",
       "      <th>employment_typeN</th>\n",
       "      <th>employee_continentN</th>\n",
       "      <th>company_continentN</th>\n",
       "    </tr>\n",
       "  </thead>\n",
       "  <tbody>\n",
       "    <tr>\n",
       "      <th>0</th>\n",
       "      <td>2020</td>\n",
       "      <td>70000</td>\n",
       "      <td>79833</td>\n",
       "      <td>0</td>\n",
       "      <td>1</td>\n",
       "      <td>1</td>\n",
       "      <td>2</td>\n",
       "      <td>1</td>\n",
       "      <td>0</td>\n",
       "      <td>0</td>\n",
       "    </tr>\n",
       "    <tr>\n",
       "      <th>1</th>\n",
       "      <td>2020</td>\n",
       "      <td>260000</td>\n",
       "      <td>260000</td>\n",
       "      <td>0</td>\n",
       "      <td>1</td>\n",
       "      <td>2</td>\n",
       "      <td>0</td>\n",
       "      <td>1</td>\n",
       "      <td>1</td>\n",
       "      <td>1</td>\n",
       "    </tr>\n",
       "    <tr>\n",
       "      <th>2</th>\n",
       "      <td>2020</td>\n",
       "      <td>85000</td>\n",
       "      <td>109024</td>\n",
       "      <td>1</td>\n",
       "      <td>1</td>\n",
       "      <td>2</td>\n",
       "      <td>1</td>\n",
       "      <td>1</td>\n",
       "      <td>0</td>\n",
       "      <td>0</td>\n",
       "    </tr>\n",
       "    <tr>\n",
       "      <th>3</th>\n",
       "      <td>2020</td>\n",
       "      <td>20000</td>\n",
       "      <td>20000</td>\n",
       "      <td>0</td>\n",
       "      <td>0</td>\n",
       "      <td>1</td>\n",
       "      <td>0</td>\n",
       "      <td>1</td>\n",
       "      <td>2</td>\n",
       "      <td>2</td>\n",
       "    </tr>\n",
       "    <tr>\n",
       "      <th>4</th>\n",
       "      <td>2020</td>\n",
       "      <td>150000</td>\n",
       "      <td>150000</td>\n",
       "      <td>1</td>\n",
       "      <td>1</td>\n",
       "      <td>2</td>\n",
       "      <td>2</td>\n",
       "      <td>1</td>\n",
       "      <td>2</td>\n",
       "      <td>2</td>\n",
       "    </tr>\n",
       "  </tbody>\n",
       "</table>\n",
       "</div>"
      ],
      "text/plain": [
       "   work_year  salary  salary_in_usd  remote_ratio  compare_avr_salary  \\\n",
       "0       2020   70000          79833             0                   1   \n",
       "1       2020  260000         260000             0                   1   \n",
       "2       2020   85000         109024             1                   1   \n",
       "3       2020   20000          20000             0                   0   \n",
       "4       2020  150000         150000             1                   1   \n",
       "\n",
       "   experience_levelN  company_sizeN  employment_typeN  employee_continentN  \\\n",
       "0                  1              2                 1                    0   \n",
       "1                  2              0                 1                    1   \n",
       "2                  2              1                 1                    0   \n",
       "3                  1              0                 1                    2   \n",
       "4                  2              2                 1                    2   \n",
       "\n",
       "   company_continentN  \n",
       "0                   0  \n",
       "1                   1  \n",
       "2                   0  \n",
       "3                   2  \n",
       "4                   2  "
      ]
     },
     "execution_count": 2,
     "metadata": {},
     "output_type": "execute_result"
    }
   ],
   "source": [
    "dsdata = pd.read_csv('new_ds_salaries.csv')\n",
    "ds_new = dsdata.copy()\n",
    "\n",
    "# Exploring the numeric data in hr_data\n",
    "ds_num = ds_new.select_dtypes(['int64', 'float64']).copy()\n",
    "ds_num.head()\n"
   ]
  },
  {
   "cell_type": "markdown",
   "id": "3f138a51",
   "metadata": {},
   "source": [
    "### 1.1. Define Model Inputs (X) & Output (y)"
   ]
  },
  {
   "cell_type": "code",
   "execution_count": 3,
   "id": "680fc11c",
   "metadata": {},
   "outputs": [],
   "source": [
    "X = ds_num.drop(['salary_in_usd', 'work_year', 'salary', 'compare_avr_salary'], axis=1)\n",
    "y = ds_num['salary_in_usd']"
   ]
  },
  {
   "cell_type": "markdown",
   "id": "0cd86853",
   "metadata": {},
   "source": [
    "### 1.2. Split data by 70% to 30% Training & Testing respectively"
   ]
  },
  {
   "cell_type": "code",
   "execution_count": 4,
   "id": "a767f4ef",
   "metadata": {},
   "outputs": [],
   "source": [
    "X_train, X_test, y_train, y_test = train_test_split(X, y, test_size=0.3, random_state=1)"
   ]
  },
  {
   "cell_type": "markdown",
   "id": "76ce2c9b",
   "metadata": {},
   "source": [
    "### 1.3. Create Random Forest Model"
   ]
  },
  {
   "cell_type": "code",
   "execution_count": 5,
   "id": "32b43132",
   "metadata": {},
   "outputs": [
    {
     "data": {
      "text/plain": [
       "RandomForestRegressor(max_depth=40, n_estimators=10)"
      ]
     },
     "execution_count": 5,
     "metadata": {},
     "output_type": "execute_result"
    }
   ],
   "source": [
    "rf = RandomForestRegressor(n_estimators = 10, max_depth=40)\n",
    "rf.fit(X_train, y_train)"
   ]
  },
  {
   "cell_type": "markdown",
   "id": "daf746c7",
   "metadata": {},
   "source": [
    "### 1.4. Evaluating the Random Forest Model"
   ]
  },
  {
   "cell_type": "code",
   "execution_count": 6,
   "id": "22699889",
   "metadata": {},
   "outputs": [
    {
     "name": "stdout",
     "output_type": "stream",
     "text": [
      "Training Root Mean Squared Error is:  47617.37275896229\n",
      "Testing Root Mean Squared Error is:  49938.088452638614\n"
     ]
    }
   ],
   "source": [
    "# Training MSE\n",
    "train_mse = sqrt(mean_squared_error(rf.predict(X_train), y_train))\n",
    "print('Training Root Mean Squared Error is: ', train_mse)\n",
    "\n",
    "# testing MSE\n",
    "test_mse = sqrt(mean_squared_error(rf.predict(X_test), y_test))\n",
    "print('Testing Root Mean Squared Error is: ',test_mse)"
   ]
  },
  {
   "cell_type": "code",
   "execution_count": 7,
   "id": "55fee180",
   "metadata": {},
   "outputs": [
    {
     "name": "stdout",
     "output_type": "stream",
     "text": [
      "Training R^2 value is:  0.5795200461310515\n",
      "Testing R^2 value is:  0.4031436821337606\n"
     ]
    }
   ],
   "source": [
    "train_R2 = rf.score(X_train, y_train)\n",
    "print('Training R^2 value is: ', train_R2)\n",
    "test_R2 = rf.score(X_test, y_test)\n",
    "print('Testing R^2 value is: ', test_R2)"
   ]
  },
  {
   "cell_type": "markdown",
   "id": "567e45f0",
   "metadata": {},
   "source": [
    "### 1.5. Using K-Fold Cross Validation to see if it will improve the accuracy on the Random Forest Regressor model"
   ]
  },
  {
   "cell_type": "code",
   "execution_count": 8,
   "id": "e2c53459",
   "metadata": {},
   "outputs": [],
   "source": [
    "# Evaluate the Model using K-folds Cross validation\n",
    "results = cross_validate(rf, X, y, scoring='neg_mean_squared_error', cv=5, return_train_score = True)"
   ]
  },
  {
   "cell_type": "code",
   "execution_count": 9,
   "id": "8281179d",
   "metadata": {},
   "outputs": [
    {
     "name": "stdout",
     "output_type": "stream",
     "text": [
      "Cross Validation Training Root mean_squared_error is: 45730.15056080882\n",
      "Cross Validation Testing Root mean_squared_error is: 58317.47473933899\n"
     ]
    }
   ],
   "source": [
    "print('Cross Validation Training Root mean_squared_error is:', sqrt(sum(-results['train_score'])/len(results['train_score'])))\n",
    "print('Cross Validation Testing Root mean_squared_error is:', sqrt(sum(-results['test_score'])/len(results['test_score'])))"
   ]
  },
  {
   "cell_type": "markdown",
   "id": "123f19eb",
   "metadata": {},
   "source": [
    "### 1.6. Performing Gridsearch to select best Hyperparameters of Random Forest Model"
   ]
  },
  {
   "cell_type": "code",
   "execution_count": 10,
   "id": "eb9915f2",
   "metadata": {},
   "outputs": [
    {
     "name": "stdout",
     "output_type": "stream",
     "text": [
      "-3100732567.245185\n",
      "{'criterion': 'squared_error', 'max_depth': 40, 'min_samples_leaf': 15, 'min_samples_split': 16}\n"
     ]
    }
   ],
   "source": [
    "param_grid = { \"criterion\" : [\"squared_error\", \"absolute_error\", \"friedman_mse\", \"poisson\"],\n",
    "                 \"min_samples_leaf\" : [15, 20, 25],\n",
    "                 \"min_samples_split\" : [16, 22, 26],\n",
    "                 'max_depth' : [40,45,50]}\n",
    "gs = GridSearchCV(rf, param_grid=param_grid, scoring='neg_mean_squared_error', cv= 10, n_jobs=-1)\n",
    "gs = gs.fit(X, y)\n",
    "print(gs.best_score_)\n",
    "print(gs.best_params_)"
   ]
  },
  {
   "cell_type": "markdown",
   "id": "0ecfb09c",
   "metadata": {},
   "source": [
    "### 1.7. Create Random Forest Regressor Model with Best Hyperparameters"
   ]
  },
  {
   "cell_type": "code",
   "execution_count": 11,
   "id": "b0e7074b",
   "metadata": {},
   "outputs": [
    {
     "data": {
      "text/plain": [
       "RandomForestRegressor(max_depth=50, min_samples_leaf=15, min_samples_split=16)"
      ]
     },
     "execution_count": 11,
     "metadata": {},
     "output_type": "execute_result"
    }
   ],
   "source": [
    "rf_new = RandomForestRegressor(criterion='squared_error', max_depth = 50, min_samples_leaf = 15, min_samples_split= 16)\n",
    "rf_new.fit(X_train, y_train)"
   ]
  },
  {
   "cell_type": "markdown",
   "id": "6d36c189",
   "metadata": {},
   "source": [
    "### 1.8. Evaluating improved Random Forest Model"
   ]
  },
  {
   "cell_type": "code",
   "execution_count": 12,
   "id": "0be792af",
   "metadata": {},
   "outputs": [
    {
     "name": "stdout",
     "output_type": "stream",
     "text": [
      "Training Root Mean Squared Error is:  47617.37275896229\n",
      "Testing Root Mean Squared Error is:  49938.088452638614\n"
     ]
    }
   ],
   "source": [
    "# Training MSE\n",
    "new_train_mse = sqrt(mean_squared_error(rf_new.predict(X_train), y_train))\n",
    "print('Training Root Mean Squared Error is: ', train_mse)\n",
    "\n",
    "# testing MSE\n",
    "new_test_mse = sqrt(mean_squared_error(rf_new.predict(X_test), y_test))\n",
    "print('Testing Root Mean Squared Error is: ',test_mse)"
   ]
  },
  {
   "cell_type": "code",
   "execution_count": 13,
   "id": "3604b8ba",
   "metadata": {},
   "outputs": [
    {
     "name": "stdout",
     "output_type": "stream",
     "text": [
      "New Training R^2 value is:  0.36723466752000233\n",
      "New Testing R^2 value is:  0.47141218868773327\n"
     ]
    }
   ],
   "source": [
    "train_R2_new = rf_new.score(X_train, y_train)\n",
    "print('New Training R^2 value is: ', train_R2_new)\n",
    "test_R2_new = rf_new.score(X_test, y_test)\n",
    "print('New Testing R^2 value is: ', test_R2_new)"
   ]
  },
  {
   "cell_type": "markdown",
   "id": "3db1d1ed",
   "metadata": {},
   "source": [
    "### 1.9. Using K-Fold Cross Validation to see if it will improve accuracy on improved Random Forest Model"
   ]
  },
  {
   "cell_type": "code",
   "execution_count": 14,
   "id": "63b105fd",
   "metadata": {},
   "outputs": [
    {
     "name": "stdout",
     "output_type": "stream",
     "text": [
      "New Train_score:  [-2.70284668e+09 -2.94687573e+09 -3.00301963e+09 -3.17745283e+09\n",
      " -3.02494673e+09]\n",
      "New Test_score:  [-4.43982739e+09 -3.70446499e+09 -2.88866509e+09 -2.09857826e+09\n",
      " -2.87917506e+09]\n"
     ]
    }
   ],
   "source": [
    "# Evaluate the Model using K-folds Cross validation\n",
    "new_results = cross_validate(rf_new, X, y, scoring='neg_mean_squared_error', cv=5, return_train_score = True)\n",
    "print('New Train_score: ', new_results['train_score'])\n",
    "print('New Test_score: ', new_results['test_score'])"
   ]
  },
  {
   "cell_type": "code",
   "execution_count": 15,
   "id": "9bf5ef7a",
   "metadata": {},
   "outputs": [
    {
     "name": "stdout",
     "output_type": "stream",
     "text": [
      "Cross Validation Training Root mean_squared_error is: 54507.14010406778\n",
      "Cross Validation Testing Root mean_squared_error is: 56587.47352732548\n"
     ]
    }
   ],
   "source": [
    "print('Cross Validation Training Root mean_squared_error is:', sqrt(sum(-new_results['train_score'])/len(new_results['train_score'])))\n",
    "print('Cross Validation Testing Root mean_squared_error is:', sqrt(sum(-new_results['test_score'])/len(new_results['test_score'])))"
   ]
  },
  {
   "cell_type": "markdown",
   "id": "6e313d1a",
   "metadata": {},
   "source": [
    "### 1.10. Summary"
   ]
  },
  {
   "cell_type": "code",
   "execution_count": 16,
   "id": "4ffe5ea5",
   "metadata": {},
   "outputs": [
    {
     "name": "stdout",
     "output_type": "stream",
     "text": [
      "**Current Model of Random Forest**\n",
      "RMSE Values\n",
      "---Before---\n",
      "Training Root Mean Squared Error is:  47617.37275896229\n",
      "Testing Root Mean Squared Error is:  49938.088452638614\n",
      "Cross Validation Training Root mean_squared_error is: 45730.15056080882\n",
      "Cross Validation Testing Root mean_squared_error is: 58317.47473933899\n",
      "\n",
      "---After---\n",
      "Training Root Mean Squared Error is:  58413.619941536606\n",
      "Testing Root Mean Squared Error is:  46995.425799437304\n",
      "Cross Validation Training Root mean_squared_error is: 54507.14010406778\n",
      "Cross Validation Testing Root mean_squared_error is: 56587.47352732548\n",
      "\n",
      "Accuracy\n",
      "---Before---\n",
      "Training R^2 value is:  0.5795200461310515\n",
      "Testing R^2 value is:  0.4031436821337606\n",
      "\n",
      "---After---\n",
      "New Training R^2 value is:  0.36723466752000233\n",
      "New Testing R^2 value is:  0.47141218868773327\n"
     ]
    }
   ],
   "source": [
    "print(\"**Current Model of Random Forest**\")\n",
    "print(\"RMSE Values\")\n",
    "print(\"---Before---\")\n",
    "# training and test mse\n",
    "print('Training Root Mean Squared Error is: ', train_mse)\n",
    "print('Testing Root Mean Squared Error is: ',test_mse)\n",
    "# cross validation of train, test mse\n",
    "print('Cross Validation Training Root mean_squared_error is:', sqrt(sum(-results['train_score'])/len(results['train_score'])))\n",
    "print('Cross Validation Testing Root mean_squared_error is:', sqrt(sum(-results['test_score'])/len(results['test_score'])))\n",
    "print()\n",
    "print(\"---After---\")\n",
    "print('Training Root Mean Squared Error is: ', new_train_mse)\n",
    "print('Testing Root Mean Squared Error is: ', new_test_mse)\n",
    "print('Cross Validation Training Root mean_squared_error is:', sqrt(sum(-new_results['train_score'])/len(new_results['train_score'])))\n",
    "print('Cross Validation Testing Root mean_squared_error is:', sqrt(sum(-new_results['test_score'])/len(new_results['test_score'])))\n",
    "\n",
    "\n",
    "print()\n",
    "print(\"Accuracy\")\n",
    "print(\"---Before---\")\n",
    "print('Training R^2 value is: ', train_R2)\n",
    "print('Testing R^2 value is: ', test_R2)\n",
    "print()\n",
    "print(\"---After---\")\n",
    "print('New Training R^2 value is: ', rf_new.score(X_train, y_train))\n",
    "print('New Testing R^2 value is: ', rf_new.score(X_test, y_test))"
   ]
  },
  {
   "cell_type": "markdown",
   "id": "ad52066b",
   "metadata": {},
   "source": [
    "### 1.11 Overview"
   ]
  },
  {
   "cell_type": "markdown",
   "id": "aadf1f91",
   "metadata": {},
   "source": [
    "- Earlier it can be seen that the cross validation of the RMSE is much higher and is not as accurate as it was before \n",
    "- After applying the best hyperparameters and refitting the Random Forest Regressor Model\n",
    "- It can be seen that the RMSE has decreased and Training RMSE is much closer to Testing RMSE as compared to before\n",
    "\n",
    "---\n",
    "- Now Comparing the R^2 values before selecting the best hyperparameters, it seems that the R^2 value is not correctly reflecting as the `Training R^2 value` is much higher than the `Testing R^2 value`.\n",
    "\n",
    "- After Selecting `Best Hyperparameters` and Applying `K-Fold Cross Validation`, we can see that the R^2 is more realistic now as the `Training R^2 value` is much lower than the `Testing R^2 value`. And the overall performance on the `Test R^2 value` has increased from selecting the `best hyperparameters` and using `K-Fold Cross Validation`"
   ]
  },
  {
   "cell_type": "code",
   "execution_count": null,
   "id": "f2516633",
   "metadata": {},
   "outputs": [],
   "source": []
  }
 ],
 "metadata": {
  "kernelspec": {
   "display_name": "Python 3 (ipykernel)",
   "language": "python",
   "name": "python3"
  },
  "language_info": {
   "codemirror_mode": {
    "name": "ipython",
    "version": 3
   },
   "file_extension": ".py",
   "mimetype": "text/x-python",
   "name": "python",
   "nbconvert_exporter": "python",
   "pygments_lexer": "ipython3",
   "version": "3.9.13"
  }
 },
 "nbformat": 4,
 "nbformat_minor": 5
}
