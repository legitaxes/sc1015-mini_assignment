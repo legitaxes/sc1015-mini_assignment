{
 "cells": [
  {
   "cell_type": "markdown",
   "id": "a0800110",
   "metadata": {},
   "source": [
    "# Mini Project - Job Salaries Dataset"
   ]
  },
  {
   "cell_type": "code",
   "execution_count": 2,
   "id": "74c2d317",
   "metadata": {},
   "outputs": [],
   "source": [
    "# Basic Libraries\n",
    "import numpy as np\n",
    "import pandas as pd\n",
    "import seaborn as sb\n",
    "from scipy import stats\n",
    "import matplotlib.pyplot as plt # we only need pyplot\n",
    "sb.set() # set the default Seaborn style for graphics\n",
    "from sklearn.model_selection import train_test_split\n",
    "\n",
    "# Import Decision Tree Classifier model from Scikit-Learn\n",
    "from sklearn.tree import DecisionTreeClassifier\n",
    "# Plot the trained Decision Tree\n",
    "from sklearn.tree import plot_tree\n",
    "# for plotting confusion matrix\n",
    "from sklearn.metrics import confusion_matrix\n",
    "from collections import Counter\n",
    "import collections"
   ]
  },
  {
   "cell_type": "markdown",
   "id": "c5392909",
   "metadata": {},
   "source": [
    "## EDA - Exploring Data Variables"
   ]
  },
  {
   "cell_type": "code",
   "execution_count": 3,
   "id": "97da888b",
   "metadata": {},
   "outputs": [
    {
     "data": {
      "text/html": [
       "<div>\n",
       "<style scoped>\n",
       "    .dataframe tbody tr th:only-of-type {\n",
       "        vertical-align: middle;\n",
       "    }\n",
       "\n",
       "    .dataframe tbody tr th {\n",
       "        vertical-align: top;\n",
       "    }\n",
       "\n",
       "    .dataframe thead th {\n",
       "        text-align: right;\n",
       "    }\n",
       "</style>\n",
       "<table border=\"1\" class=\"dataframe\">\n",
       "  <thead>\n",
       "    <tr style=\"text-align: right;\">\n",
       "      <th></th>\n",
       "      <th>Index</th>\n",
       "      <th>work_year</th>\n",
       "      <th>experience_level</th>\n",
       "      <th>employment_type</th>\n",
       "      <th>job_title</th>\n",
       "      <th>salary</th>\n",
       "      <th>salary_currency</th>\n",
       "      <th>salary_in_usd</th>\n",
       "      <th>employee_residence</th>\n",
       "      <th>remote_ratio</th>\n",
       "      <th>company_location</th>\n",
       "      <th>company_size</th>\n",
       "    </tr>\n",
       "  </thead>\n",
       "  <tbody>\n",
       "    <tr>\n",
       "      <th>0</th>\n",
       "      <td>0</td>\n",
       "      <td>2020</td>\n",
       "      <td>MI</td>\n",
       "      <td>FT</td>\n",
       "      <td>Data Scientist</td>\n",
       "      <td>70000</td>\n",
       "      <td>EUR</td>\n",
       "      <td>79833</td>\n",
       "      <td>DE</td>\n",
       "      <td>0</td>\n",
       "      <td>DE</td>\n",
       "      <td>L</td>\n",
       "    </tr>\n",
       "    <tr>\n",
       "      <th>1</th>\n",
       "      <td>1</td>\n",
       "      <td>2020</td>\n",
       "      <td>SE</td>\n",
       "      <td>FT</td>\n",
       "      <td>Machine Learning Scientist</td>\n",
       "      <td>260000</td>\n",
       "      <td>USD</td>\n",
       "      <td>260000</td>\n",
       "      <td>JP</td>\n",
       "      <td>0</td>\n",
       "      <td>JP</td>\n",
       "      <td>S</td>\n",
       "    </tr>\n",
       "    <tr>\n",
       "      <th>2</th>\n",
       "      <td>2</td>\n",
       "      <td>2020</td>\n",
       "      <td>SE</td>\n",
       "      <td>FT</td>\n",
       "      <td>Big Data Engineer</td>\n",
       "      <td>85000</td>\n",
       "      <td>GBP</td>\n",
       "      <td>109024</td>\n",
       "      <td>GB</td>\n",
       "      <td>50</td>\n",
       "      <td>GB</td>\n",
       "      <td>M</td>\n",
       "    </tr>\n",
       "    <tr>\n",
       "      <th>3</th>\n",
       "      <td>3</td>\n",
       "      <td>2020</td>\n",
       "      <td>MI</td>\n",
       "      <td>FT</td>\n",
       "      <td>Product Data Analyst</td>\n",
       "      <td>20000</td>\n",
       "      <td>USD</td>\n",
       "      <td>20000</td>\n",
       "      <td>HN</td>\n",
       "      <td>0</td>\n",
       "      <td>HN</td>\n",
       "      <td>S</td>\n",
       "    </tr>\n",
       "    <tr>\n",
       "      <th>4</th>\n",
       "      <td>4</td>\n",
       "      <td>2020</td>\n",
       "      <td>SE</td>\n",
       "      <td>FT</td>\n",
       "      <td>Machine Learning Engineer</td>\n",
       "      <td>150000</td>\n",
       "      <td>USD</td>\n",
       "      <td>150000</td>\n",
       "      <td>US</td>\n",
       "      <td>50</td>\n",
       "      <td>US</td>\n",
       "      <td>L</td>\n",
       "    </tr>\n",
       "  </tbody>\n",
       "</table>\n",
       "</div>"
      ],
      "text/plain": [
       "   Index  work_year experience_level employment_type  \\\n",
       "0      0       2020               MI              FT   \n",
       "1      1       2020               SE              FT   \n",
       "2      2       2020               SE              FT   \n",
       "3      3       2020               MI              FT   \n",
       "4      4       2020               SE              FT   \n",
       "\n",
       "                    job_title  salary salary_currency  salary_in_usd  \\\n",
       "0              Data Scientist   70000             EUR          79833   \n",
       "1  Machine Learning Scientist  260000             USD         260000   \n",
       "2           Big Data Engineer   85000             GBP         109024   \n",
       "3        Product Data Analyst   20000             USD          20000   \n",
       "4   Machine Learning Engineer  150000             USD         150000   \n",
       "\n",
       "  employee_residence  remote_ratio company_location company_size  \n",
       "0                 DE             0               DE            L  \n",
       "1                 JP             0               JP            S  \n",
       "2                 GB            50               GB            M  \n",
       "3                 HN             0               HN            S  \n",
       "4                 US            50               US            L  "
      ]
     },
     "execution_count": 3,
     "metadata": {},
     "output_type": "execute_result"
    }
   ],
   "source": [
    "dsdata = pd.read_csv('ds_salaries.csv')\n",
    "dsdata.rename(columns={'Unnamed: 0': 'Index'}, inplace=True)\n",
    "dsdata.head()"
   ]
  },
  {
   "cell_type": "code",
   "execution_count": 3,
   "id": "8a8e52cd",
   "metadata": {},
   "outputs": [
    {
     "data": {
      "text/html": [
       "<div>\n",
       "<style scoped>\n",
       "    .dataframe tbody tr th:only-of-type {\n",
       "        vertical-align: middle;\n",
       "    }\n",
       "\n",
       "    .dataframe tbody tr th {\n",
       "        vertical-align: top;\n",
       "    }\n",
       "\n",
       "    .dataframe thead th {\n",
       "        text-align: right;\n",
       "    }\n",
       "</style>\n",
       "<table border=\"1\" class=\"dataframe\">\n",
       "  <thead>\n",
       "    <tr style=\"text-align: right;\">\n",
       "      <th></th>\n",
       "      <th>Index</th>\n",
       "      <th>work_year</th>\n",
       "      <th>salary</th>\n",
       "      <th>salary_in_usd</th>\n",
       "      <th>remote_ratio</th>\n",
       "    </tr>\n",
       "  </thead>\n",
       "  <tbody>\n",
       "    <tr>\n",
       "      <th>count</th>\n",
       "      <td>607.000000</td>\n",
       "      <td>607.000000</td>\n",
       "      <td>6.070000e+02</td>\n",
       "      <td>607.000000</td>\n",
       "      <td>607.00000</td>\n",
       "    </tr>\n",
       "    <tr>\n",
       "      <th>mean</th>\n",
       "      <td>303.000000</td>\n",
       "      <td>2021.405272</td>\n",
       "      <td>3.240001e+05</td>\n",
       "      <td>112297.869852</td>\n",
       "      <td>70.92257</td>\n",
       "    </tr>\n",
       "    <tr>\n",
       "      <th>std</th>\n",
       "      <td>175.370085</td>\n",
       "      <td>0.692133</td>\n",
       "      <td>1.544357e+06</td>\n",
       "      <td>70957.259411</td>\n",
       "      <td>40.70913</td>\n",
       "    </tr>\n",
       "    <tr>\n",
       "      <th>min</th>\n",
       "      <td>0.000000</td>\n",
       "      <td>2020.000000</td>\n",
       "      <td>4.000000e+03</td>\n",
       "      <td>2859.000000</td>\n",
       "      <td>0.00000</td>\n",
       "    </tr>\n",
       "    <tr>\n",
       "      <th>25%</th>\n",
       "      <td>151.500000</td>\n",
       "      <td>2021.000000</td>\n",
       "      <td>7.000000e+04</td>\n",
       "      <td>62726.000000</td>\n",
       "      <td>50.00000</td>\n",
       "    </tr>\n",
       "    <tr>\n",
       "      <th>50%</th>\n",
       "      <td>303.000000</td>\n",
       "      <td>2022.000000</td>\n",
       "      <td>1.150000e+05</td>\n",
       "      <td>101570.000000</td>\n",
       "      <td>100.00000</td>\n",
       "    </tr>\n",
       "    <tr>\n",
       "      <th>75%</th>\n",
       "      <td>454.500000</td>\n",
       "      <td>2022.000000</td>\n",
       "      <td>1.650000e+05</td>\n",
       "      <td>150000.000000</td>\n",
       "      <td>100.00000</td>\n",
       "    </tr>\n",
       "    <tr>\n",
       "      <th>max</th>\n",
       "      <td>606.000000</td>\n",
       "      <td>2022.000000</td>\n",
       "      <td>3.040000e+07</td>\n",
       "      <td>600000.000000</td>\n",
       "      <td>100.00000</td>\n",
       "    </tr>\n",
       "  </tbody>\n",
       "</table>\n",
       "</div>"
      ],
      "text/plain": [
       "            Index    work_year        salary  salary_in_usd  remote_ratio\n",
       "count  607.000000   607.000000  6.070000e+02     607.000000     607.00000\n",
       "mean   303.000000  2021.405272  3.240001e+05  112297.869852      70.92257\n",
       "std    175.370085     0.692133  1.544357e+06   70957.259411      40.70913\n",
       "min      0.000000  2020.000000  4.000000e+03    2859.000000       0.00000\n",
       "25%    151.500000  2021.000000  7.000000e+04   62726.000000      50.00000\n",
       "50%    303.000000  2022.000000  1.150000e+05  101570.000000     100.00000\n",
       "75%    454.500000  2022.000000  1.650000e+05  150000.000000     100.00000\n",
       "max    606.000000  2022.000000  3.040000e+07  600000.000000     100.00000"
      ]
     },
     "execution_count": 3,
     "metadata": {},
     "output_type": "execute_result"
    }
   ],
   "source": [
    "dsdata.describe()"
   ]
  },
  {
   "cell_type": "code",
   "execution_count": 4,
   "id": "271188e6",
   "metadata": {},
   "outputs": [
    {
     "name": "stdout",
     "output_type": "stream",
     "text": [
      "<class 'pandas.core.frame.DataFrame'>\n",
      "RangeIndex: 607 entries, 0 to 606\n",
      "Data columns (total 12 columns):\n",
      " #   Column              Non-Null Count  Dtype \n",
      "---  ------              --------------  ----- \n",
      " 0   Index               607 non-null    int64 \n",
      " 1   work_year           607 non-null    int64 \n",
      " 2   experience_level    607 non-null    object\n",
      " 3   employment_type     607 non-null    object\n",
      " 4   job_title           607 non-null    object\n",
      " 5   salary              607 non-null    int64 \n",
      " 6   salary_currency     607 non-null    object\n",
      " 7   salary_in_usd       607 non-null    int64 \n",
      " 8   employee_residence  607 non-null    object\n",
      " 9   remote_ratio        607 non-null    int64 \n",
      " 10  company_location    607 non-null    object\n",
      " 11  company_size        607 non-null    object\n",
      "dtypes: int64(5), object(7)\n",
      "memory usage: 57.0+ KB\n"
     ]
    }
   ],
   "source": [
    "dsdata.info()"
   ]
  },
  {
   "cell_type": "code",
   "execution_count": 5,
   "id": "c703903c",
   "metadata": {},
   "outputs": [
    {
     "data": {
      "text/plain": [
       "Index                 0\n",
       "work_year             0\n",
       "experience_level      0\n",
       "employment_type       0\n",
       "job_title             0\n",
       "salary                0\n",
       "salary_currency       0\n",
       "salary_in_usd         0\n",
       "employee_residence    0\n",
       "remote_ratio          0\n",
       "company_location      0\n",
       "company_size          0\n",
       "dtype: int64"
      ]
     },
     "execution_count": 5,
     "metadata": {},
     "output_type": "execute_result"
    }
   ],
   "source": [
    "dsdata.isna().sum()"
   ]
  },
  {
   "cell_type": "markdown",
   "id": "34bb7494",
   "metadata": {},
   "source": [
    "- We want to explore `salary_in_usd` of people working in different country based on the same job category they are in"
   ]
  },
  {
   "cell_type": "code",
   "execution_count": 42,
   "id": "9a92d549",
   "metadata": {},
   "outputs": [
    {
     "name": "stdout",
     "output_type": "stream",
     "text": [
      "EUR 79833 DE\n",
      "HUF 35735 HU\n",
      "EUR 51321 FR\n",
      "INR 40481 IN\n",
      "EUR 39916 FR\n",
      "EUR 68428 US\n",
      "USD 45760 US\n",
      "GBP 76958 GB\n",
      "USD 105000 US\n",
      "EUR 38776 ES\n",
      "USD 118000 US\n",
      "USD 120000 US\n",
      "USD 138350 US\n",
      "EUR 21669 IT\n",
      "USD 412000 US\n",
      "EUR 62726 DE\n",
      "EUR 49268 DE\n",
      "USD 105000 US\n",
      "EUR 91237 AT\n",
      "EUR 62726 LU\n",
      "EUR 42197 FR\n",
      "EUR 53192 FR\n",
      "INR 29751 IN\n",
      "USD 73000 US\n",
      "USD 50000 NG\n",
      "INR 9466 IN\n",
      "EUR 49646 FR\n",
      "USD 100000 US\n",
      "USD 80000 US\n",
      "USD 82500 US\n",
      "USD 150000 US\n",
      "CAD 75774 CA\n",
      "USD 13400 UA\n",
      "SGD 119059 IL\n",
      "MXN 2859 MX\n",
      "CLP 40038 CL\n",
      "INR 5679 US\n",
      "EUR 90734 DE\n",
      "USD 147000 US\n",
      "EUR 61467 AT\n",
      "EUR 37825 ES\n",
      "USD 160000 US\n",
      "BRL 12901 BR\n",
      "EUR 90734 DE\n",
      "GBP 116914 GB\n",
      "INR 33808 IN\n",
      "GBP 56256 GB\n",
      "CAD 87738 CA\n",
      "EUR 88654 DE\n",
      "USD 135000 US\n",
      "EUR 46809 ES\n",
      "USD 4000 VN\n",
      "CAD 103691 CA\n",
      "USD 165000 US\n",
      "EUR 36643 FR\n",
      "USD 115000 US\n",
      "USD 90000 US\n",
      "INR 28399 IN\n",
      "USD 130000 US\n",
      "INR 16904 IN\n",
      "EUR 25532 DE\n",
      "EUR 77684 FR\n",
      "USD 100000 US\n",
      "USD 58000 US\n",
      "TRY 20171 TR\n",
      "USD 109000 US\n",
      "USD 130000 US\n",
      "USD 90000 US\n",
      "USD 136620 US\n",
      "USD 99360 US\n",
      "GBP 117789 GB\n",
      "GBP 104702 GB\n",
      "USD 146000 US\n",
      "USD 123000 US\n",
      "GBP 65438 GB\n",
      "GBP 39263 GB\n",
      "USD 165220 US\n",
      "USD 120160 US\n",
      "USD 180000 US\n",
      "USD 120000 US\n"
     ]
    },
    {
     "name": "stderr",
     "output_type": "stream",
     "text": [
      "C:\\Users\\pohji\\AppData\\Local\\Temp\\ipykernel_24752\\982620487.py:6: FutureWarning: The frame.append method is deprecated and will be removed from pandas in a future version. Use pandas.concat instead.\n",
      "  dsdata2 = dsdata2.append(row, ignore_index = True)\n",
      "C:\\Users\\pohji\\AppData\\Local\\Temp\\ipykernel_24752\\982620487.py:6: FutureWarning: The frame.append method is deprecated and will be removed from pandas in a future version. Use pandas.concat instead.\n",
      "  dsdata2 = dsdata2.append(row, ignore_index = True)\n",
      "C:\\Users\\pohji\\AppData\\Local\\Temp\\ipykernel_24752\\982620487.py:6: FutureWarning: The frame.append method is deprecated and will be removed from pandas in a future version. Use pandas.concat instead.\n",
      "  dsdata2 = dsdata2.append(row, ignore_index = True)\n",
      "C:\\Users\\pohji\\AppData\\Local\\Temp\\ipykernel_24752\\982620487.py:6: FutureWarning: The frame.append method is deprecated and will be removed from pandas in a future version. Use pandas.concat instead.\n",
      "  dsdata2 = dsdata2.append(row, ignore_index = True)\n",
      "C:\\Users\\pohji\\AppData\\Local\\Temp\\ipykernel_24752\\982620487.py:6: FutureWarning: The frame.append method is deprecated and will be removed from pandas in a future version. Use pandas.concat instead.\n",
      "  dsdata2 = dsdata2.append(row, ignore_index = True)\n",
      "C:\\Users\\pohji\\AppData\\Local\\Temp\\ipykernel_24752\\982620487.py:6: FutureWarning: The frame.append method is deprecated and will be removed from pandas in a future version. Use pandas.concat instead.\n",
      "  dsdata2 = dsdata2.append(row, ignore_index = True)\n",
      "C:\\Users\\pohji\\AppData\\Local\\Temp\\ipykernel_24752\\982620487.py:6: FutureWarning: The frame.append method is deprecated and will be removed from pandas in a future version. Use pandas.concat instead.\n",
      "  dsdata2 = dsdata2.append(row, ignore_index = True)\n",
      "C:\\Users\\pohji\\AppData\\Local\\Temp\\ipykernel_24752\\982620487.py:6: FutureWarning: The frame.append method is deprecated and will be removed from pandas in a future version. Use pandas.concat instead.\n",
      "  dsdata2 = dsdata2.append(row, ignore_index = True)\n",
      "C:\\Users\\pohji\\AppData\\Local\\Temp\\ipykernel_24752\\982620487.py:6: FutureWarning: The frame.append method is deprecated and will be removed from pandas in a future version. Use pandas.concat instead.\n",
      "  dsdata2 = dsdata2.append(row, ignore_index = True)\n",
      "C:\\Users\\pohji\\AppData\\Local\\Temp\\ipykernel_24752\\982620487.py:6: FutureWarning: The frame.append method is deprecated and will be removed from pandas in a future version. Use pandas.concat instead.\n",
      "  dsdata2 = dsdata2.append(row, ignore_index = True)\n",
      "C:\\Users\\pohji\\AppData\\Local\\Temp\\ipykernel_24752\\982620487.py:6: FutureWarning: The frame.append method is deprecated and will be removed from pandas in a future version. Use pandas.concat instead.\n",
      "  dsdata2 = dsdata2.append(row, ignore_index = True)\n",
      "C:\\Users\\pohji\\AppData\\Local\\Temp\\ipykernel_24752\\982620487.py:6: FutureWarning: The frame.append method is deprecated and will be removed from pandas in a future version. Use pandas.concat instead.\n",
      "  dsdata2 = dsdata2.append(row, ignore_index = True)\n",
      "C:\\Users\\pohji\\AppData\\Local\\Temp\\ipykernel_24752\\982620487.py:6: FutureWarning: The frame.append method is deprecated and will be removed from pandas in a future version. Use pandas.concat instead.\n",
      "  dsdata2 = dsdata2.append(row, ignore_index = True)\n",
      "C:\\Users\\pohji\\AppData\\Local\\Temp\\ipykernel_24752\\982620487.py:6: FutureWarning: The frame.append method is deprecated and will be removed from pandas in a future version. Use pandas.concat instead.\n",
      "  dsdata2 = dsdata2.append(row, ignore_index = True)\n",
      "C:\\Users\\pohji\\AppData\\Local\\Temp\\ipykernel_24752\\982620487.py:6: FutureWarning: The frame.append method is deprecated and will be removed from pandas in a future version. Use pandas.concat instead.\n",
      "  dsdata2 = dsdata2.append(row, ignore_index = True)\n",
      "C:\\Users\\pohji\\AppData\\Local\\Temp\\ipykernel_24752\\982620487.py:6: FutureWarning: The frame.append method is deprecated and will be removed from pandas in a future version. Use pandas.concat instead.\n",
      "  dsdata2 = dsdata2.append(row, ignore_index = True)\n",
      "C:\\Users\\pohji\\AppData\\Local\\Temp\\ipykernel_24752\\982620487.py:6: FutureWarning: The frame.append method is deprecated and will be removed from pandas in a future version. Use pandas.concat instead.\n",
      "  dsdata2 = dsdata2.append(row, ignore_index = True)\n",
      "C:\\Users\\pohji\\AppData\\Local\\Temp\\ipykernel_24752\\982620487.py:6: FutureWarning: The frame.append method is deprecated and will be removed from pandas in a future version. Use pandas.concat instead.\n",
      "  dsdata2 = dsdata2.append(row, ignore_index = True)\n",
      "C:\\Users\\pohji\\AppData\\Local\\Temp\\ipykernel_24752\\982620487.py:6: FutureWarning: The frame.append method is deprecated and will be removed from pandas in a future version. Use pandas.concat instead.\n",
      "  dsdata2 = dsdata2.append(row, ignore_index = True)\n",
      "C:\\Users\\pohji\\AppData\\Local\\Temp\\ipykernel_24752\\982620487.py:6: FutureWarning: The frame.append method is deprecated and will be removed from pandas in a future version. Use pandas.concat instead.\n",
      "  dsdata2 = dsdata2.append(row, ignore_index = True)\n",
      "C:\\Users\\pohji\\AppData\\Local\\Temp\\ipykernel_24752\\982620487.py:6: FutureWarning: The frame.append method is deprecated and will be removed from pandas in a future version. Use pandas.concat instead.\n",
      "  dsdata2 = dsdata2.append(row, ignore_index = True)\n",
      "C:\\Users\\pohji\\AppData\\Local\\Temp\\ipykernel_24752\\982620487.py:6: FutureWarning: The frame.append method is deprecated and will be removed from pandas in a future version. Use pandas.concat instead.\n",
      "  dsdata2 = dsdata2.append(row, ignore_index = True)\n",
      "C:\\Users\\pohji\\AppData\\Local\\Temp\\ipykernel_24752\\982620487.py:6: FutureWarning: The frame.append method is deprecated and will be removed from pandas in a future version. Use pandas.concat instead.\n",
      "  dsdata2 = dsdata2.append(row, ignore_index = True)\n",
      "C:\\Users\\pohji\\AppData\\Local\\Temp\\ipykernel_24752\\982620487.py:6: FutureWarning: The frame.append method is deprecated and will be removed from pandas in a future version. Use pandas.concat instead.\n",
      "  dsdata2 = dsdata2.append(row, ignore_index = True)\n",
      "C:\\Users\\pohji\\AppData\\Local\\Temp\\ipykernel_24752\\982620487.py:6: FutureWarning: The frame.append method is deprecated and will be removed from pandas in a future version. Use pandas.concat instead.\n",
      "  dsdata2 = dsdata2.append(row, ignore_index = True)\n",
      "C:\\Users\\pohji\\AppData\\Local\\Temp\\ipykernel_24752\\982620487.py:6: FutureWarning: The frame.append method is deprecated and will be removed from pandas in a future version. Use pandas.concat instead.\n",
      "  dsdata2 = dsdata2.append(row, ignore_index = True)\n",
      "C:\\Users\\pohji\\AppData\\Local\\Temp\\ipykernel_24752\\982620487.py:6: FutureWarning: The frame.append method is deprecated and will be removed from pandas in a future version. Use pandas.concat instead.\n",
      "  dsdata2 = dsdata2.append(row, ignore_index = True)\n",
      "C:\\Users\\pohji\\AppData\\Local\\Temp\\ipykernel_24752\\982620487.py:6: FutureWarning: The frame.append method is deprecated and will be removed from pandas in a future version. Use pandas.concat instead.\n",
      "  dsdata2 = dsdata2.append(row, ignore_index = True)\n",
      "C:\\Users\\pohji\\AppData\\Local\\Temp\\ipykernel_24752\\982620487.py:6: FutureWarning: The frame.append method is deprecated and will be removed from pandas in a future version. Use pandas.concat instead.\n",
      "  dsdata2 = dsdata2.append(row, ignore_index = True)\n",
      "C:\\Users\\pohji\\AppData\\Local\\Temp\\ipykernel_24752\\982620487.py:6: FutureWarning: The frame.append method is deprecated and will be removed from pandas in a future version. Use pandas.concat instead.\n",
      "  dsdata2 = dsdata2.append(row, ignore_index = True)\n",
      "C:\\Users\\pohji\\AppData\\Local\\Temp\\ipykernel_24752\\982620487.py:6: FutureWarning: The frame.append method is deprecated and will be removed from pandas in a future version. Use pandas.concat instead.\n",
      "  dsdata2 = dsdata2.append(row, ignore_index = True)\n",
      "C:\\Users\\pohji\\AppData\\Local\\Temp\\ipykernel_24752\\982620487.py:6: FutureWarning: The frame.append method is deprecated and will be removed from pandas in a future version. Use pandas.concat instead.\n",
      "  dsdata2 = dsdata2.append(row, ignore_index = True)\n",
      "C:\\Users\\pohji\\AppData\\Local\\Temp\\ipykernel_24752\\982620487.py:6: FutureWarning: The frame.append method is deprecated and will be removed from pandas in a future version. Use pandas.concat instead.\n",
      "  dsdata2 = dsdata2.append(row, ignore_index = True)\n",
      "C:\\Users\\pohji\\AppData\\Local\\Temp\\ipykernel_24752\\982620487.py:6: FutureWarning: The frame.append method is deprecated and will be removed from pandas in a future version. Use pandas.concat instead.\n",
      "  dsdata2 = dsdata2.append(row, ignore_index = True)\n",
      "C:\\Users\\pohji\\AppData\\Local\\Temp\\ipykernel_24752\\982620487.py:6: FutureWarning: The frame.append method is deprecated and will be removed from pandas in a future version. Use pandas.concat instead.\n",
      "  dsdata2 = dsdata2.append(row, ignore_index = True)\n",
      "C:\\Users\\pohji\\AppData\\Local\\Temp\\ipykernel_24752\\982620487.py:6: FutureWarning: The frame.append method is deprecated and will be removed from pandas in a future version. Use pandas.concat instead.\n",
      "  dsdata2 = dsdata2.append(row, ignore_index = True)\n",
      "C:\\Users\\pohji\\AppData\\Local\\Temp\\ipykernel_24752\\982620487.py:6: FutureWarning: The frame.append method is deprecated and will be removed from pandas in a future version. Use pandas.concat instead.\n",
      "  dsdata2 = dsdata2.append(row, ignore_index = True)\n",
      "C:\\Users\\pohji\\AppData\\Local\\Temp\\ipykernel_24752\\982620487.py:6: FutureWarning: The frame.append method is deprecated and will be removed from pandas in a future version. Use pandas.concat instead.\n",
      "  dsdata2 = dsdata2.append(row, ignore_index = True)\n",
      "C:\\Users\\pohji\\AppData\\Local\\Temp\\ipykernel_24752\\982620487.py:6: FutureWarning: The frame.append method is deprecated and will be removed from pandas in a future version. Use pandas.concat instead.\n",
      "  dsdata2 = dsdata2.append(row, ignore_index = True)\n",
      "C:\\Users\\pohji\\AppData\\Local\\Temp\\ipykernel_24752\\982620487.py:6: FutureWarning: The frame.append method is deprecated and will be removed from pandas in a future version. Use pandas.concat instead.\n",
      "  dsdata2 = dsdata2.append(row, ignore_index = True)\n",
      "C:\\Users\\pohji\\AppData\\Local\\Temp\\ipykernel_24752\\982620487.py:6: FutureWarning: The frame.append method is deprecated and will be removed from pandas in a future version. Use pandas.concat instead.\n",
      "  dsdata2 = dsdata2.append(row, ignore_index = True)\n",
      "C:\\Users\\pohji\\AppData\\Local\\Temp\\ipykernel_24752\\982620487.py:6: FutureWarning: The frame.append method is deprecated and will be removed from pandas in a future version. Use pandas.concat instead.\n",
      "  dsdata2 = dsdata2.append(row, ignore_index = True)\n",
      "C:\\Users\\pohji\\AppData\\Local\\Temp\\ipykernel_24752\\982620487.py:6: FutureWarning: The frame.append method is deprecated and will be removed from pandas in a future version. Use pandas.concat instead.\n",
      "  dsdata2 = dsdata2.append(row, ignore_index = True)\n",
      "C:\\Users\\pohji\\AppData\\Local\\Temp\\ipykernel_24752\\982620487.py:6: FutureWarning: The frame.append method is deprecated and will be removed from pandas in a future version. Use pandas.concat instead.\n",
      "  dsdata2 = dsdata2.append(row, ignore_index = True)\n",
      "C:\\Users\\pohji\\AppData\\Local\\Temp\\ipykernel_24752\\982620487.py:6: FutureWarning: The frame.append method is deprecated and will be removed from pandas in a future version. Use pandas.concat instead.\n",
      "  dsdata2 = dsdata2.append(row, ignore_index = True)\n",
      "C:\\Users\\pohji\\AppData\\Local\\Temp\\ipykernel_24752\\982620487.py:6: FutureWarning: The frame.append method is deprecated and will be removed from pandas in a future version. Use pandas.concat instead.\n",
      "  dsdata2 = dsdata2.append(row, ignore_index = True)\n",
      "C:\\Users\\pohji\\AppData\\Local\\Temp\\ipykernel_24752\\982620487.py:6: FutureWarning: The frame.append method is deprecated and will be removed from pandas in a future version. Use pandas.concat instead.\n",
      "  dsdata2 = dsdata2.append(row, ignore_index = True)\n",
      "C:\\Users\\pohji\\AppData\\Local\\Temp\\ipykernel_24752\\982620487.py:6: FutureWarning: The frame.append method is deprecated and will be removed from pandas in a future version. Use pandas.concat instead.\n",
      "  dsdata2 = dsdata2.append(row, ignore_index = True)\n",
      "C:\\Users\\pohji\\AppData\\Local\\Temp\\ipykernel_24752\\982620487.py:6: FutureWarning: The frame.append method is deprecated and will be removed from pandas in a future version. Use pandas.concat instead.\n",
      "  dsdata2 = dsdata2.append(row, ignore_index = True)\n",
      "C:\\Users\\pohji\\AppData\\Local\\Temp\\ipykernel_24752\\982620487.py:6: FutureWarning: The frame.append method is deprecated and will be removed from pandas in a future version. Use pandas.concat instead.\n",
      "  dsdata2 = dsdata2.append(row, ignore_index = True)\n",
      "C:\\Users\\pohji\\AppData\\Local\\Temp\\ipykernel_24752\\982620487.py:6: FutureWarning: The frame.append method is deprecated and will be removed from pandas in a future version. Use pandas.concat instead.\n",
      "  dsdata2 = dsdata2.append(row, ignore_index = True)\n",
      "C:\\Users\\pohji\\AppData\\Local\\Temp\\ipykernel_24752\\982620487.py:6: FutureWarning: The frame.append method is deprecated and will be removed from pandas in a future version. Use pandas.concat instead.\n",
      "  dsdata2 = dsdata2.append(row, ignore_index = True)\n",
      "C:\\Users\\pohji\\AppData\\Local\\Temp\\ipykernel_24752\\982620487.py:6: FutureWarning: The frame.append method is deprecated and will be removed from pandas in a future version. Use pandas.concat instead.\n",
      "  dsdata2 = dsdata2.append(row, ignore_index = True)\n",
      "C:\\Users\\pohji\\AppData\\Local\\Temp\\ipykernel_24752\\982620487.py:6: FutureWarning: The frame.append method is deprecated and will be removed from pandas in a future version. Use pandas.concat instead.\n",
      "  dsdata2 = dsdata2.append(row, ignore_index = True)\n",
      "C:\\Users\\pohji\\AppData\\Local\\Temp\\ipykernel_24752\\982620487.py:6: FutureWarning: The frame.append method is deprecated and will be removed from pandas in a future version. Use pandas.concat instead.\n",
      "  dsdata2 = dsdata2.append(row, ignore_index = True)\n",
      "C:\\Users\\pohji\\AppData\\Local\\Temp\\ipykernel_24752\\982620487.py:6: FutureWarning: The frame.append method is deprecated and will be removed from pandas in a future version. Use pandas.concat instead.\n",
      "  dsdata2 = dsdata2.append(row, ignore_index = True)\n",
      "C:\\Users\\pohji\\AppData\\Local\\Temp\\ipykernel_24752\\982620487.py:6: FutureWarning: The frame.append method is deprecated and will be removed from pandas in a future version. Use pandas.concat instead.\n",
      "  dsdata2 = dsdata2.append(row, ignore_index = True)\n",
      "C:\\Users\\pohji\\AppData\\Local\\Temp\\ipykernel_24752\\982620487.py:6: FutureWarning: The frame.append method is deprecated and will be removed from pandas in a future version. Use pandas.concat instead.\n",
      "  dsdata2 = dsdata2.append(row, ignore_index = True)\n",
      "C:\\Users\\pohji\\AppData\\Local\\Temp\\ipykernel_24752\\982620487.py:6: FutureWarning: The frame.append method is deprecated and will be removed from pandas in a future version. Use pandas.concat instead.\n",
      "  dsdata2 = dsdata2.append(row, ignore_index = True)\n",
      "C:\\Users\\pohji\\AppData\\Local\\Temp\\ipykernel_24752\\982620487.py:6: FutureWarning: The frame.append method is deprecated and will be removed from pandas in a future version. Use pandas.concat instead.\n",
      "  dsdata2 = dsdata2.append(row, ignore_index = True)\n",
      "C:\\Users\\pohji\\AppData\\Local\\Temp\\ipykernel_24752\\982620487.py:6: FutureWarning: The frame.append method is deprecated and will be removed from pandas in a future version. Use pandas.concat instead.\n",
      "  dsdata2 = dsdata2.append(row, ignore_index = True)\n",
      "C:\\Users\\pohji\\AppData\\Local\\Temp\\ipykernel_24752\\982620487.py:6: FutureWarning: The frame.append method is deprecated and will be removed from pandas in a future version. Use pandas.concat instead.\n",
      "  dsdata2 = dsdata2.append(row, ignore_index = True)\n",
      "C:\\Users\\pohji\\AppData\\Local\\Temp\\ipykernel_24752\\982620487.py:6: FutureWarning: The frame.append method is deprecated and will be removed from pandas in a future version. Use pandas.concat instead.\n",
      "  dsdata2 = dsdata2.append(row, ignore_index = True)\n",
      "C:\\Users\\pohji\\AppData\\Local\\Temp\\ipykernel_24752\\982620487.py:6: FutureWarning: The frame.append method is deprecated and will be removed from pandas in a future version. Use pandas.concat instead.\n",
      "  dsdata2 = dsdata2.append(row, ignore_index = True)\n",
      "C:\\Users\\pohji\\AppData\\Local\\Temp\\ipykernel_24752\\982620487.py:6: FutureWarning: The frame.append method is deprecated and will be removed from pandas in a future version. Use pandas.concat instead.\n",
      "  dsdata2 = dsdata2.append(row, ignore_index = True)\n",
      "C:\\Users\\pohji\\AppData\\Local\\Temp\\ipykernel_24752\\982620487.py:6: FutureWarning: The frame.append method is deprecated and will be removed from pandas in a future version. Use pandas.concat instead.\n",
      "  dsdata2 = dsdata2.append(row, ignore_index = True)\n",
      "C:\\Users\\pohji\\AppData\\Local\\Temp\\ipykernel_24752\\982620487.py:6: FutureWarning: The frame.append method is deprecated and will be removed from pandas in a future version. Use pandas.concat instead.\n",
      "  dsdata2 = dsdata2.append(row, ignore_index = True)\n",
      "C:\\Users\\pohji\\AppData\\Local\\Temp\\ipykernel_24752\\982620487.py:6: FutureWarning: The frame.append method is deprecated and will be removed from pandas in a future version. Use pandas.concat instead.\n",
      "  dsdata2 = dsdata2.append(row, ignore_index = True)\n",
      "C:\\Users\\pohji\\AppData\\Local\\Temp\\ipykernel_24752\\982620487.py:6: FutureWarning: The frame.append method is deprecated and will be removed from pandas in a future version. Use pandas.concat instead.\n",
      "  dsdata2 = dsdata2.append(row, ignore_index = True)\n",
      "C:\\Users\\pohji\\AppData\\Local\\Temp\\ipykernel_24752\\982620487.py:6: FutureWarning: The frame.append method is deprecated and will be removed from pandas in a future version. Use pandas.concat instead.\n",
      "  dsdata2 = dsdata2.append(row, ignore_index = True)\n",
      "C:\\Users\\pohji\\AppData\\Local\\Temp\\ipykernel_24752\\982620487.py:6: FutureWarning: The frame.append method is deprecated and will be removed from pandas in a future version. Use pandas.concat instead.\n",
      "  dsdata2 = dsdata2.append(row, ignore_index = True)\n",
      "C:\\Users\\pohji\\AppData\\Local\\Temp\\ipykernel_24752\\982620487.py:6: FutureWarning: The frame.append method is deprecated and will be removed from pandas in a future version. Use pandas.concat instead.\n",
      "  dsdata2 = dsdata2.append(row, ignore_index = True)\n",
      "C:\\Users\\pohji\\AppData\\Local\\Temp\\ipykernel_24752\\982620487.py:6: FutureWarning: The frame.append method is deprecated and will be removed from pandas in a future version. Use pandas.concat instead.\n",
      "  dsdata2 = dsdata2.append(row, ignore_index = True)\n",
      "C:\\Users\\pohji\\AppData\\Local\\Temp\\ipykernel_24752\\982620487.py:6: FutureWarning: The frame.append method is deprecated and will be removed from pandas in a future version. Use pandas.concat instead.\n",
      "  dsdata2 = dsdata2.append(row, ignore_index = True)\n",
      "C:\\Users\\pohji\\AppData\\Local\\Temp\\ipykernel_24752\\982620487.py:6: FutureWarning: The frame.append method is deprecated and will be removed from pandas in a future version. Use pandas.concat instead.\n",
      "  dsdata2 = dsdata2.append(row, ignore_index = True)\n",
      "C:\\Users\\pohji\\AppData\\Local\\Temp\\ipykernel_24752\\982620487.py:6: FutureWarning: The frame.append method is deprecated and will be removed from pandas in a future version. Use pandas.concat instead.\n",
      "  dsdata2 = dsdata2.append(row, ignore_index = True)\n",
      "C:\\Users\\pohji\\AppData\\Local\\Temp\\ipykernel_24752\\982620487.py:6: FutureWarning: The frame.append method is deprecated and will be removed from pandas in a future version. Use pandas.concat instead.\n",
      "  dsdata2 = dsdata2.append(row, ignore_index = True)\n",
      "C:\\Users\\pohji\\AppData\\Local\\Temp\\ipykernel_24752\\982620487.py:6: FutureWarning: The frame.append method is deprecated and will be removed from pandas in a future version. Use pandas.concat instead.\n",
      "  dsdata2 = dsdata2.append(row, ignore_index = True)\n",
      "C:\\Users\\pohji\\AppData\\Local\\Temp\\ipykernel_24752\\982620487.py:6: FutureWarning: The frame.append method is deprecated and will be removed from pandas in a future version. Use pandas.concat instead.\n",
      "  dsdata2 = dsdata2.append(row, ignore_index = True)\n",
      "C:\\Users\\pohji\\AppData\\Local\\Temp\\ipykernel_24752\\982620487.py:6: FutureWarning: The frame.append method is deprecated and will be removed from pandas in a future version. Use pandas.concat instead.\n",
      "  dsdata2 = dsdata2.append(row, ignore_index = True)\n",
      "C:\\Users\\pohji\\AppData\\Local\\Temp\\ipykernel_24752\\982620487.py:6: FutureWarning: The frame.append method is deprecated and will be removed from pandas in a future version. Use pandas.concat instead.\n",
      "  dsdata2 = dsdata2.append(row, ignore_index = True)\n",
      "C:\\Users\\pohji\\AppData\\Local\\Temp\\ipykernel_24752\\982620487.py:6: FutureWarning: The frame.append method is deprecated and will be removed from pandas in a future version. Use pandas.concat instead.\n",
      "  dsdata2 = dsdata2.append(row, ignore_index = True)\n",
      "C:\\Users\\pohji\\AppData\\Local\\Temp\\ipykernel_24752\\982620487.py:6: FutureWarning: The frame.append method is deprecated and will be removed from pandas in a future version. Use pandas.concat instead.\n",
      "  dsdata2 = dsdata2.append(row, ignore_index = True)\n",
      "C:\\Users\\pohji\\AppData\\Local\\Temp\\ipykernel_24752\\982620487.py:6: FutureWarning: The frame.append method is deprecated and will be removed from pandas in a future version. Use pandas.concat instead.\n",
      "  dsdata2 = dsdata2.append(row, ignore_index = True)\n",
      "C:\\Users\\pohji\\AppData\\Local\\Temp\\ipykernel_24752\\982620487.py:6: FutureWarning: The frame.append method is deprecated and will be removed from pandas in a future version. Use pandas.concat instead.\n",
      "  dsdata2 = dsdata2.append(row, ignore_index = True)\n",
      "C:\\Users\\pohji\\AppData\\Local\\Temp\\ipykernel_24752\\982620487.py:6: FutureWarning: The frame.append method is deprecated and will be removed from pandas in a future version. Use pandas.concat instead.\n",
      "  dsdata2 = dsdata2.append(row, ignore_index = True)\n",
      "C:\\Users\\pohji\\AppData\\Local\\Temp\\ipykernel_24752\\982620487.py:6: FutureWarning: The frame.append method is deprecated and will be removed from pandas in a future version. Use pandas.concat instead.\n",
      "  dsdata2 = dsdata2.append(row, ignore_index = True)\n"
     ]
    },
    {
     "name": "stdout",
     "output_type": "stream",
     "text": [
      "USD 95550 US\n",
      "USD 167000 US\n",
      "USD 123000 US\n",
      "USD 150000 US\n",
      "USD 211500 US\n",
      "USD 138600 US\n",
      "USD 170000 US\n",
      "USD 123000 US\n",
      "USD 215300 US\n",
      "USD 158200 US\n",
      "USD 180000 US\n",
      "GBP 71982 GB\n",
      "GBP 45807 GB\n",
      "USD 260000 US\n",
      "USD 180000 US\n",
      "USD 80000 US\n",
      "USD 140400 US\n",
      "USD 215300 US\n",
      "INR 31615 IN\n",
      "INR 18442 IN\n",
      "USD 104890 US\n",
      "USD 140000 US\n",
      "USD 220000 US\n",
      "USD 140000 US\n",
      "GBP 183228 GB\n",
      "GBP 91614 GB\n",
      "USD 185100 US\n",
      "USD 200000 US\n",
      "USD 120000 US\n",
      "USD 230000 US\n",
      "USD 100000 DZ\n",
      "USD 100000 US\n",
      "PLN 35590 PL\n",
      "USD 100000 US\n",
      "USD 165000 US\n",
      "CAD 52396 CA\n",
      "USD 40000 MY\n",
      "AUD 86703 AU\n",
      "USD 48000 US\n",
      "CHF 122346 CH\n",
      "CAD 69336 CA\n",
      "USD 135000 US\n",
      "USD 78000 US\n",
      "USD 141300 US\n",
      "USD 102100 US\n",
      "USD 205300 US\n",
      "USD 140400 US\n",
      "USD 176000 US\n",
      "USD 144000 US\n",
      "USD 205300 US\n",
      "USD 140400 US\n",
      "USD 140000 US\n",
      "USD 210000 US\n",
      "USD 140000 US\n",
      "USD 210000 US\n",
      "USD 140000 US\n",
      "USD 210000 US\n",
      "USD 140000 US\n",
      "USD 230000 US\n",
      "USD 150000 US\n",
      "USD 210000 US\n",
      "USD 160000 US\n",
      "USD 130000 US\n"
     ]
    },
    {
     "name": "stderr",
     "output_type": "stream",
     "text": [
      "C:\\Users\\pohji\\AppData\\Local\\Temp\\ipykernel_24752\\982620487.py:6: FutureWarning: The frame.append method is deprecated and will be removed from pandas in a future version. Use pandas.concat instead.\n",
      "  dsdata2 = dsdata2.append(row, ignore_index = True)\n",
      "C:\\Users\\pohji\\AppData\\Local\\Temp\\ipykernel_24752\\982620487.py:6: FutureWarning: The frame.append method is deprecated and will be removed from pandas in a future version. Use pandas.concat instead.\n",
      "  dsdata2 = dsdata2.append(row, ignore_index = True)\n",
      "C:\\Users\\pohji\\AppData\\Local\\Temp\\ipykernel_24752\\982620487.py:6: FutureWarning: The frame.append method is deprecated and will be removed from pandas in a future version. Use pandas.concat instead.\n",
      "  dsdata2 = dsdata2.append(row, ignore_index = True)\n",
      "C:\\Users\\pohji\\AppData\\Local\\Temp\\ipykernel_24752\\982620487.py:6: FutureWarning: The frame.append method is deprecated and will be removed from pandas in a future version. Use pandas.concat instead.\n",
      "  dsdata2 = dsdata2.append(row, ignore_index = True)\n",
      "C:\\Users\\pohji\\AppData\\Local\\Temp\\ipykernel_24752\\982620487.py:6: FutureWarning: The frame.append method is deprecated and will be removed from pandas in a future version. Use pandas.concat instead.\n",
      "  dsdata2 = dsdata2.append(row, ignore_index = True)\n",
      "C:\\Users\\pohji\\AppData\\Local\\Temp\\ipykernel_24752\\982620487.py:6: FutureWarning: The frame.append method is deprecated and will be removed from pandas in a future version. Use pandas.concat instead.\n",
      "  dsdata2 = dsdata2.append(row, ignore_index = True)\n",
      "C:\\Users\\pohji\\AppData\\Local\\Temp\\ipykernel_24752\\982620487.py:6: FutureWarning: The frame.append method is deprecated and will be removed from pandas in a future version. Use pandas.concat instead.\n",
      "  dsdata2 = dsdata2.append(row, ignore_index = True)\n",
      "C:\\Users\\pohji\\AppData\\Local\\Temp\\ipykernel_24752\\982620487.py:6: FutureWarning: The frame.append method is deprecated and will be removed from pandas in a future version. Use pandas.concat instead.\n",
      "  dsdata2 = dsdata2.append(row, ignore_index = True)\n",
      "C:\\Users\\pohji\\AppData\\Local\\Temp\\ipykernel_24752\\982620487.py:6: FutureWarning: The frame.append method is deprecated and will be removed from pandas in a future version. Use pandas.concat instead.\n",
      "  dsdata2 = dsdata2.append(row, ignore_index = True)\n",
      "C:\\Users\\pohji\\AppData\\Local\\Temp\\ipykernel_24752\\982620487.py:6: FutureWarning: The frame.append method is deprecated and will be removed from pandas in a future version. Use pandas.concat instead.\n",
      "  dsdata2 = dsdata2.append(row, ignore_index = True)\n",
      "C:\\Users\\pohji\\AppData\\Local\\Temp\\ipykernel_24752\\982620487.py:6: FutureWarning: The frame.append method is deprecated and will be removed from pandas in a future version. Use pandas.concat instead.\n",
      "  dsdata2 = dsdata2.append(row, ignore_index = True)\n",
      "C:\\Users\\pohji\\AppData\\Local\\Temp\\ipykernel_24752\\982620487.py:6: FutureWarning: The frame.append method is deprecated and will be removed from pandas in a future version. Use pandas.concat instead.\n",
      "  dsdata2 = dsdata2.append(row, ignore_index = True)\n",
      "C:\\Users\\pohji\\AppData\\Local\\Temp\\ipykernel_24752\\982620487.py:6: FutureWarning: The frame.append method is deprecated and will be removed from pandas in a future version. Use pandas.concat instead.\n",
      "  dsdata2 = dsdata2.append(row, ignore_index = True)\n",
      "C:\\Users\\pohji\\AppData\\Local\\Temp\\ipykernel_24752\\982620487.py:6: FutureWarning: The frame.append method is deprecated and will be removed from pandas in a future version. Use pandas.concat instead.\n",
      "  dsdata2 = dsdata2.append(row, ignore_index = True)\n",
      "C:\\Users\\pohji\\AppData\\Local\\Temp\\ipykernel_24752\\982620487.py:6: FutureWarning: The frame.append method is deprecated and will be removed from pandas in a future version. Use pandas.concat instead.\n",
      "  dsdata2 = dsdata2.append(row, ignore_index = True)\n",
      "C:\\Users\\pohji\\AppData\\Local\\Temp\\ipykernel_24752\\982620487.py:6: FutureWarning: The frame.append method is deprecated and will be removed from pandas in a future version. Use pandas.concat instead.\n",
      "  dsdata2 = dsdata2.append(row, ignore_index = True)\n",
      "C:\\Users\\pohji\\AppData\\Local\\Temp\\ipykernel_24752\\982620487.py:6: FutureWarning: The frame.append method is deprecated and will be removed from pandas in a future version. Use pandas.concat instead.\n",
      "  dsdata2 = dsdata2.append(row, ignore_index = True)\n",
      "C:\\Users\\pohji\\AppData\\Local\\Temp\\ipykernel_24752\\982620487.py:6: FutureWarning: The frame.append method is deprecated and will be removed from pandas in a future version. Use pandas.concat instead.\n",
      "  dsdata2 = dsdata2.append(row, ignore_index = True)\n",
      "C:\\Users\\pohji\\AppData\\Local\\Temp\\ipykernel_24752\\982620487.py:6: FutureWarning: The frame.append method is deprecated and will be removed from pandas in a future version. Use pandas.concat instead.\n",
      "  dsdata2 = dsdata2.append(row, ignore_index = True)\n",
      "C:\\Users\\pohji\\AppData\\Local\\Temp\\ipykernel_24752\\982620487.py:6: FutureWarning: The frame.append method is deprecated and will be removed from pandas in a future version. Use pandas.concat instead.\n",
      "  dsdata2 = dsdata2.append(row, ignore_index = True)\n",
      "C:\\Users\\pohji\\AppData\\Local\\Temp\\ipykernel_24752\\982620487.py:6: FutureWarning: The frame.append method is deprecated and will be removed from pandas in a future version. Use pandas.concat instead.\n",
      "  dsdata2 = dsdata2.append(row, ignore_index = True)\n",
      "C:\\Users\\pohji\\AppData\\Local\\Temp\\ipykernel_24752\\982620487.py:6: FutureWarning: The frame.append method is deprecated and will be removed from pandas in a future version. Use pandas.concat instead.\n",
      "  dsdata2 = dsdata2.append(row, ignore_index = True)\n",
      "C:\\Users\\pohji\\AppData\\Local\\Temp\\ipykernel_24752\\982620487.py:6: FutureWarning: The frame.append method is deprecated and will be removed from pandas in a future version. Use pandas.concat instead.\n",
      "  dsdata2 = dsdata2.append(row, ignore_index = True)\n",
      "C:\\Users\\pohji\\AppData\\Local\\Temp\\ipykernel_24752\\982620487.py:6: FutureWarning: The frame.append method is deprecated and will be removed from pandas in a future version. Use pandas.concat instead.\n",
      "  dsdata2 = dsdata2.append(row, ignore_index = True)\n",
      "C:\\Users\\pohji\\AppData\\Local\\Temp\\ipykernel_24752\\982620487.py:6: FutureWarning: The frame.append method is deprecated and will be removed from pandas in a future version. Use pandas.concat instead.\n",
      "  dsdata2 = dsdata2.append(row, ignore_index = True)\n",
      "C:\\Users\\pohji\\AppData\\Local\\Temp\\ipykernel_24752\\982620487.py:6: FutureWarning: The frame.append method is deprecated and will be removed from pandas in a future version. Use pandas.concat instead.\n",
      "  dsdata2 = dsdata2.append(row, ignore_index = True)\n",
      "C:\\Users\\pohji\\AppData\\Local\\Temp\\ipykernel_24752\\982620487.py:6: FutureWarning: The frame.append method is deprecated and will be removed from pandas in a future version. Use pandas.concat instead.\n",
      "  dsdata2 = dsdata2.append(row, ignore_index = True)\n",
      "C:\\Users\\pohji\\AppData\\Local\\Temp\\ipykernel_24752\\982620487.py:6: FutureWarning: The frame.append method is deprecated and will be removed from pandas in a future version. Use pandas.concat instead.\n",
      "  dsdata2 = dsdata2.append(row, ignore_index = True)\n",
      "C:\\Users\\pohji\\AppData\\Local\\Temp\\ipykernel_24752\\982620487.py:6: FutureWarning: The frame.append method is deprecated and will be removed from pandas in a future version. Use pandas.concat instead.\n",
      "  dsdata2 = dsdata2.append(row, ignore_index = True)\n",
      "C:\\Users\\pohji\\AppData\\Local\\Temp\\ipykernel_24752\\982620487.py:6: FutureWarning: The frame.append method is deprecated and will be removed from pandas in a future version. Use pandas.concat instead.\n",
      "  dsdata2 = dsdata2.append(row, ignore_index = True)\n",
      "C:\\Users\\pohji\\AppData\\Local\\Temp\\ipykernel_24752\\982620487.py:6: FutureWarning: The frame.append method is deprecated and will be removed from pandas in a future version. Use pandas.concat instead.\n",
      "  dsdata2 = dsdata2.append(row, ignore_index = True)\n",
      "C:\\Users\\pohji\\AppData\\Local\\Temp\\ipykernel_24752\\982620487.py:6: FutureWarning: The frame.append method is deprecated and will be removed from pandas in a future version. Use pandas.concat instead.\n",
      "  dsdata2 = dsdata2.append(row, ignore_index = True)\n",
      "C:\\Users\\pohji\\AppData\\Local\\Temp\\ipykernel_24752\\982620487.py:6: FutureWarning: The frame.append method is deprecated and will be removed from pandas in a future version. Use pandas.concat instead.\n",
      "  dsdata2 = dsdata2.append(row, ignore_index = True)\n",
      "C:\\Users\\pohji\\AppData\\Local\\Temp\\ipykernel_24752\\982620487.py:6: FutureWarning: The frame.append method is deprecated and will be removed from pandas in a future version. Use pandas.concat instead.\n",
      "  dsdata2 = dsdata2.append(row, ignore_index = True)\n",
      "C:\\Users\\pohji\\AppData\\Local\\Temp\\ipykernel_24752\\982620487.py:6: FutureWarning: The frame.append method is deprecated and will be removed from pandas in a future version. Use pandas.concat instead.\n",
      "  dsdata2 = dsdata2.append(row, ignore_index = True)\n",
      "C:\\Users\\pohji\\AppData\\Local\\Temp\\ipykernel_24752\\982620487.py:6: FutureWarning: The frame.append method is deprecated and will be removed from pandas in a future version. Use pandas.concat instead.\n",
      "  dsdata2 = dsdata2.append(row, ignore_index = True)\n",
      "C:\\Users\\pohji\\AppData\\Local\\Temp\\ipykernel_24752\\982620487.py:6: FutureWarning: The frame.append method is deprecated and will be removed from pandas in a future version. Use pandas.concat instead.\n",
      "  dsdata2 = dsdata2.append(row, ignore_index = True)\n",
      "C:\\Users\\pohji\\AppData\\Local\\Temp\\ipykernel_24752\\982620487.py:6: FutureWarning: The frame.append method is deprecated and will be removed from pandas in a future version. Use pandas.concat instead.\n",
      "  dsdata2 = dsdata2.append(row, ignore_index = True)\n",
      "C:\\Users\\pohji\\AppData\\Local\\Temp\\ipykernel_24752\\982620487.py:6: FutureWarning: The frame.append method is deprecated and will be removed from pandas in a future version. Use pandas.concat instead.\n",
      "  dsdata2 = dsdata2.append(row, ignore_index = True)\n",
      "C:\\Users\\pohji\\AppData\\Local\\Temp\\ipykernel_24752\\982620487.py:6: FutureWarning: The frame.append method is deprecated and will be removed from pandas in a future version. Use pandas.concat instead.\n",
      "  dsdata2 = dsdata2.append(row, ignore_index = True)\n",
      "C:\\Users\\pohji\\AppData\\Local\\Temp\\ipykernel_24752\\982620487.py:6: FutureWarning: The frame.append method is deprecated and will be removed from pandas in a future version. Use pandas.concat instead.\n",
      "  dsdata2 = dsdata2.append(row, ignore_index = True)\n",
      "C:\\Users\\pohji\\AppData\\Local\\Temp\\ipykernel_24752\\982620487.py:6: FutureWarning: The frame.append method is deprecated and will be removed from pandas in a future version. Use pandas.concat instead.\n",
      "  dsdata2 = dsdata2.append(row, ignore_index = True)\n",
      "C:\\Users\\pohji\\AppData\\Local\\Temp\\ipykernel_24752\\982620487.py:6: FutureWarning: The frame.append method is deprecated and will be removed from pandas in a future version. Use pandas.concat instead.\n",
      "  dsdata2 = dsdata2.append(row, ignore_index = True)\n",
      "C:\\Users\\pohji\\AppData\\Local\\Temp\\ipykernel_24752\\982620487.py:6: FutureWarning: The frame.append method is deprecated and will be removed from pandas in a future version. Use pandas.concat instead.\n",
      "  dsdata2 = dsdata2.append(row, ignore_index = True)\n",
      "C:\\Users\\pohji\\AppData\\Local\\Temp\\ipykernel_24752\\982620487.py:6: FutureWarning: The frame.append method is deprecated and will be removed from pandas in a future version. Use pandas.concat instead.\n",
      "  dsdata2 = dsdata2.append(row, ignore_index = True)\n",
      "C:\\Users\\pohji\\AppData\\Local\\Temp\\ipykernel_24752\\982620487.py:6: FutureWarning: The frame.append method is deprecated and will be removed from pandas in a future version. Use pandas.concat instead.\n",
      "  dsdata2 = dsdata2.append(row, ignore_index = True)\n",
      "C:\\Users\\pohji\\AppData\\Local\\Temp\\ipykernel_24752\\982620487.py:6: FutureWarning: The frame.append method is deprecated and will be removed from pandas in a future version. Use pandas.concat instead.\n",
      "  dsdata2 = dsdata2.append(row, ignore_index = True)\n",
      "C:\\Users\\pohji\\AppData\\Local\\Temp\\ipykernel_24752\\982620487.py:6: FutureWarning: The frame.append method is deprecated and will be removed from pandas in a future version. Use pandas.concat instead.\n",
      "  dsdata2 = dsdata2.append(row, ignore_index = True)\n",
      "C:\\Users\\pohji\\AppData\\Local\\Temp\\ipykernel_24752\\982620487.py:6: FutureWarning: The frame.append method is deprecated and will be removed from pandas in a future version. Use pandas.concat instead.\n",
      "  dsdata2 = dsdata2.append(row, ignore_index = True)\n",
      "C:\\Users\\pohji\\AppData\\Local\\Temp\\ipykernel_24752\\982620487.py:6: FutureWarning: The frame.append method is deprecated and will be removed from pandas in a future version. Use pandas.concat instead.\n",
      "  dsdata2 = dsdata2.append(row, ignore_index = True)\n",
      "C:\\Users\\pohji\\AppData\\Local\\Temp\\ipykernel_24752\\982620487.py:6: FutureWarning: The frame.append method is deprecated and will be removed from pandas in a future version. Use pandas.concat instead.\n",
      "  dsdata2 = dsdata2.append(row, ignore_index = True)\n",
      "C:\\Users\\pohji\\AppData\\Local\\Temp\\ipykernel_24752\\982620487.py:6: FutureWarning: The frame.append method is deprecated and will be removed from pandas in a future version. Use pandas.concat instead.\n",
      "  dsdata2 = dsdata2.append(row, ignore_index = True)\n",
      "C:\\Users\\pohji\\AppData\\Local\\Temp\\ipykernel_24752\\982620487.py:6: FutureWarning: The frame.append method is deprecated and will be removed from pandas in a future version. Use pandas.concat instead.\n",
      "  dsdata2 = dsdata2.append(row, ignore_index = True)\n",
      "C:\\Users\\pohji\\AppData\\Local\\Temp\\ipykernel_24752\\982620487.py:6: FutureWarning: The frame.append method is deprecated and will be removed from pandas in a future version. Use pandas.concat instead.\n",
      "  dsdata2 = dsdata2.append(row, ignore_index = True)\n",
      "C:\\Users\\pohji\\AppData\\Local\\Temp\\ipykernel_24752\\982620487.py:6: FutureWarning: The frame.append method is deprecated and will be removed from pandas in a future version. Use pandas.concat instead.\n",
      "  dsdata2 = dsdata2.append(row, ignore_index = True)\n",
      "C:\\Users\\pohji\\AppData\\Local\\Temp\\ipykernel_24752\\982620487.py:6: FutureWarning: The frame.append method is deprecated and will be removed from pandas in a future version. Use pandas.concat instead.\n",
      "  dsdata2 = dsdata2.append(row, ignore_index = True)\n"
     ]
    }
   ],
   "source": [
    "dsdata2 = pd.DataFrame()\n",
    "for index, row in dsdata.iterrows():\n",
    "    if(row['job_title'] == 'Data Scientist'):\n",
    "        # print out the salary currency, salary_in_usd and company location for people with the job title as data scientist\n",
    "        print(row['salary_currency'],row['salary_in_usd'], row['company_location'])\n",
    "        dsdata2 = dsdata2.append(row, ignore_index = True)"
   ]
  },
  {
   "cell_type": "code",
   "execution_count": 47,
   "id": "6102129b",
   "metadata": {},
   "outputs": [
    {
     "data": {
      "text/html": [
       "<div>\n",
       "<style scoped>\n",
       "    .dataframe tbody tr th:only-of-type {\n",
       "        vertical-align: middle;\n",
       "    }\n",
       "\n",
       "    .dataframe tbody tr th {\n",
       "        vertical-align: top;\n",
       "    }\n",
       "\n",
       "    .dataframe thead th {\n",
       "        text-align: right;\n",
       "    }\n",
       "</style>\n",
       "<table border=\"1\" class=\"dataframe\">\n",
       "  <thead>\n",
       "    <tr style=\"text-align: right;\">\n",
       "      <th></th>\n",
       "      <th>work_year</th>\n",
       "      <th>experience_level</th>\n",
       "      <th>employment_type</th>\n",
       "      <th>job_title</th>\n",
       "      <th>salary</th>\n",
       "      <th>salary_currency</th>\n",
       "      <th>salary_in_usd</th>\n",
       "      <th>employee_residence</th>\n",
       "      <th>remote_ratio</th>\n",
       "      <th>company_location</th>\n",
       "      <th>company_size</th>\n",
       "    </tr>\n",
       "  </thead>\n",
       "  <tbody>\n",
       "    <tr>\n",
       "      <th>0</th>\n",
       "      <td>2020</td>\n",
       "      <td>1</td>\n",
       "      <td>1</td>\n",
       "      <td>Data Scientist</td>\n",
       "      <td>70000</td>\n",
       "      <td>EUR</td>\n",
       "      <td>79833</td>\n",
       "      <td>DE</td>\n",
       "      <td>0</td>\n",
       "      <td>DE</td>\n",
       "      <td>2</td>\n",
       "    </tr>\n",
       "    <tr>\n",
       "      <th>1</th>\n",
       "      <td>2020</td>\n",
       "      <td>1</td>\n",
       "      <td>1</td>\n",
       "      <td>Data Scientist</td>\n",
       "      <td>11000000</td>\n",
       "      <td>HUF</td>\n",
       "      <td>35735</td>\n",
       "      <td>HU</td>\n",
       "      <td>1</td>\n",
       "      <td>HU</td>\n",
       "      <td>2</td>\n",
       "    </tr>\n",
       "    <tr>\n",
       "      <th>2</th>\n",
       "      <td>2020</td>\n",
       "      <td>0</td>\n",
       "      <td>1</td>\n",
       "      <td>Data Scientist</td>\n",
       "      <td>45000</td>\n",
       "      <td>EUR</td>\n",
       "      <td>51321</td>\n",
       "      <td>FR</td>\n",
       "      <td>0</td>\n",
       "      <td>FR</td>\n",
       "      <td>0</td>\n",
       "    </tr>\n",
       "    <tr>\n",
       "      <th>3</th>\n",
       "      <td>2020</td>\n",
       "      <td>1</td>\n",
       "      <td>1</td>\n",
       "      <td>Data Scientist</td>\n",
       "      <td>3000000</td>\n",
       "      <td>INR</td>\n",
       "      <td>40481</td>\n",
       "      <td>IN</td>\n",
       "      <td>0</td>\n",
       "      <td>IN</td>\n",
       "      <td>2</td>\n",
       "    </tr>\n",
       "    <tr>\n",
       "      <th>4</th>\n",
       "      <td>2020</td>\n",
       "      <td>0</td>\n",
       "      <td>1</td>\n",
       "      <td>Data Scientist</td>\n",
       "      <td>35000</td>\n",
       "      <td>EUR</td>\n",
       "      <td>39916</td>\n",
       "      <td>FR</td>\n",
       "      <td>0</td>\n",
       "      <td>FR</td>\n",
       "      <td>1</td>\n",
       "    </tr>\n",
       "  </tbody>\n",
       "</table>\n",
       "</div>"
      ],
      "text/plain": [
       "   work_year  experience_level  employment_type       job_title    salary  \\\n",
       "0       2020                 1                1  Data Scientist     70000   \n",
       "1       2020                 1                1  Data Scientist  11000000   \n",
       "2       2020                 0                1  Data Scientist     45000   \n",
       "3       2020                 1                1  Data Scientist   3000000   \n",
       "4       2020                 0                1  Data Scientist     35000   \n",
       "\n",
       "  salary_currency  salary_in_usd employee_residence  remote_ratio  \\\n",
       "0             EUR          79833                 DE             0   \n",
       "1             HUF          35735                 HU             1   \n",
       "2             EUR          51321                 FR             0   \n",
       "3             INR          40481                 IN             0   \n",
       "4             EUR          39916                 FR             0   \n",
       "\n",
       "  company_location  company_size  \n",
       "0               DE             2  \n",
       "1               HU             2  \n",
       "2               FR             0  \n",
       "3               IN             2  \n",
       "4               FR             1  "
      ]
     },
     "execution_count": 47,
     "metadata": {},
     "output_type": "execute_result"
    }
   ],
   "source": [
    "dsdata2 = dsdata2.drop(columns='Index')\n",
    "dsdata2.head()"
   ]
  },
  {
   "cell_type": "code",
   "execution_count": 48,
   "id": "a26a2084",
   "metadata": {
    "scrolled": true
   },
   "outputs": [
    {
     "data": {
      "text/plain": [
       "<seaborn.axisgrid.PairGrid at 0x2095bad14c0>"
      ]
     },
     "execution_count": 48,
     "metadata": {},
     "output_type": "execute_result"
    },
    {
     "data": {
      "image/png": "[encoded data removed]",
      "text/plain": [
       "<Figure size 1750x1750 with 56 Axes>"
      ]
     },
     "metadata": {},
     "output_type": "display_data"
    }
   ],
   "source": [
    "# Relationship between Response and the Predictors\n",
    "sb.pairplot(data = dsdata2)"
   ]
  },
  {
   "cell_type": "markdown",
   "id": "70934da8",
   "metadata": {},
   "source": [
    "- Able to see the relationship between variables for people working in the same job field"
   ]
  },
  {
   "cell_type": "code",
   "execution_count": 49,
   "id": "3d09aa34",
   "metadata": {},
   "outputs": [
    {
     "data": {
      "text/plain": [
       "<AxesSubplot:>"
      ]
     },
     "execution_count": 49,
     "metadata": {},
     "output_type": "execute_result"
    },
    {
     "data": {
      "image/png": "[encoded data removed]",
      "text/plain": [
       "<Figure size 1200x800 with 2 Axes>"
      ]
     },
     "metadata": {},
     "output_type": "display_data"
    }
   ],
   "source": [
    "f = plt.figure(figsize=(12, 8))\n",
    "sb.heatmap(dsdata2.corr(), vmin = -1, vmax = 1, annot = True, fmt = \".2f\")"
   ]
  },
  {
   "cell_type": "code",
   "execution_count": null,
   "id": "090656a9",
   "metadata": {},
   "outputs": [],
   "source": []
  },
  {
   "cell_type": "markdown",
   "id": "da09343d",
   "metadata": {},
   "source": [
    "---"
   ]
  },
  {
   "cell_type": "markdown",
   "id": "15e56541",
   "metadata": {},
   "source": [
    "## Data Cleaning and Transformation"
   ]
  },
  {
   "cell_type": "code",
   "execution_count": 7,
   "id": "b928196a",
   "metadata": {},
   "outputs": [],
   "source": [
    "salary = pd.DataFrame(dsdata['salary_in_usd'])"
   ]
  },
  {
   "cell_type": "code",
   "execution_count": 8,
   "id": "dd9febfe",
   "metadata": {},
   "outputs": [
    {
     "data": {
      "text/plain": [
       "600000"
      ]
     },
     "execution_count": 8,
     "metadata": {},
     "output_type": "execute_result"
    }
   ],
   "source": [
    "salary[\"salary_in_usd\"].max()"
   ]
  },
  {
   "cell_type": "code",
   "execution_count": 9,
   "id": "1511b8d0",
   "metadata": {},
   "outputs": [
    {
     "data": {
      "text/plain": [
       "<AxesSubplot:>"
      ]
     },
     "execution_count": 9,
     "metadata": {},
     "output_type": "execute_result"
    },
    {
     "data": {
      "image/png": "[encoded data removed]",
      "text/plain": [
       "<Figure size 500x500 with 1 Axes>"
      ]
     },
     "metadata": {},
     "output_type": "display_data"
    }
   ],
   "source": [
    "fig = plt.figure(figsize=(5,5))\n",
    "sb.boxplot(data=salary[\"salary_in_usd\"], orient='h')"
   ]
  },
  {
   "cell_type": "code",
   "execution_count": 10,
   "id": "2e40ded5",
   "metadata": {},
   "outputs": [
    {
     "data": {
      "text/html": [
       "<div>\n",
       "<style scoped>\n",
       "    .dataframe tbody tr th:only-of-type {\n",
       "        vertical-align: middle;\n",
       "    }\n",
       "\n",
       "    .dataframe tbody tr th {\n",
       "        vertical-align: top;\n",
       "    }\n",
       "\n",
       "    .dataframe thead th {\n",
       "        text-align: right;\n",
       "    }\n",
       "</style>\n",
       "<table border=\"1\" class=\"dataframe\">\n",
       "  <thead>\n",
       "    <tr style=\"text-align: right;\">\n",
       "      <th></th>\n",
       "      <th>salary_in_usd</th>\n",
       "    </tr>\n",
       "  </thead>\n",
       "  <tbody>\n",
       "    <tr>\n",
       "      <th>count</th>\n",
       "      <td>607.000000</td>\n",
       "    </tr>\n",
       "    <tr>\n",
       "      <th>mean</th>\n",
       "      <td>112297.869852</td>\n",
       "    </tr>\n",
       "    <tr>\n",
       "      <th>std</th>\n",
       "      <td>70957.259411</td>\n",
       "    </tr>\n",
       "    <tr>\n",
       "      <th>min</th>\n",
       "      <td>2859.000000</td>\n",
       "    </tr>\n",
       "    <tr>\n",
       "      <th>25%</th>\n",
       "      <td>62726.000000</td>\n",
       "    </tr>\n",
       "    <tr>\n",
       "      <th>50%</th>\n",
       "      <td>101570.000000</td>\n",
       "    </tr>\n",
       "    <tr>\n",
       "      <th>75%</th>\n",
       "      <td>150000.000000</td>\n",
       "    </tr>\n",
       "    <tr>\n",
       "      <th>max</th>\n",
       "      <td>600000.000000</td>\n",
       "    </tr>\n",
       "  </tbody>\n",
       "</table>\n",
       "</div>"
      ],
      "text/plain": [
       "       salary_in_usd\n",
       "count     607.000000\n",
       "mean   112297.869852\n",
       "std     70957.259411\n",
       "min      2859.000000\n",
       "25%     62726.000000\n",
       "50%    101570.000000\n",
       "75%    150000.000000\n",
       "max    600000.000000"
      ]
     },
     "execution_count": 10,
     "metadata": {},
     "output_type": "execute_result"
    }
   ],
   "source": [
    "salary.describe()"
   ]
  },
  {
   "cell_type": "code",
   "execution_count": 11,
   "id": "260e327a",
   "metadata": {},
   "outputs": [
    {
     "data": {
      "text/html": [
       "<div>\n",
       "<style scoped>\n",
       "    .dataframe tbody tr th:only-of-type {\n",
       "        vertical-align: middle;\n",
       "    }\n",
       "\n",
       "    .dataframe tbody tr th {\n",
       "        vertical-align: top;\n",
       "    }\n",
       "\n",
       "    .dataframe thead th {\n",
       "        text-align: right;\n",
       "    }\n",
       "</style>\n",
       "<table border=\"1\" class=\"dataframe\">\n",
       "  <thead>\n",
       "    <tr style=\"text-align: right;\">\n",
       "      <th></th>\n",
       "      <th>salary_in_usd</th>\n",
       "    </tr>\n",
       "  </thead>\n",
       "  <tbody>\n",
       "    <tr>\n",
       "      <th>0</th>\n",
       "      <td>79833</td>\n",
       "    </tr>\n",
       "    <tr>\n",
       "      <th>1</th>\n",
       "      <td>260000</td>\n",
       "    </tr>\n",
       "    <tr>\n",
       "      <th>2</th>\n",
       "      <td>109024</td>\n",
       "    </tr>\n",
       "    <tr>\n",
       "      <th>3</th>\n",
       "      <td>20000</td>\n",
       "    </tr>\n",
       "    <tr>\n",
       "      <th>4</th>\n",
       "      <td>150000</td>\n",
       "    </tr>\n",
       "    <tr>\n",
       "      <th>...</th>\n",
       "      <td>...</td>\n",
       "    </tr>\n",
       "    <tr>\n",
       "      <th>602</th>\n",
       "      <td>154000</td>\n",
       "    </tr>\n",
       "    <tr>\n",
       "      <th>603</th>\n",
       "      <td>126000</td>\n",
       "    </tr>\n",
       "    <tr>\n",
       "      <th>604</th>\n",
       "      <td>129000</td>\n",
       "    </tr>\n",
       "    <tr>\n",
       "      <th>605</th>\n",
       "      <td>150000</td>\n",
       "    </tr>\n",
       "    <tr>\n",
       "      <th>606</th>\n",
       "      <td>200000</td>\n",
       "    </tr>\n",
       "  </tbody>\n",
       "</table>\n",
       "<p>607 rows × 1 columns</p>\n",
       "</div>"
      ],
      "text/plain": [
       "     salary_in_usd\n",
       "0            79833\n",
       "1           260000\n",
       "2           109024\n",
       "3            20000\n",
       "4           150000\n",
       "..             ...\n",
       "602         154000\n",
       "603         126000\n",
       "604         129000\n",
       "605         150000\n",
       "606         200000\n",
       "\n",
       "[607 rows x 1 columns]"
      ]
     },
     "execution_count": 11,
     "metadata": {},
     "output_type": "execute_result"
    }
   ],
   "source": [
    "salary"
   ]
  },
  {
   "cell_type": "markdown",
   "id": "d5c3dcde",
   "metadata": {},
   "source": [
    "### Creating feature: Fliter the salary by creating different categories to group them\n",
    "- 5 different categories created \n",
    "    1. Low ( )\n",
    "    2. Low-Mid ( )\n",
    "    3. Mid ( )\n",
    "    4. Mid-High ( )\n",
    "    5. High ( )"
   ]
  },
  {
   "cell_type": "code",
   "execution_count": 12,
   "id": "7ddd79c2",
   "metadata": {},
   "outputs": [
    {
     "data": {
      "text/html": [
       "<div>\n",
       "<style scoped>\n",
       "    .dataframe tbody tr th:only-of-type {\n",
       "        vertical-align: middle;\n",
       "    }\n",
       "\n",
       "    .dataframe tbody tr th {\n",
       "        vertical-align: top;\n",
       "    }\n",
       "\n",
       "    .dataframe thead th {\n",
       "        text-align: right;\n",
       "    }\n",
       "</style>\n",
       "<table border=\"1\" class=\"dataframe\">\n",
       "  <thead>\n",
       "    <tr style=\"text-align: right;\">\n",
       "      <th></th>\n",
       "      <th>salary_in_usd</th>\n",
       "    </tr>\n",
       "  </thead>\n",
       "  <tbody>\n",
       "    <tr>\n",
       "      <th>count</th>\n",
       "      <td>598.000000</td>\n",
       "    </tr>\n",
       "    <tr>\n",
       "      <th>mean</th>\n",
       "      <td>107531.449833</td>\n",
       "    </tr>\n",
       "    <tr>\n",
       "      <th>std</th>\n",
       "      <td>59174.545525</td>\n",
       "    </tr>\n",
       "    <tr>\n",
       "      <th>min</th>\n",
       "      <td>2859.000000</td>\n",
       "    </tr>\n",
       "    <tr>\n",
       "      <th>25%</th>\n",
       "      <td>62649.500000</td>\n",
       "    </tr>\n",
       "    <tr>\n",
       "      <th>50%</th>\n",
       "      <td>100000.000000</td>\n",
       "    </tr>\n",
       "    <tr>\n",
       "      <th>75%</th>\n",
       "      <td>149565.250000</td>\n",
       "    </tr>\n",
       "    <tr>\n",
       "      <th>max</th>\n",
       "      <td>324000.000000</td>\n",
       "    </tr>\n",
       "  </tbody>\n",
       "</table>\n",
       "</div>"
      ],
      "text/plain": [
       "       salary_in_usd\n",
       "count     598.000000\n",
       "mean   107531.449833\n",
       "std     59174.545525\n",
       "min      2859.000000\n",
       "25%     62649.500000\n",
       "50%    100000.000000\n",
       "75%    149565.250000\n",
       "max    324000.000000"
      ]
     },
     "execution_count": 12,
     "metadata": {},
     "output_type": "execute_result"
    }
   ],
   "source": [
    "salary_filtered = salary[(np.abs(stats.zscore(salary)) < 3).all(axis=1)]\n",
    "salary_filtered.describe()"
   ]
  },
  {
   "cell_type": "code",
   "execution_count": 13,
   "id": "edee9874",
   "metadata": {},
   "outputs": [
    {
     "data": {
      "text/plain": [
       "['low', 'low-mid', 'mid', 'mid-high', 'high']"
      ]
     },
     "execution_count": 13,
     "metadata": {},
     "output_type": "execute_result"
    }
   ],
   "source": [
    "labels = [\"low\", \"low-mid\", \"mid\", \"mid-high\", \"high\"]\n",
    "labels"
   ]
  },
  {
   "cell_type": "code",
   "execution_count": 14,
   "id": "39ed50ea",
   "metadata": {},
   "outputs": [
    {
     "name": "stderr",
     "output_type": "stream",
     "text": [
      "C:\\Users\\pohji\\AppData\\Local\\Temp\\ipykernel_24752\\1388088196.py:1: SettingWithCopyWarning: \n",
      "A value is trying to be set on a copy of a slice from a DataFrame.\n",
      "Try using .loc[row_indexer,col_indexer] = value instead\n",
      "\n",
      "See the caveats in the documentation: https://pandas.pydata.org/pandas-docs/stable/user_guide/indexing.html#returning-a-view-versus-a-copy\n",
      "  salary_filtered[\"salary_group\"] = pd.cut(salary_filtered.salary_in_usd, range(2500, 356150, 64300), right=False, labels=labels)\n"
     ]
    },
    {
     "data": {
      "text/html": [
       "<div>\n",
       "<style scoped>\n",
       "    .dataframe tbody tr th:only-of-type {\n",
       "        vertical-align: middle;\n",
       "    }\n",
       "\n",
       "    .dataframe tbody tr th {\n",
       "        vertical-align: top;\n",
       "    }\n",
       "\n",
       "    .dataframe thead th {\n",
       "        text-align: right;\n",
       "    }\n",
       "</style>\n",
       "<table border=\"1\" class=\"dataframe\">\n",
       "  <thead>\n",
       "    <tr style=\"text-align: right;\">\n",
       "      <th></th>\n",
       "      <th>salary_in_usd</th>\n",
       "      <th>salary_group</th>\n",
       "    </tr>\n",
       "  </thead>\n",
       "  <tbody>\n",
       "    <tr>\n",
       "      <th>0</th>\n",
       "      <td>79833</td>\n",
       "      <td>low-mid</td>\n",
       "    </tr>\n",
       "    <tr>\n",
       "      <th>1</th>\n",
       "      <td>260000</td>\n",
       "      <td>high</td>\n",
       "    </tr>\n",
       "    <tr>\n",
       "      <th>2</th>\n",
       "      <td>109024</td>\n",
       "      <td>low-mid</td>\n",
       "    </tr>\n",
       "    <tr>\n",
       "      <th>3</th>\n",
       "      <td>20000</td>\n",
       "      <td>low</td>\n",
       "    </tr>\n",
       "    <tr>\n",
       "      <th>4</th>\n",
       "      <td>150000</td>\n",
       "      <td>mid</td>\n",
       "    </tr>\n",
       "    <tr>\n",
       "      <th>...</th>\n",
       "      <td>...</td>\n",
       "      <td>...</td>\n",
       "    </tr>\n",
       "    <tr>\n",
       "      <th>602</th>\n",
       "      <td>154000</td>\n",
       "      <td>mid</td>\n",
       "    </tr>\n",
       "    <tr>\n",
       "      <th>603</th>\n",
       "      <td>126000</td>\n",
       "      <td>low-mid</td>\n",
       "    </tr>\n",
       "    <tr>\n",
       "      <th>604</th>\n",
       "      <td>129000</td>\n",
       "      <td>low-mid</td>\n",
       "    </tr>\n",
       "    <tr>\n",
       "      <th>605</th>\n",
       "      <td>150000</td>\n",
       "      <td>mid</td>\n",
       "    </tr>\n",
       "    <tr>\n",
       "      <th>606</th>\n",
       "      <td>200000</td>\n",
       "      <td>mid-high</td>\n",
       "    </tr>\n",
       "  </tbody>\n",
       "</table>\n",
       "<p>598 rows × 2 columns</p>\n",
       "</div>"
      ],
      "text/plain": [
       "     salary_in_usd salary_group\n",
       "0            79833      low-mid\n",
       "1           260000         high\n",
       "2           109024      low-mid\n",
       "3            20000          low\n",
       "4           150000          mid\n",
       "..             ...          ...\n",
       "602         154000          mid\n",
       "603         126000      low-mid\n",
       "604         129000      low-mid\n",
       "605         150000          mid\n",
       "606         200000     mid-high\n",
       "\n",
       "[598 rows x 2 columns]"
      ]
     },
     "execution_count": 14,
     "metadata": {},
     "output_type": "execute_result"
    }
   ],
   "source": [
    "salary_filtered[\"salary_group\"] = pd.cut(salary_filtered.salary_in_usd, range(2500, 356150, 64300), right=False, labels=labels)\n",
    "salary_filtered"
   ]
  },
  {
   "cell_type": "code",
   "execution_count": 15,
   "id": "bbcfc57f",
   "metadata": {},
   "outputs": [
    {
     "name": "stderr",
     "output_type": "stream",
     "text": [
      "C:\\Users\\pohji\\AppData\\Local\\Temp\\ipykernel_24752\\2423084383.py:2: SettingWithCopyWarning: \n",
      "A value is trying to be set on a copy of a slice from a DataFrame.\n",
      "Try using .loc[row_indexer,col_indexer] = value instead\n",
      "\n",
      "See the caveats in the documentation: https://pandas.pydata.org/pandas-docs/stable/user_guide/indexing.html#returning-a-view-versus-a-copy\n",
      "  salary_outliers[\"salary_group\"] = \"outlier\"\n"
     ]
    },
    {
     "data": {
      "text/html": [
       "<div>\n",
       "<style scoped>\n",
       "    .dataframe tbody tr th:only-of-type {\n",
       "        vertical-align: middle;\n",
       "    }\n",
       "\n",
       "    .dataframe tbody tr th {\n",
       "        vertical-align: top;\n",
       "    }\n",
       "\n",
       "    .dataframe thead th {\n",
       "        text-align: right;\n",
       "    }\n",
       "</style>\n",
       "<table border=\"1\" class=\"dataframe\">\n",
       "  <thead>\n",
       "    <tr style=\"text-align: right;\">\n",
       "      <th></th>\n",
       "      <th>salary_in_usd</th>\n",
       "      <th>salary_group</th>\n",
       "    </tr>\n",
       "  </thead>\n",
       "  <tbody>\n",
       "    <tr>\n",
       "      <th>25</th>\n",
       "      <td>325000</td>\n",
       "      <td>outlier</td>\n",
       "    </tr>\n",
       "    <tr>\n",
       "      <th>33</th>\n",
       "      <td>450000</td>\n",
       "      <td>outlier</td>\n",
       "    </tr>\n",
       "    <tr>\n",
       "      <th>63</th>\n",
       "      <td>412000</td>\n",
       "      <td>outlier</td>\n",
       "    </tr>\n",
       "    <tr>\n",
       "      <th>97</th>\n",
       "      <td>450000</td>\n",
       "      <td>outlier</td>\n",
       "    </tr>\n",
       "    <tr>\n",
       "      <th>157</th>\n",
       "      <td>423000</td>\n",
       "      <td>outlier</td>\n",
       "    </tr>\n",
       "    <tr>\n",
       "      <th>225</th>\n",
       "      <td>416000</td>\n",
       "      <td>outlier</td>\n",
       "    </tr>\n",
       "    <tr>\n",
       "      <th>252</th>\n",
       "      <td>600000</td>\n",
       "      <td>outlier</td>\n",
       "    </tr>\n",
       "    <tr>\n",
       "      <th>519</th>\n",
       "      <td>380000</td>\n",
       "      <td>outlier</td>\n",
       "    </tr>\n",
       "    <tr>\n",
       "      <th>523</th>\n",
       "      <td>405000</td>\n",
       "      <td>outlier</td>\n",
       "    </tr>\n",
       "  </tbody>\n",
       "</table>\n",
       "</div>"
      ],
      "text/plain": [
       "     salary_in_usd salary_group\n",
       "25          325000      outlier\n",
       "33          450000      outlier\n",
       "63          412000      outlier\n",
       "97          450000      outlier\n",
       "157         423000      outlier\n",
       "225         416000      outlier\n",
       "252         600000      outlier\n",
       "519         380000      outlier\n",
       "523         405000      outlier"
      ]
     },
     "execution_count": 15,
     "metadata": {},
     "output_type": "execute_result"
    }
   ],
   "source": [
    "salary_outliers = salary[(np.abs(stats.zscore(salary)) >= 3).all(axis=1)]\n",
    "salary_outliers[\"salary_group\"] = \"outlier\"\n",
    "salary_outliers"
   ]
  },
  {
   "cell_type": "code",
   "execution_count": 16,
   "id": "3e1b3fbd",
   "metadata": {},
   "outputs": [
    {
     "data": {
      "text/html": [
       "<div>\n",
       "<style scoped>\n",
       "    .dataframe tbody tr th:only-of-type {\n",
       "        vertical-align: middle;\n",
       "    }\n",
       "\n",
       "    .dataframe tbody tr th {\n",
       "        vertical-align: top;\n",
       "    }\n",
       "\n",
       "    .dataframe thead th {\n",
       "        text-align: right;\n",
       "    }\n",
       "</style>\n",
       "<table border=\"1\" class=\"dataframe\">\n",
       "  <thead>\n",
       "    <tr style=\"text-align: right;\">\n",
       "      <th></th>\n",
       "      <th>salary_in_usd</th>\n",
       "      <th>salary_group</th>\n",
       "    </tr>\n",
       "  </thead>\n",
       "  <tbody>\n",
       "    <tr>\n",
       "      <th>0</th>\n",
       "      <td>79833</td>\n",
       "      <td>low-mid</td>\n",
       "    </tr>\n",
       "    <tr>\n",
       "      <th>1</th>\n",
       "      <td>260000</td>\n",
       "      <td>high</td>\n",
       "    </tr>\n",
       "    <tr>\n",
       "      <th>2</th>\n",
       "      <td>109024</td>\n",
       "      <td>low-mid</td>\n",
       "    </tr>\n",
       "    <tr>\n",
       "      <th>3</th>\n",
       "      <td>20000</td>\n",
       "      <td>low</td>\n",
       "    </tr>\n",
       "    <tr>\n",
       "      <th>4</th>\n",
       "      <td>150000</td>\n",
       "      <td>mid</td>\n",
       "    </tr>\n",
       "    <tr>\n",
       "      <th>...</th>\n",
       "      <td>...</td>\n",
       "      <td>...</td>\n",
       "    </tr>\n",
       "    <tr>\n",
       "      <th>602</th>\n",
       "      <td>154000</td>\n",
       "      <td>mid</td>\n",
       "    </tr>\n",
       "    <tr>\n",
       "      <th>603</th>\n",
       "      <td>126000</td>\n",
       "      <td>low-mid</td>\n",
       "    </tr>\n",
       "    <tr>\n",
       "      <th>604</th>\n",
       "      <td>129000</td>\n",
       "      <td>low-mid</td>\n",
       "    </tr>\n",
       "    <tr>\n",
       "      <th>605</th>\n",
       "      <td>150000</td>\n",
       "      <td>mid</td>\n",
       "    </tr>\n",
       "    <tr>\n",
       "      <th>606</th>\n",
       "      <td>200000</td>\n",
       "      <td>mid-high</td>\n",
       "    </tr>\n",
       "  </tbody>\n",
       "</table>\n",
       "<p>607 rows × 2 columns</p>\n",
       "</div>"
      ],
      "text/plain": [
       "     salary_in_usd salary_group\n",
       "0            79833      low-mid\n",
       "1           260000         high\n",
       "2           109024      low-mid\n",
       "3            20000          low\n",
       "4           150000          mid\n",
       "..             ...          ...\n",
       "602         154000          mid\n",
       "603         126000      low-mid\n",
       "604         129000      low-mid\n",
       "605         150000          mid\n",
       "606         200000     mid-high\n",
       "\n",
       "[607 rows x 2 columns]"
      ]
     },
     "execution_count": 16,
     "metadata": {},
     "output_type": "execute_result"
    }
   ],
   "source": [
    "new_salary = pd.concat([salary_filtered,salary_outliers])\n",
    "new_salary = new_salary.sort_index(ascending=True)\n",
    "new_salary"
   ]
  },
  {
   "cell_type": "code",
   "execution_count": 17,
   "id": "e5463c2d",
   "metadata": {},
   "outputs": [
    {
     "data": {
      "text/plain": [
       "<seaborn.axisgrid.JointGrid at 0x209516cd370>"
      ]
     },
     "execution_count": 17,
     "metadata": {},
     "output_type": "execute_result"
    },
    {
     "data": {
      "image/png": "[encoded data removed]",
      "text/plain": [
       "<Figure size 1200x1200 with 3 Axes>"
      ]
     },
     "metadata": {},
     "output_type": "display_data"
    }
   ],
   "source": [
    "sb.jointplot(data = new_salary, x = \"salary_group\", y = \"salary_in_usd\", height = 12) # to do: sort them in order"
   ]
  },
  {
   "cell_type": "markdown",
   "id": "a73dc299",
   "metadata": {},
   "source": [
    "---"
   ]
  },
  {
   "cell_type": "markdown",
   "id": "0e6980c2",
   "metadata": {},
   "source": [
    "### Creating feature: Categorize `experience_level` by groups\n",
    "- 5 different categories created \n",
    "    1. 0 ( Entry Level )\n",
    "    2. 1 ( Junior MI Mid Level )\n",
    "    3. 2 ( Intermediate SE Senior-level )\n",
    "    4. 3 ( Expert EX Executive-level )\n",
    "    5. 4 ( Director )"
   ]
  },
  {
   "cell_type": "markdown",
   "id": "07cb7142",
   "metadata": {},
   "source": [
    "#### Explore `experience_level` category based on the salary"
   ]
  },
  {
   "cell_type": "code",
   "execution_count": 18,
   "id": "d16edeb1",
   "metadata": {},
   "outputs": [
    {
     "data": {
      "text/plain": [
       "array(['MI', 'SE', 'EN', 'EX'], dtype=object)"
      ]
     },
     "execution_count": 18,
     "metadata": {},
     "output_type": "execute_result"
    }
   ],
   "source": [
    "dsdata['experience_level'].unique()"
   ]
  },
  {
   "cell_type": "code",
   "execution_count": 19,
   "id": "4adf8025",
   "metadata": {},
   "outputs": [
    {
     "name": "stdout",
     "output_type": "stream",
     "text": [
      "Experience Level : 4\n",
      "SE    280\n",
      "MI    213\n",
      "EN     88\n",
      "EX     26\n",
      "Name: experience_level, dtype: int64\n"
     ]
    },
    {
     "data": {
      "image/png": "[encoded data removed]",
      "text/plain": [
       "<Figure size 500x500 with 1 Axes>"
      ]
     },
     "metadata": {},
     "output_type": "display_data"
    }
   ],
   "source": [
    "# Visualize Experience Level\n",
    "print(\"Experience Level :\", len(dsdata['experience_level'].unique()))\n",
    "print(dsdata['experience_level'].value_counts())\n",
    "sb.catplot(y = \"experience_level\", data = dsdata, kind = \"count\")\n",
    "plt.show()"
   ]
  },
  {
   "cell_type": "code",
   "execution_count": 20,
   "id": "b562e174",
   "metadata": {},
   "outputs": [
    {
     "data": {
      "text/html": [
       "<div>\n",
       "<style scoped>\n",
       "    .dataframe tbody tr th:only-of-type {\n",
       "        vertical-align: middle;\n",
       "    }\n",
       "\n",
       "    .dataframe tbody tr th {\n",
       "        vertical-align: top;\n",
       "    }\n",
       "\n",
       "    .dataframe thead th {\n",
       "        text-align: right;\n",
       "    }\n",
       "</style>\n",
       "<table border=\"1\" class=\"dataframe\">\n",
       "  <thead>\n",
       "    <tr style=\"text-align: right;\">\n",
       "      <th></th>\n",
       "      <th>Index</th>\n",
       "      <th>work_year</th>\n",
       "      <th>experience_level</th>\n",
       "      <th>employment_type</th>\n",
       "      <th>job_title</th>\n",
       "      <th>salary</th>\n",
       "      <th>salary_currency</th>\n",
       "      <th>salary_in_usd</th>\n",
       "      <th>employee_residence</th>\n",
       "      <th>remote_ratio</th>\n",
       "      <th>company_location</th>\n",
       "      <th>company_size</th>\n",
       "    </tr>\n",
       "  </thead>\n",
       "  <tbody>\n",
       "    <tr>\n",
       "      <th>0</th>\n",
       "      <td>0</td>\n",
       "      <td>2020</td>\n",
       "      <td>1</td>\n",
       "      <td>FT</td>\n",
       "      <td>Data Scientist</td>\n",
       "      <td>70000</td>\n",
       "      <td>EUR</td>\n",
       "      <td>79833</td>\n",
       "      <td>DE</td>\n",
       "      <td>0</td>\n",
       "      <td>DE</td>\n",
       "      <td>L</td>\n",
       "    </tr>\n",
       "    <tr>\n",
       "      <th>1</th>\n",
       "      <td>1</td>\n",
       "      <td>2020</td>\n",
       "      <td>2</td>\n",
       "      <td>FT</td>\n",
       "      <td>Machine Learning Scientist</td>\n",
       "      <td>260000</td>\n",
       "      <td>USD</td>\n",
       "      <td>260000</td>\n",
       "      <td>JP</td>\n",
       "      <td>0</td>\n",
       "      <td>JP</td>\n",
       "      <td>S</td>\n",
       "    </tr>\n",
       "    <tr>\n",
       "      <th>2</th>\n",
       "      <td>2</td>\n",
       "      <td>2020</td>\n",
       "      <td>2</td>\n",
       "      <td>FT</td>\n",
       "      <td>Big Data Engineer</td>\n",
       "      <td>85000</td>\n",
       "      <td>GBP</td>\n",
       "      <td>109024</td>\n",
       "      <td>GB</td>\n",
       "      <td>50</td>\n",
       "      <td>GB</td>\n",
       "      <td>M</td>\n",
       "    </tr>\n",
       "    <tr>\n",
       "      <th>3</th>\n",
       "      <td>3</td>\n",
       "      <td>2020</td>\n",
       "      <td>1</td>\n",
       "      <td>FT</td>\n",
       "      <td>Product Data Analyst</td>\n",
       "      <td>20000</td>\n",
       "      <td>USD</td>\n",
       "      <td>20000</td>\n",
       "      <td>HN</td>\n",
       "      <td>0</td>\n",
       "      <td>HN</td>\n",
       "      <td>S</td>\n",
       "    </tr>\n",
       "    <tr>\n",
       "      <th>4</th>\n",
       "      <td>4</td>\n",
       "      <td>2020</td>\n",
       "      <td>2</td>\n",
       "      <td>FT</td>\n",
       "      <td>Machine Learning Engineer</td>\n",
       "      <td>150000</td>\n",
       "      <td>USD</td>\n",
       "      <td>150000</td>\n",
       "      <td>US</td>\n",
       "      <td>50</td>\n",
       "      <td>US</td>\n",
       "      <td>L</td>\n",
       "    </tr>\n",
       "  </tbody>\n",
       "</table>\n",
       "</div>"
      ],
      "text/plain": [
       "   Index  work_year  experience_level employment_type  \\\n",
       "0      0       2020                 1              FT   \n",
       "1      1       2020                 2              FT   \n",
       "2      2       2020                 2              FT   \n",
       "3      3       2020                 1              FT   \n",
       "4      4       2020                 2              FT   \n",
       "\n",
       "                    job_title  salary salary_currency  salary_in_usd  \\\n",
       "0              Data Scientist   70000             EUR          79833   \n",
       "1  Machine Learning Scientist  260000             USD         260000   \n",
       "2           Big Data Engineer   85000             GBP         109024   \n",
       "3        Product Data Analyst   20000             USD          20000   \n",
       "4   Machine Learning Engineer  150000             USD         150000   \n",
       "\n",
       "  employee_residence  remote_ratio company_location company_size  \n",
       "0                 DE             0               DE            L  \n",
       "1                 JP             0               JP            S  \n",
       "2                 GB            50               GB            M  \n",
       "3                 HN             0               HN            S  \n",
       "4                 US            50               US            L  "
      ]
     },
     "execution_count": 20,
     "metadata": {},
     "output_type": "execute_result"
    }
   ],
   "source": [
    "dsdata['experience_level'] = dsdata['experience_level'].map( {'EN': 0, 'MI': 1, 'SE': 2, 'EX': 3} ).astype(int)\n",
    "\n",
    "experience_level = pd.DataFrame(dsdata['experience_level'])\n",
    "dsdata.head()"
   ]
  },
  {
   "cell_type": "code",
   "execution_count": 21,
   "id": "9dd785f2",
   "metadata": {},
   "outputs": [
    {
     "name": "stdout",
     "output_type": "stream",
     "text": [
      "Experience Level : 4\n",
      "2    280\n",
      "1    213\n",
      "0     88\n",
      "3     26\n",
      "Name: experience_level, dtype: int64\n"
     ]
    },
    {
     "data": {
      "image/png": "[encoded data removed]",
      "text/plain": [
       "<Figure size 500x500 with 1 Axes>"
      ]
     },
     "metadata": {},
     "output_type": "display_data"
    }
   ],
   "source": [
    "# Visualize Experience Level\n",
    "print(\"Experience Level :\", len(dsdata['experience_level'].unique()))\n",
    "print(dsdata['experience_level'].value_counts())\n",
    "sb.catplot(y = \"experience_level\", data = dsdata, kind = \"count\")\n",
    "plt.show()"
   ]
  },
  {
   "cell_type": "markdown",
   "id": "f369df02",
   "metadata": {},
   "source": [
    "---"
   ]
  },
  {
   "cell_type": "markdown",
   "id": "bf7cb7fc",
   "metadata": {},
   "source": [
    "### Creating feature: Categorize `company_size` by groups\n",
    "- 3 different categories created \n",
    "    1. 0 - S less than 50 employees (small) \n",
    "    2. 1 - M 50 to 250 employees (medium) \n",
    "    3. 2 - L more than 250 employees (large)"
   ]
  },
  {
   "cell_type": "markdown",
   "id": "84d5467d",
   "metadata": {},
   "source": [
    "#### Explore the `company_size` level category based on the salary"
   ]
  },
  {
   "cell_type": "code",
   "execution_count": 22,
   "id": "70454058",
   "metadata": {},
   "outputs": [
    {
     "data": {
      "text/plain": [
       "array(['L', 'S', 'M'], dtype=object)"
      ]
     },
     "execution_count": 22,
     "metadata": {},
     "output_type": "execute_result"
    }
   ],
   "source": [
    "dsdata['company_size'].unique()"
   ]
  },
  {
   "cell_type": "code",
   "execution_count": 23,
   "id": "5b7a3705",
   "metadata": {},
   "outputs": [
    {
     "name": "stdout",
     "output_type": "stream",
     "text": [
      "Company Size: 3\n",
      "M    326\n",
      "L    198\n",
      "S     83\n",
      "Name: company_size, dtype: int64\n"
     ]
    },
    {
     "data": {
      "image/png": "[encoded data removed]",
      "text/plain": [
       "<Figure size 500x500 with 1 Axes>"
      ]
     },
     "metadata": {},
     "output_type": "display_data"
    }
   ],
   "source": [
    "# Visualize Company Size\n",
    "print(\"Company Size:\", len(dsdata['company_size'].unique()))\n",
    "print(dsdata['company_size'].value_counts())\n",
    "sb.catplot(y = \"company_size\", data = dsdata, kind = \"count\")\n",
    "plt.show()"
   ]
  },
  {
   "cell_type": "code",
   "execution_count": 24,
   "id": "f380611f",
   "metadata": {},
   "outputs": [],
   "source": [
    "dsdata['company_size'] = dsdata['company_size'].map( {'S': 0, 'M': 1, 'L': 2} ).astype(int)\n",
    "dsdata.head()\n",
    "\n",
    "# creating a new dataframe for company size only (in case we need it)\n",
    "company_size = pd.DataFrame(dsdata['company_size'])"
   ]
  },
  {
   "cell_type": "code",
   "execution_count": 25,
   "id": "2cf28b53",
   "metadata": {},
   "outputs": [
    {
     "name": "stdout",
     "output_type": "stream",
     "text": [
      "Company Size: 3\n",
      "1    326\n",
      "2    198\n",
      "0     83\n",
      "Name: company_size, dtype: int64\n"
     ]
    },
    {
     "data": {
      "image/png": "[encoded data removed]",
      "text/plain": [
       "<Figure size 500x500 with 1 Axes>"
      ]
     },
     "metadata": {},
     "output_type": "display_data"
    }
   ],
   "source": [
    "# Visualize Company Size\n",
    "print(\"Company Size:\", len(dsdata['company_size'].unique()))\n",
    "print(dsdata['company_size'].value_counts())\n",
    "sb.catplot(y = \"company_size\", data = dsdata, kind = \"count\")\n",
    "plt.show()"
   ]
  },
  {
   "cell_type": "markdown",
   "id": "ec663e58",
   "metadata": {},
   "source": [
    "---"
   ]
  },
  {
   "cell_type": "markdown",
   "id": "5ffff5e2",
   "metadata": {},
   "source": [
    "### Creating feature: Categorize `employment_type` by groups\n",
    "- 4 different categories created \n",
    "    1. 0 - PT Part-time \n",
    "    2. 1 - FT Full-time \n",
    "    3. 2 - CT Contract \n",
    "    4. 3 - FL Freelance"
   ]
  },
  {
   "cell_type": "markdown",
   "id": "83c34f02",
   "metadata": {},
   "source": [
    "#### Explore the `employment_type` level category based on the salary"
   ]
  },
  {
   "cell_type": "code",
   "execution_count": 26,
   "id": "13688459",
   "metadata": {},
   "outputs": [
    {
     "data": {
      "text/plain": [
       "array(['FT', 'CT', 'PT', 'FL'], dtype=object)"
      ]
     },
     "execution_count": 26,
     "metadata": {},
     "output_type": "execute_result"
    }
   ],
   "source": [
    "dsdata['employment_type'].unique()"
   ]
  },
  {
   "cell_type": "code",
   "execution_count": 27,
   "id": "3d87c732",
   "metadata": {},
   "outputs": [
    {
     "name": "stdout",
     "output_type": "stream",
     "text": [
      "Employement Type: 4\n",
      "FT    588\n",
      "PT     10\n",
      "CT      5\n",
      "FL      4\n",
      "Name: employment_type, dtype: int64\n"
     ]
    },
    {
     "data": {
      "image/png": "[encoded data removed]",
      "text/plain": [
       "<Figure size 500x500 with 1 Axes>"
      ]
     },
     "metadata": {},
     "output_type": "display_data"
    }
   ],
   "source": [
    "# Visualize Employment Type\n",
    "print(\"Employement Type:\", len(dsdata['employment_type'].unique()))\n",
    "print(dsdata['employment_type'].value_counts())\n",
    "sb.catplot(y = \"employment_type\", data = dsdata, kind = \"count\")\n",
    "plt.show()"
   ]
  },
  {
   "cell_type": "code",
   "execution_count": 28,
   "id": "d4339471",
   "metadata": {},
   "outputs": [
    {
     "data": {
      "text/html": [
       "<div>\n",
       "<style scoped>\n",
       "    .dataframe tbody tr th:only-of-type {\n",
       "        vertical-align: middle;\n",
       "    }\n",
       "\n",
       "    .dataframe tbody tr th {\n",
       "        vertical-align: top;\n",
       "    }\n",
       "\n",
       "    .dataframe thead th {\n",
       "        text-align: right;\n",
       "    }\n",
       "</style>\n",
       "<table border=\"1\" class=\"dataframe\">\n",
       "  <thead>\n",
       "    <tr style=\"text-align: right;\">\n",
       "      <th></th>\n",
       "      <th>Index</th>\n",
       "      <th>work_year</th>\n",
       "      <th>experience_level</th>\n",
       "      <th>employment_type</th>\n",
       "      <th>job_title</th>\n",
       "      <th>salary</th>\n",
       "      <th>salary_currency</th>\n",
       "      <th>salary_in_usd</th>\n",
       "      <th>employee_residence</th>\n",
       "      <th>remote_ratio</th>\n",
       "      <th>company_location</th>\n",
       "      <th>company_size</th>\n",
       "    </tr>\n",
       "  </thead>\n",
       "  <tbody>\n",
       "    <tr>\n",
       "      <th>0</th>\n",
       "      <td>0</td>\n",
       "      <td>2020</td>\n",
       "      <td>1</td>\n",
       "      <td>1</td>\n",
       "      <td>Data Scientist</td>\n",
       "      <td>70000</td>\n",
       "      <td>EUR</td>\n",
       "      <td>79833</td>\n",
       "      <td>DE</td>\n",
       "      <td>0</td>\n",
       "      <td>DE</td>\n",
       "      <td>2</td>\n",
       "    </tr>\n",
       "    <tr>\n",
       "      <th>1</th>\n",
       "      <td>1</td>\n",
       "      <td>2020</td>\n",
       "      <td>2</td>\n",
       "      <td>1</td>\n",
       "      <td>Machine Learning Scientist</td>\n",
       "      <td>260000</td>\n",
       "      <td>USD</td>\n",
       "      <td>260000</td>\n",
       "      <td>JP</td>\n",
       "      <td>0</td>\n",
       "      <td>JP</td>\n",
       "      <td>0</td>\n",
       "    </tr>\n",
       "    <tr>\n",
       "      <th>2</th>\n",
       "      <td>2</td>\n",
       "      <td>2020</td>\n",
       "      <td>2</td>\n",
       "      <td>1</td>\n",
       "      <td>Big Data Engineer</td>\n",
       "      <td>85000</td>\n",
       "      <td>GBP</td>\n",
       "      <td>109024</td>\n",
       "      <td>GB</td>\n",
       "      <td>50</td>\n",
       "      <td>GB</td>\n",
       "      <td>1</td>\n",
       "    </tr>\n",
       "    <tr>\n",
       "      <th>3</th>\n",
       "      <td>3</td>\n",
       "      <td>2020</td>\n",
       "      <td>1</td>\n",
       "      <td>1</td>\n",
       "      <td>Product Data Analyst</td>\n",
       "      <td>20000</td>\n",
       "      <td>USD</td>\n",
       "      <td>20000</td>\n",
       "      <td>HN</td>\n",
       "      <td>0</td>\n",
       "      <td>HN</td>\n",
       "      <td>0</td>\n",
       "    </tr>\n",
       "    <tr>\n",
       "      <th>4</th>\n",
       "      <td>4</td>\n",
       "      <td>2020</td>\n",
       "      <td>2</td>\n",
       "      <td>1</td>\n",
       "      <td>Machine Learning Engineer</td>\n",
       "      <td>150000</td>\n",
       "      <td>USD</td>\n",
       "      <td>150000</td>\n",
       "      <td>US</td>\n",
       "      <td>50</td>\n",
       "      <td>US</td>\n",
       "      <td>2</td>\n",
       "    </tr>\n",
       "  </tbody>\n",
       "</table>\n",
       "</div>"
      ],
      "text/plain": [
       "   Index  work_year  experience_level  employment_type  \\\n",
       "0      0       2020                 1                1   \n",
       "1      1       2020                 2                1   \n",
       "2      2       2020                 2                1   \n",
       "3      3       2020                 1                1   \n",
       "4      4       2020                 2                1   \n",
       "\n",
       "                    job_title  salary salary_currency  salary_in_usd  \\\n",
       "0              Data Scientist   70000             EUR          79833   \n",
       "1  Machine Learning Scientist  260000             USD         260000   \n",
       "2           Big Data Engineer   85000             GBP         109024   \n",
       "3        Product Data Analyst   20000             USD          20000   \n",
       "4   Machine Learning Engineer  150000             USD         150000   \n",
       "\n",
       "  employee_residence  remote_ratio company_location  company_size  \n",
       "0                 DE             0               DE             2  \n",
       "1                 JP             0               JP             0  \n",
       "2                 GB            50               GB             1  \n",
       "3                 HN             0               HN             0  \n",
       "4                 US            50               US             2  "
      ]
     },
     "execution_count": 28,
     "metadata": {},
     "output_type": "execute_result"
    }
   ],
   "source": [
    "dsdata['employment_type'] = dsdata['employment_type'].map( {'PT': 0, 'FT': 1, 'CT': 2, 'FL': 3} ).astype(int)\n",
    "\n",
    "# creating a new dataframe for company size only (in case we need it)\n",
    "employement_type = pd.DataFrame(dsdata['employment_type'])\n",
    "dsdata.head()"
   ]
  },
  {
   "cell_type": "code",
   "execution_count": 29,
   "id": "96c2c755",
   "metadata": {},
   "outputs": [
    {
     "name": "stdout",
     "output_type": "stream",
     "text": [
      "Employement Type: 4\n",
      "1    588\n",
      "0     10\n",
      "2      5\n",
      "3      4\n",
      "Name: employment_type, dtype: int64\n"
     ]
    },
    {
     "data": {
      "image/png": "[encoded data removed]",
      "text/plain": [
       "<Figure size 500x500 with 1 Axes>"
      ]
     },
     "metadata": {},
     "output_type": "display_data"
    }
   ],
   "source": [
    "# Visualize Experience Level\n",
    "print(\"Employement Type:\", len(dsdata['employment_type'].unique()))\n",
    "print(dsdata['employment_type'].value_counts())\n",
    "sb.catplot(y = \"employment_type\", data = dsdata, kind = \"count\")\n",
    "plt.show()"
   ]
  },
  {
   "cell_type": "markdown",
   "id": "54f5887a",
   "metadata": {},
   "source": [
    "---"
   ]
  },
  {
   "attachments": {},
   "cell_type": "markdown",
   "id": "ee9d231e",
   "metadata": {},
   "source": [
    "### creating feature: Split `company_location` to continent level and group them in categorically"
   ]
  },
  {
   "cell_type": "code",
   "execution_count": 4,
   "id": "ef46157a",
   "metadata": {},
   "outputs": [],
   "source": [
    "dsdata['continent'] = dsdata['company_location'].apply(lambda x: 'AFRICA' if x in ['NG','KE','DZ']\n",
    "                                                      else ('ASIA' if x in ['JP', 'IN', 'PK', 'CN', 'AE', 'SG', 'IQ', 'IL', 'IR', 'VN', 'MY']\n",
    "                                                      else ('AUSTRALIA' if x in ['NZ' ,'AU']\n",
    "                                                      else ('EUROPE' if x in ['DE', 'GB', 'HU',\t'FR', 'GR',\t'NL', 'AT', 'ES', 'PT',\t'DK', 'IT', 'HR', 'LU', 'RO', 'BE',\t'UA', 'RU', 'MT',\t'MD', 'SI',\t'CH',\t'TR',\t'CZ',\t'EE',\t'IE']\n",
    "                                                      else ('NORTH AMERICA' if x in ['HN', 'US', 'MX', 'CA', 'AS']\n",
    "                                                      else ('SOUTH AMERICA' ))))))\n",
    "                                                      "
   ]
  },
  {
   "attachments": {},
   "cell_type": "markdown",
   "id": "acf61b30",
   "metadata": {},
   "source": [
    "### creating feature: Create a new feature that categorizes `job_title` into different positions "
   ]
  },
  {
   "cell_type": "code",
   "execution_count": 11,
   "id": "c9d3d6e5",
   "metadata": {},
   "outputs": [],
   "source": [
    "def get_job_type(job_title):\n",
    "    if 'Head' in job_title:\n",
    "        return 'Head'\n",
    "    elif 'Manager' in job_title:\n",
    "        return 'Manager'\n",
    "    elif 'Developer' in job_title:\n",
    "        return 'Developer'\n",
    "    elif 'Analyst' in job_title:\n",
    "        return 'Analyst'\n",
    "    elif 'Scientist' in job_title:\n",
    "        return 'Scientist'\n",
    "    elif 'Consultant' in job_title:\n",
    "        return 'Consultant'\n",
    "    elif 'Engineer' in job_title:\n",
    "        return 'Engineer'\n",
    "    else:\n",
    "        return 'unknown'\n",
    "    \n",
    "\n",
    "\n",
    "dsdata['job_type'] = dsdata['job_title'].apply(get_job_type)"
   ]
  },
  {
   "attachments": {},
   "cell_type": "markdown",
   "id": "b4d95364",
   "metadata": {},
   "source": [
    "### creating feature: Create a new feature that categorizes `job_title` into different domain "
   ]
  },
  {
   "cell_type": "code",
   "execution_count": 12,
   "id": "b112eae4",
   "metadata": {},
   "outputs": [],
   "source": [
    "def get_domain(job_title):\n",
    "    if 'Manager' in job_title:\n",
    "        return 'Management'\n",
    "    elif 'Data' in job_title:\n",
    "        return 'Data science'\n",
    "    elif 'Computer Vision' in job_title:\n",
    "        return 'Computer Vision'\n",
    "    elif 'AI' in job_title:\n",
    "        return 'AI'\n",
    "    elif 'Machine Learning' in job_title or 'ML' in job_title:\n",
    "        return 'Machine Learning'\n",
    "    elif 'NLP' in job_title:\n",
    "        return 'NLP'\n",
    "    else:\n",
    "        return 'Unknown'\n",
    "    \n",
    "\n",
    "\n",
    "dsdata['domain'] = dsdata['job_title'].apply(get_domain)"
   ]
  },
  {
   "cell_type": "markdown",
   "id": "13e8fc8c",
   "metadata": {},
   "source": [
    "### Creating feature: Categorize `remote_ratio` by groups\n",
    "- 3 different categories created \n",
    "    1. 0 - No remote work / less than 20%\n",
    "    2. 1 - 50% Partially remote \n",
    "    3. 2 - 100% Fully remote (more than 80%)"
   ]
  },
  {
   "cell_type": "markdown",
   "id": "2f8ea3fd",
   "metadata": {},
   "source": [
    "#### Explore the `remote_ratio` level category based on the salary"
   ]
  },
  {
   "cell_type": "code",
   "execution_count": 30,
   "id": "4ba80964",
   "metadata": {},
   "outputs": [
    {
     "data": {
      "text/plain": [
       "array([  0,  50, 100], dtype=int64)"
      ]
     },
     "execution_count": 30,
     "metadata": {},
     "output_type": "execute_result"
    }
   ],
   "source": [
    "dsdata['remote_ratio'].unique()"
   ]
  },
  {
   "cell_type": "code",
   "execution_count": 31,
   "id": "378befba",
   "metadata": {},
   "outputs": [
    {
     "name": "stdout",
     "output_type": "stream",
     "text": [
      "Remote Ratio: 3\n",
      "100    381\n",
      "0      127\n",
      "50      99\n",
      "Name: remote_ratio, dtype: int64\n"
     ]
    },
    {
     "data": {
      "image/png": "[encoded data removed]",
      "text/plain": [
       "<Figure size 500x500 with 1 Axes>"
      ]
     },
     "metadata": {},
     "output_type": "display_data"
    }
   ],
   "source": [
    "# Visualize Remote Ratio\n",
    "print(\"Remote Ratio:\", len(dsdata['remote_ratio'].unique()))\n",
    "print(dsdata['remote_ratio'].value_counts())\n",
    "sb.catplot(y = \"remote_ratio\", data = dsdata, kind = \"count\")\n",
    "plt.show()"
   ]
  },
  {
   "cell_type": "code",
   "execution_count": 32,
   "id": "851a976b",
   "metadata": {},
   "outputs": [
    {
     "data": {
      "text/html": [
       "<div>\n",
       "<style scoped>\n",
       "    .dataframe tbody tr th:only-of-type {\n",
       "        vertical-align: middle;\n",
       "    }\n",
       "\n",
       "    .dataframe tbody tr th {\n",
       "        vertical-align: top;\n",
       "    }\n",
       "\n",
       "    .dataframe thead th {\n",
       "        text-align: right;\n",
       "    }\n",
       "</style>\n",
       "<table border=\"1\" class=\"dataframe\">\n",
       "  <thead>\n",
       "    <tr style=\"text-align: right;\">\n",
       "      <th></th>\n",
       "      <th>Index</th>\n",
       "      <th>work_year</th>\n",
       "      <th>experience_level</th>\n",
       "      <th>employment_type</th>\n",
       "      <th>job_title</th>\n",
       "      <th>salary</th>\n",
       "      <th>salary_currency</th>\n",
       "      <th>salary_in_usd</th>\n",
       "      <th>employee_residence</th>\n",
       "      <th>remote_ratio</th>\n",
       "      <th>company_location</th>\n",
       "      <th>company_size</th>\n",
       "    </tr>\n",
       "  </thead>\n",
       "  <tbody>\n",
       "    <tr>\n",
       "      <th>0</th>\n",
       "      <td>0</td>\n",
       "      <td>2020</td>\n",
       "      <td>1</td>\n",
       "      <td>1</td>\n",
       "      <td>Data Scientist</td>\n",
       "      <td>70000</td>\n",
       "      <td>EUR</td>\n",
       "      <td>79833</td>\n",
       "      <td>DE</td>\n",
       "      <td>0</td>\n",
       "      <td>DE</td>\n",
       "      <td>2</td>\n",
       "    </tr>\n",
       "    <tr>\n",
       "      <th>1</th>\n",
       "      <td>1</td>\n",
       "      <td>2020</td>\n",
       "      <td>2</td>\n",
       "      <td>1</td>\n",
       "      <td>Machine Learning Scientist</td>\n",
       "      <td>260000</td>\n",
       "      <td>USD</td>\n",
       "      <td>260000</td>\n",
       "      <td>JP</td>\n",
       "      <td>0</td>\n",
       "      <td>JP</td>\n",
       "      <td>0</td>\n",
       "    </tr>\n",
       "    <tr>\n",
       "      <th>2</th>\n",
       "      <td>2</td>\n",
       "      <td>2020</td>\n",
       "      <td>2</td>\n",
       "      <td>1</td>\n",
       "      <td>Big Data Engineer</td>\n",
       "      <td>85000</td>\n",
       "      <td>GBP</td>\n",
       "      <td>109024</td>\n",
       "      <td>GB</td>\n",
       "      <td>1</td>\n",
       "      <td>GB</td>\n",
       "      <td>1</td>\n",
       "    </tr>\n",
       "    <tr>\n",
       "      <th>3</th>\n",
       "      <td>3</td>\n",
       "      <td>2020</td>\n",
       "      <td>1</td>\n",
       "      <td>1</td>\n",
       "      <td>Product Data Analyst</td>\n",
       "      <td>20000</td>\n",
       "      <td>USD</td>\n",
       "      <td>20000</td>\n",
       "      <td>HN</td>\n",
       "      <td>0</td>\n",
       "      <td>HN</td>\n",
       "      <td>0</td>\n",
       "    </tr>\n",
       "    <tr>\n",
       "      <th>4</th>\n",
       "      <td>4</td>\n",
       "      <td>2020</td>\n",
       "      <td>2</td>\n",
       "      <td>1</td>\n",
       "      <td>Machine Learning Engineer</td>\n",
       "      <td>150000</td>\n",
       "      <td>USD</td>\n",
       "      <td>150000</td>\n",
       "      <td>US</td>\n",
       "      <td>1</td>\n",
       "      <td>US</td>\n",
       "      <td>2</td>\n",
       "    </tr>\n",
       "  </tbody>\n",
       "</table>\n",
       "</div>"
      ],
      "text/plain": [
       "   Index  work_year  experience_level  employment_type  \\\n",
       "0      0       2020                 1                1   \n",
       "1      1       2020                 2                1   \n",
       "2      2       2020                 2                1   \n",
       "3      3       2020                 1                1   \n",
       "4      4       2020                 2                1   \n",
       "\n",
       "                    job_title  salary salary_currency  salary_in_usd  \\\n",
       "0              Data Scientist   70000             EUR          79833   \n",
       "1  Machine Learning Scientist  260000             USD         260000   \n",
       "2           Big Data Engineer   85000             GBP         109024   \n",
       "3        Product Data Analyst   20000             USD          20000   \n",
       "4   Machine Learning Engineer  150000             USD         150000   \n",
       "\n",
       "  employee_residence  remote_ratio company_location  company_size  \n",
       "0                 DE             0               DE             2  \n",
       "1                 JP             0               JP             0  \n",
       "2                 GB             1               GB             1  \n",
       "3                 HN             0               HN             0  \n",
       "4                 US             1               US             2  "
      ]
     },
     "execution_count": 32,
     "metadata": {},
     "output_type": "execute_result"
    }
   ],
   "source": [
    "dsdata['remote_ratio'] = dsdata['remote_ratio'].map( {0: 0, 50: 1, 100: 2} ).astype(int)\n",
    "\n",
    "# creating a new dataframe for company size only (in case we need it)\n",
    "remote_ratio = pd.DataFrame(dsdata['remote_ratio'])\n",
    "dsdata.head()"
   ]
  },
  {
   "cell_type": "code",
   "execution_count": 33,
   "id": "a3ed0022",
   "metadata": {},
   "outputs": [
    {
     "name": "stdout",
     "output_type": "stream",
     "text": [
      "Remote Ratio: 3\n",
      "2    381\n",
      "0    127\n",
      "1     99\n",
      "Name: remote_ratio, dtype: int64\n"
     ]
    },
    {
     "data": {
      "image/png": "[encoded data removed]",
      "text/plain": [
       "<Figure size 500x500 with 1 Axes>"
      ]
     },
     "metadata": {},
     "output_type": "display_data"
    }
   ],
   "source": [
    "# Visualize Remote Ratio\n",
    "print(\"Remote Ratio:\", len(dsdata['remote_ratio'].unique()))\n",
    "print(dsdata['remote_ratio'].value_counts())\n",
    "sb.catplot(y = \"remote_ratio\", data = dsdata, kind = \"count\")\n",
    "plt.show()"
   ]
  },
  {
   "attachments": {},
   "cell_type": "markdown",
   "id": "be1d85ea",
   "metadata": {},
   "source": [
    "### EDA:Explore the domain of `job_title`"
   ]
  },
  {
   "cell_type": "code",
   "execution_count": 13,
   "id": "4429c783",
   "metadata": {},
   "outputs": [
    {
     "data": {
      "image/png": "[encoded data removed]",
      "text/plain": [
       "<Figure size 640x480 with 1 Axes>"
      ]
     },
     "metadata": {},
     "output_type": "display_data"
    }
   ],
   "source": [
    "domain = dsdata['domain']\n",
    "counts = domain.value_counts()\n",
    "counts.plot(kind='bar')\n",
    "plt.title('Job Title Counts')\n",
    "plt.xlabel('Job Title')\n",
    "plt.ylabel('Count')\n",
    "plt.show()"
   ]
  },
  {
   "cell_type": "code",
   "execution_count": null,
   "id": "630cf341",
   "metadata": {},
   "outputs": [],
   "source": []
  }
 ],
 "metadata": {
  "kernelspec": {
   "display_name": "Python 3 (ipykernel)",
   "language": "python",
   "name": "python3"
  },
  "language_info": {
   "codemirror_mode": {
    "name": "ipython",
    "version": 3
   },
   "file_extension": ".py",
   "mimetype": "text/x-python",
   "name": "python",
   "nbconvert_exporter": "python",
   "pygments_lexer": "ipython3",
   "version": "3.11.2"
  }
 },
 "nbformat": 4,
 "nbformat_minor": 5
}
