{
 "cells": [
  {
   "cell_type": "markdown",
   "id": "1c10fc2e",
   "metadata": {},
   "source": [
    "# Mini Project - Job Salaries Dataset\n",
    "## Prediction Models\n",
    "Models Used in this File:\n",
    "- Decision Tree Regressor\n",
    "- Linear Regression\n",
    "- Support Vector Machine"
   ]
  },
  {
   "cell_type": "code",
   "execution_count": 27,
   "id": "8f743c38",
   "metadata": {},
   "outputs": [],
   "source": [
    "# Basic Libraries\n",
    "import numpy as np\n",
    "import pandas as pd\n",
    "import seaborn as sb\n",
    "import collections\n",
    "from scipy import stats\n",
    "import matplotlib.pyplot as plt # we only need pyplot\n",
    "sb.set() # set the default Seaborn style for graphics\n",
    "from sklearn.model_selection import train_test_split\n",
    "from math import sqrt\n",
    "from datetime import datetime, timedelta\n",
    "# Import Decision Tree Classifier model from Scikit-Learn\n",
    "from sklearn.tree import DecisionTreeClassifier\n",
    "# Plot the trained Decision Tree\n",
    "from sklearn.tree import plot_tree\n",
    "# for plotting confusion matrix\n",
    "from sklearn.metrics import confusion_matrix\n",
    "from collections import Counter\n",
    "\n",
    "\n",
    "from sklearn.model_selection import GridSearchCV\n",
    "from sklearn import tree\n",
    "from sklearn.neural_network import MLPClassifier\n",
    "from sklearn.metrics import mean_squared_error\n",
    "from sklearn.tree import DecisionTreeClassifier\n",
    "from sklearn. ensemble import RandomForestClassifier, RandomForestRegressor, BaggingClassifier, AdaBoostClassifier, VotingClassifier\n",
    "from sklearn.metrics import accuracy_score\n",
    "from sklearn.svm import SVC, SVR\n",
    "from sklearn.model_selection import cross_val_score, cross_validate"
   ]
  },
  {
   "cell_type": "code",
   "execution_count": 28,
   "id": "5337d834",
   "metadata": {},
   "outputs": [
    {
     "data": {
      "text/html": [
       "<div>\n",
       "<style scoped>\n",
       "    .dataframe tbody tr th:only-of-type {\n",
       "        vertical-align: middle;\n",
       "    }\n",
       "\n",
       "    .dataframe tbody tr th {\n",
       "        vertical-align: top;\n",
       "    }\n",
       "\n",
       "    .dataframe thead th {\n",
       "        text-align: right;\n",
       "    }\n",
       "</style>\n",
       "<table border=\"1\" class=\"dataframe\">\n",
       "  <thead>\n",
       "    <tr style=\"text-align: right;\">\n",
       "      <th></th>\n",
       "      <th>work_year</th>\n",
       "      <th>salary</th>\n",
       "      <th>salary_in_usd</th>\n",
       "      <th>remote_ratio</th>\n",
       "      <th>compare_avr_salary</th>\n",
       "      <th>experience_levelN</th>\n",
       "      <th>company_sizeN</th>\n",
       "      <th>employment_typeN</th>\n",
       "      <th>employee_continentN</th>\n",
       "      <th>company_continentN</th>\n",
       "    </tr>\n",
       "  </thead>\n",
       "  <tbody>\n",
       "    <tr>\n",
       "      <th>0</th>\n",
       "      <td>2020</td>\n",
       "      <td>70000</td>\n",
       "      <td>79833</td>\n",
       "      <td>0</td>\n",
       "      <td>1</td>\n",
       "      <td>1</td>\n",
       "      <td>2</td>\n",
       "      <td>1</td>\n",
       "      <td>0</td>\n",
       "      <td>0</td>\n",
       "    </tr>\n",
       "    <tr>\n",
       "      <th>1</th>\n",
       "      <td>2020</td>\n",
       "      <td>260000</td>\n",
       "      <td>260000</td>\n",
       "      <td>0</td>\n",
       "      <td>1</td>\n",
       "      <td>2</td>\n",
       "      <td>0</td>\n",
       "      <td>1</td>\n",
       "      <td>1</td>\n",
       "      <td>1</td>\n",
       "    </tr>\n",
       "    <tr>\n",
       "      <th>2</th>\n",
       "      <td>2020</td>\n",
       "      <td>85000</td>\n",
       "      <td>109024</td>\n",
       "      <td>1</td>\n",
       "      <td>1</td>\n",
       "      <td>2</td>\n",
       "      <td>1</td>\n",
       "      <td>1</td>\n",
       "      <td>0</td>\n",
       "      <td>0</td>\n",
       "    </tr>\n",
       "    <tr>\n",
       "      <th>3</th>\n",
       "      <td>2020</td>\n",
       "      <td>20000</td>\n",
       "      <td>20000</td>\n",
       "      <td>0</td>\n",
       "      <td>0</td>\n",
       "      <td>1</td>\n",
       "      <td>0</td>\n",
       "      <td>1</td>\n",
       "      <td>2</td>\n",
       "      <td>2</td>\n",
       "    </tr>\n",
       "    <tr>\n",
       "      <th>4</th>\n",
       "      <td>2020</td>\n",
       "      <td>150000</td>\n",
       "      <td>150000</td>\n",
       "      <td>1</td>\n",
       "      <td>1</td>\n",
       "      <td>2</td>\n",
       "      <td>2</td>\n",
       "      <td>1</td>\n",
       "      <td>2</td>\n",
       "      <td>2</td>\n",
       "    </tr>\n",
       "  </tbody>\n",
       "</table>\n",
       "</div>"
      ],
      "text/plain": [
       "   work_year  salary  salary_in_usd  remote_ratio  compare_avr_salary  \\\n",
       "0       2020   70000          79833             0                   1   \n",
       "1       2020  260000         260000             0                   1   \n",
       "2       2020   85000         109024             1                   1   \n",
       "3       2020   20000          20000             0                   0   \n",
       "4       2020  150000         150000             1                   1   \n",
       "\n",
       "   experience_levelN  company_sizeN  employment_typeN  employee_continentN  \\\n",
       "0                  1              2                 1                    0   \n",
       "1                  2              0                 1                    1   \n",
       "2                  2              1                 1                    0   \n",
       "3                  1              0                 1                    2   \n",
       "4                  2              2                 1                    2   \n",
       "\n",
       "   company_continentN  \n",
       "0                   0  \n",
       "1                   1  \n",
       "2                   0  \n",
       "3                   2  \n",
       "4                   2  "
      ]
     },
     "execution_count": 28,
     "metadata": {},
     "output_type": "execute_result"
    }
   ],
   "source": [
    "dsdata = pd.read_csv('new_ds_salaries.csv')\n",
    "ds_new = dsdata.copy()\n",
    "\n",
    "# Exploring the numeric data in hr_data\n",
    "ds_num = ds_new.select_dtypes(['int64', 'float64']).copy()\n",
    "ds_num.head()\n"
   ]
  },
  {
   "cell_type": "markdown",
   "id": "31435dd7",
   "metadata": {},
   "source": [
    "## 1. Decision Tree Regressor"
   ]
  },
  {
   "cell_type": "markdown",
   "id": "3d198e2a",
   "metadata": {},
   "source": [
    "### 1.1. Define Model Inputs (X) & Output (y)"
   ]
  },
  {
   "cell_type": "code",
   "execution_count": 29,
   "id": "d66f62c5",
   "metadata": {},
   "outputs": [],
   "source": [
    "X = ds_num.drop(['salary_in_usd', 'work_year', 'salary'], axis=1)\n",
    "y = ds_num['salary_in_usd']"
   ]
  },
  {
   "cell_type": "code",
   "execution_count": 30,
   "id": "0dfedc92",
   "metadata": {},
   "outputs": [],
   "source": [
    "X_train, X_test, y_train, y_test = train_test_split(X, y, test_size=0.3, random_state=1)"
   ]
  },
  {
   "cell_type": "markdown",
   "id": "b6351617",
   "metadata": {},
   "source": [
    "### 1.2. Create Decision Tree Regressor Model"
   ]
  },
  {
   "cell_type": "code",
   "execution_count": 31,
   "id": "35437d7d",
   "metadata": {},
   "outputs": [
    {
     "data": {
      "text/html": [
       "<style>#sk-container-id-3 {color: black;background-color: white;}#sk-container-id-3 pre{padding: 0;}#sk-container-id-3 div.sk-toggleable {background-color: white;}#sk-container-id-3 label.sk-toggleable__label {cursor: pointer;display: block;width: 100%;margin-bottom: 0;padding: 0.3em;box-sizing: border-box;text-align: center;}#sk-container-id-3 label.sk-toggleable__label-arrow:before {content: \"▸\";float: left;margin-right: 0.25em;color: #696969;}#sk-container-id-3 label.sk-toggleable__label-arrow:hover:before {color: black;}#sk-container-id-3 div.sk-estimator:hover label.sk-toggleable__label-arrow:before {color: black;}#sk-container-id-3 div.sk-toggleable__content {max-height: 0;max-width: 0;overflow: hidden;text-align: left;background-color: #f0f8ff;}#sk-container-id-3 div.sk-toggleable__content pre {margin: 0.2em;color: black;border-radius: 0.25em;background-color: #f0f8ff;}#sk-container-id-3 input.sk-toggleable__control:checked~div.sk-toggleable__content {max-height: 200px;max-width: 100%;overflow: auto;}#sk-container-id-3 input.sk-toggleable__control:checked~label.sk-toggleable__label-arrow:before {content: \"▾\";}#sk-container-id-3 div.sk-estimator input.sk-toggleable__control:checked~label.sk-toggleable__label {background-color: #d4ebff;}#sk-container-id-3 div.sk-label input.sk-toggleable__control:checked~label.sk-toggleable__label {background-color: #d4ebff;}#sk-container-id-3 input.sk-hidden--visually {border: 0;clip: rect(1px 1px 1px 1px);clip: rect(1px, 1px, 1px, 1px);height: 1px;margin: -1px;overflow: hidden;padding: 0;position: absolute;width: 1px;}#sk-container-id-3 div.sk-estimator {font-family: monospace;background-color: #f0f8ff;border: 1px dotted black;border-radius: 0.25em;box-sizing: border-box;margin-bottom: 0.5em;}#sk-container-id-3 div.sk-estimator:hover {background-color: #d4ebff;}#sk-container-id-3 div.sk-parallel-item::after {content: \"\";width: 100%;border-bottom: 1px solid gray;flex-grow: 1;}#sk-container-id-3 div.sk-label:hover label.sk-toggleable__label {background-color: #d4ebff;}#sk-container-id-3 div.sk-serial::before {content: \"\";position: absolute;border-left: 1px solid gray;box-sizing: border-box;top: 0;bottom: 0;left: 50%;z-index: 0;}#sk-container-id-3 div.sk-serial {display: flex;flex-direction: column;align-items: center;background-color: white;padding-right: 0.2em;padding-left: 0.2em;position: relative;}#sk-container-id-3 div.sk-item {position: relative;z-index: 1;}#sk-container-id-3 div.sk-parallel {display: flex;align-items: stretch;justify-content: center;background-color: white;position: relative;}#sk-container-id-3 div.sk-item::before, #sk-container-id-3 div.sk-parallel-item::before {content: \"\";position: absolute;border-left: 1px solid gray;box-sizing: border-box;top: 0;bottom: 0;left: 50%;z-index: -1;}#sk-container-id-3 div.sk-parallel-item {display: flex;flex-direction: column;z-index: 1;position: relative;background-color: white;}#sk-container-id-3 div.sk-parallel-item:first-child::after {align-self: flex-end;width: 50%;}#sk-container-id-3 div.sk-parallel-item:last-child::after {align-self: flex-start;width: 50%;}#sk-container-id-3 div.sk-parallel-item:only-child::after {width: 0;}#sk-container-id-3 div.sk-dashed-wrapped {border: 1px dashed gray;margin: 0 0.4em 0.5em 0.4em;box-sizing: border-box;padding-bottom: 0.4em;background-color: white;}#sk-container-id-3 div.sk-label label {font-family: monospace;font-weight: bold;display: inline-block;line-height: 1.2em;}#sk-container-id-3 div.sk-label-container {text-align: center;}#sk-container-id-3 div.sk-container {/* jupyter's `normalize.less` sets `[hidden] { display: none; }` but bootstrap.min.css set `[hidden] { display: none !important; }` so we also need the `!important` here to be able to override the default hidden behavior on the sphinx rendered scikit-learn.org. See: https://github.com/scikit-learn/scikit-learn/issues/21755 */display: inline-block !important;position: relative;}#sk-container-id-3 div.sk-text-repr-fallback {display: none;}</style><div id=\"sk-container-id-3\" class=\"sk-top-container\"><div class=\"sk-text-repr-fallback\"><pre>DecisionTreeRegressor(max_depth=40, random_state=2)</pre><b>In a Jupyter environment, please rerun this cell to show the HTML representation or trust the notebook. <br />On GitHub, the HTML representation is unable to render, please try loading this page with nbviewer.org.</b></div><div class=\"sk-container\" hidden><div class=\"sk-item\"><div class=\"sk-estimator sk-toggleable\"><input class=\"sk-toggleable__control sk-hidden--visually\" id=\"sk-estimator-id-3\" type=\"checkbox\" checked><label for=\"sk-estimator-id-3\" class=\"sk-toggleable__label sk-toggleable__label-arrow\">DecisionTreeRegressor</label><div class=\"sk-toggleable__content\"><pre>DecisionTreeRegressor(max_depth=40, random_state=2)</pre></div></div></div></div></div>"
      ],
      "text/plain": [
       "DecisionTreeRegressor(max_depth=40, random_state=2)"
      ]
     },
     "execution_count": 31,
     "metadata": {},
     "output_type": "execute_result"
    }
   ],
   "source": [
    "# Create Decision Tree Model\n",
    "tree_reg = tree.DecisionTreeRegressor(max_depth=40, random_state=2)\n",
    "tree_reg.fit(X_train, y_train)"
   ]
  },
  {
   "cell_type": "markdown",
   "id": "a541f9c4",
   "metadata": {},
   "source": [
    "### 1.3. Evaluating Decision Tree Regressor Model"
   ]
  },
  {
   "cell_type": "code",
   "execution_count": 32,
   "id": "1d430bc1",
   "metadata": {},
   "outputs": [
    {
     "name": "stdout",
     "output_type": "stream",
     "text": [
      "Training Root Mean Squared Error is:  43274.89780422692\n",
      "Testing Root Mean Squared Error is:  50805.92102065478\n"
     ]
    }
   ],
   "source": [
    "# Training MSE\n",
    "train_mse = sqrt(mean_squared_error(tree_reg.predict(X_train), y_train))\n",
    "print('Training Root Mean Squared Error is: ', train_mse)\n",
    "\n",
    "# Testing mse\n",
    "test_mse = sqrt(mean_squared_error(tree_reg.predict(X_test), y_test))\n",
    "print('Testing Root Mean Squared Error is: ',test_mse)"
   ]
  },
  {
   "cell_type": "code",
   "execution_count": 33,
   "id": "432719cb",
   "metadata": {},
   "outputs": [
    {
     "name": "stdout",
     "output_type": "stream",
     "text": [
      "Training R^2 value is:  0.6527145903666689\n",
      "Testing R^2 value is:  0.3822188904871636\n"
     ]
    }
   ],
   "source": [
    "train_R2 = tree_reg.score(X_train, y_train)\n",
    "print('Training R^2 value is: ', train_R2)\n",
    "test_R2 = tree_reg.score(X_test, y_test)\n",
    "print('Testing R^2 value is: ', test_R2)"
   ]
  },
  {
   "cell_type": "markdown",
   "id": "abc48caa",
   "metadata": {},
   "source": [
    "### 1.4. Check using K-Fold Cross Validation to see if it will improve accuracy"
   ]
  },
  {
   "cell_type": "code",
   "execution_count": 34,
   "id": "1185f13e",
   "metadata": {},
   "outputs": [
    {
     "name": "stdout",
     "output_type": "stream",
     "text": [
      "Training Score:  [-1.36321987e+09 -1.84138812e+09 -1.81362243e+09 -1.86982251e+09\n",
      " -1.69590998e+09]\n",
      "Testing Score:  [-8.79004687e+09 -2.98851088e+09 -2.55417600e+09 -2.52575967e+09\n",
      " -2.49799918e+09]\n"
     ]
    }
   ],
   "source": [
    "results = cross_validate(tree_reg, X, y, scoring='neg_mean_squared_error', cv=5, return_train_score = True)\n",
    "print('Training Score: ', results['train_score'])\n",
    "print('Testing Score: ', results['test_score'])"
   ]
  },
  {
   "cell_type": "code",
   "execution_count": 35,
   "id": "41b189b1",
   "metadata": {},
   "outputs": [
    {
     "name": "stdout",
     "output_type": "stream",
     "text": [
      "Cross Validation Training Root MSE is: 41434.19579116102\n",
      "Cross Validation Testing Root MSE is: 62219.75988419238\n"
     ]
    }
   ],
   "source": [
    "print('Cross Validation Training Root MSE is:', sqrt(sum(-results['train_score'])/len(results['train_score'])))\n",
    "print('Cross Validation Testing Root MSE is:', sqrt(sum(-results['test_score'])/len(results['test_score'])))"
   ]
  },
  {
   "cell_type": "markdown",
   "id": "36256eca",
   "metadata": {},
   "source": [
    "### 1.5. Improving Decision Tree Regressor Model"
   ]
  },
  {
   "cell_type": "markdown",
   "id": "e5d0b03c",
   "metadata": {},
   "source": [
    "#### Using Gridsearch to improve on the model\n",
    "- Finding the best Hyperparameters to select on modelling"
   ]
  },
  {
   "cell_type": "code",
   "execution_count": 36,
   "id": "4215803c",
   "metadata": {},
   "outputs": [
    {
     "name": "stdout",
     "output_type": "stream",
     "text": [
      "-2517258438.3874726\n",
      "{'criterion': 'squared_error', 'max_depth': 40, 'min_samples_leaf': 15, 'min_samples_split': 16}\n"
     ]
    }
   ],
   "source": [
    "param_grid = { \"criterion\" : [\"squared_error\", \"friedman_mse\", \"absolute_error\", \"poisson\"],\n",
    "                 \"min_samples_leaf\" : [15,20,25,35],\n",
    "                 \"min_samples_split\" : [16,22,26,29],\n",
    "                 'max_depth' : [40,45,50,55]}\n",
    "gs = GridSearchCV(tree_reg, param_grid=param_grid, scoring='neg_mean_squared_error', cv= 10, n_jobs=-1)\n",
    "gs = gs.fit(X, y)\n",
    "print(gs.best_score_)\n",
    "print(gs.best_params_)"
   ]
  },
  {
   "cell_type": "markdown",
   "id": "799aea60",
   "metadata": {},
   "source": [
    "### 1.6. Create New Decision Tree Regressor Model with new Hyperparameters"
   ]
  },
  {
   "cell_type": "code",
   "execution_count": 37,
   "id": "1a03e2e0",
   "metadata": {},
   "outputs": [
    {
     "data": {
      "text/html": [
       "<style>#sk-container-id-4 {color: black;background-color: white;}#sk-container-id-4 pre{padding: 0;}#sk-container-id-4 div.sk-toggleable {background-color: white;}#sk-container-id-4 label.sk-toggleable__label {cursor: pointer;display: block;width: 100%;margin-bottom: 0;padding: 0.3em;box-sizing: border-box;text-align: center;}#sk-container-id-4 label.sk-toggleable__label-arrow:before {content: \"▸\";float: left;margin-right: 0.25em;color: #696969;}#sk-container-id-4 label.sk-toggleable__label-arrow:hover:before {color: black;}#sk-container-id-4 div.sk-estimator:hover label.sk-toggleable__label-arrow:before {color: black;}#sk-container-id-4 div.sk-toggleable__content {max-height: 0;max-width: 0;overflow: hidden;text-align: left;background-color: #f0f8ff;}#sk-container-id-4 div.sk-toggleable__content pre {margin: 0.2em;color: black;border-radius: 0.25em;background-color: #f0f8ff;}#sk-container-id-4 input.sk-toggleable__control:checked~div.sk-toggleable__content {max-height: 200px;max-width: 100%;overflow: auto;}#sk-container-id-4 input.sk-toggleable__control:checked~label.sk-toggleable__label-arrow:before {content: \"▾\";}#sk-container-id-4 div.sk-estimator input.sk-toggleable__control:checked~label.sk-toggleable__label {background-color: #d4ebff;}#sk-container-id-4 div.sk-label input.sk-toggleable__control:checked~label.sk-toggleable__label {background-color: #d4ebff;}#sk-container-id-4 input.sk-hidden--visually {border: 0;clip: rect(1px 1px 1px 1px);clip: rect(1px, 1px, 1px, 1px);height: 1px;margin: -1px;overflow: hidden;padding: 0;position: absolute;width: 1px;}#sk-container-id-4 div.sk-estimator {font-family: monospace;background-color: #f0f8ff;border: 1px dotted black;border-radius: 0.25em;box-sizing: border-box;margin-bottom: 0.5em;}#sk-container-id-4 div.sk-estimator:hover {background-color: #d4ebff;}#sk-container-id-4 div.sk-parallel-item::after {content: \"\";width: 100%;border-bottom: 1px solid gray;flex-grow: 1;}#sk-container-id-4 div.sk-label:hover label.sk-toggleable__label {background-color: #d4ebff;}#sk-container-id-4 div.sk-serial::before {content: \"\";position: absolute;border-left: 1px solid gray;box-sizing: border-box;top: 0;bottom: 0;left: 50%;z-index: 0;}#sk-container-id-4 div.sk-serial {display: flex;flex-direction: column;align-items: center;background-color: white;padding-right: 0.2em;padding-left: 0.2em;position: relative;}#sk-container-id-4 div.sk-item {position: relative;z-index: 1;}#sk-container-id-4 div.sk-parallel {display: flex;align-items: stretch;justify-content: center;background-color: white;position: relative;}#sk-container-id-4 div.sk-item::before, #sk-container-id-4 div.sk-parallel-item::before {content: \"\";position: absolute;border-left: 1px solid gray;box-sizing: border-box;top: 0;bottom: 0;left: 50%;z-index: -1;}#sk-container-id-4 div.sk-parallel-item {display: flex;flex-direction: column;z-index: 1;position: relative;background-color: white;}#sk-container-id-4 div.sk-parallel-item:first-child::after {align-self: flex-end;width: 50%;}#sk-container-id-4 div.sk-parallel-item:last-child::after {align-self: flex-start;width: 50%;}#sk-container-id-4 div.sk-parallel-item:only-child::after {width: 0;}#sk-container-id-4 div.sk-dashed-wrapped {border: 1px dashed gray;margin: 0 0.4em 0.5em 0.4em;box-sizing: border-box;padding-bottom: 0.4em;background-color: white;}#sk-container-id-4 div.sk-label label {font-family: monospace;font-weight: bold;display: inline-block;line-height: 1.2em;}#sk-container-id-4 div.sk-label-container {text-align: center;}#sk-container-id-4 div.sk-container {/* jupyter's `normalize.less` sets `[hidden] { display: none; }` but bootstrap.min.css set `[hidden] { display: none !important; }` so we also need the `!important` here to be able to override the default hidden behavior on the sphinx rendered scikit-learn.org. See: https://github.com/scikit-learn/scikit-learn/issues/21755 */display: inline-block !important;position: relative;}#sk-container-id-4 div.sk-text-repr-fallback {display: none;}</style><div id=\"sk-container-id-4\" class=\"sk-top-container\"><div class=\"sk-text-repr-fallback\"><pre>DecisionTreeRegressor(criterion=&#x27;poisson&#x27;, max_depth=40, min_samples_leaf=15,\n",
       "                      min_samples_split=16)</pre><b>In a Jupyter environment, please rerun this cell to show the HTML representation or trust the notebook. <br />On GitHub, the HTML representation is unable to render, please try loading this page with nbviewer.org.</b></div><div class=\"sk-container\" hidden><div class=\"sk-item\"><div class=\"sk-estimator sk-toggleable\"><input class=\"sk-toggleable__control sk-hidden--visually\" id=\"sk-estimator-id-4\" type=\"checkbox\" checked><label for=\"sk-estimator-id-4\" class=\"sk-toggleable__label sk-toggleable__label-arrow\">DecisionTreeRegressor</label><div class=\"sk-toggleable__content\"><pre>DecisionTreeRegressor(criterion=&#x27;poisson&#x27;, max_depth=40, min_samples_leaf=15,\n",
       "                      min_samples_split=16)</pre></div></div></div></div></div>"
      ],
      "text/plain": [
       "DecisionTreeRegressor(criterion='poisson', max_depth=40, min_samples_leaf=15,\n",
       "                      min_samples_split=16)"
      ]
     },
     "execution_count": 37,
     "metadata": {},
     "output_type": "execute_result"
    }
   ],
   "source": [
    "tree_reg_new = tree.DecisionTreeRegressor(criterion='poisson', max_depth = 40, min_samples_leaf = 15, min_samples_split=16)\n",
    "tree_reg_new.fit(X_train, y_train)"
   ]
  },
  {
   "cell_type": "markdown",
   "id": "677ba59c",
   "metadata": {},
   "source": [
    "### 1.7. Evaluating model based on newly improved model with hyperparameters"
   ]
  },
  {
   "cell_type": "code",
   "execution_count": 38,
   "id": "8e473a4d",
   "metadata": {},
   "outputs": [
    {
     "name": "stdout",
     "output_type": "stream",
     "text": [
      "Training Root Mean Squared Error is:  43274.89780422692\n",
      "Testing Root Mean Squared Error is:  50805.92102065478\n"
     ]
    }
   ],
   "source": [
    "#training mse\n",
    "new_train_mse = sqrt(mean_squared_error(tree_reg_new.predict(X_train), y_train))\n",
    "print('Training Root Mean Squared Error is: ', train_mse)\n",
    "#testing mse\n",
    "new_test_mse = sqrt(mean_squared_error(tree_reg_new.predict(X_test), y_test))\n",
    "print('Testing Root Mean Squared Error is: ', test_mse)"
   ]
  },
  {
   "cell_type": "code",
   "execution_count": 39,
   "id": "3c98cf8a",
   "metadata": {},
   "outputs": [
    {
     "name": "stdout",
     "output_type": "stream",
     "text": [
      "Training R^2 value is:  0.4880372067291717\n",
      "Testing R^2 value is:  0.5963031157460726\n"
     ]
    }
   ],
   "source": [
    "train_R2_new = tree_reg_new.score(X_train, y_train)\n",
    "print('Training R^2 value is: ', train_R2_new)\n",
    "test_R2_new = tree_reg_new.score(X_test, y_test)\n",
    "print('Testing R^2 value is: ', test_R2_new)"
   ]
  },
  {
   "cell_type": "markdown",
   "id": "8ddf9fc2",
   "metadata": {},
   "source": [
    "### 1.8. Check whether using K-fold Cross Validation will further improve the accuracy on the new Decision Tree Regressor Model"
   ]
  },
  {
   "cell_type": "code",
   "execution_count": 40,
   "id": "6596bf80",
   "metadata": {},
   "outputs": [
    {
     "name": "stdout",
     "output_type": "stream",
     "text": [
      "train_score:  [-1.97862647e+09 -2.40218837e+09 -2.42550820e+09 -2.63209033e+09\n",
      " -2.32002371e+09]\n",
      "test_score:  [-3.71073112e+09 -2.22288206e+09 -2.50392802e+09 -1.63775566e+09\n",
      " -2.42847862e+09]\n"
     ]
    }
   ],
   "source": [
    "# Evaluate the Model using K-folds Cross validation\n",
    "new_results = cross_validate(tree_reg_new, X, y, scoring='neg_mean_squared_error', cv=5, return_train_score = True)\n",
    "print('train_score: ', new_results['train_score'])\n",
    "print('test_score: ', new_results['test_score'])"
   ]
  },
  {
   "cell_type": "code",
   "execution_count": 41,
   "id": "b670f2b7",
   "metadata": {},
   "outputs": [
    {
     "name": "stdout",
     "output_type": "stream",
     "text": [
      "cross validation training root mean_squared_error is: 48494.19981191559\n",
      "cross validation testing  root mean_squared_error is: 50007.55038089571\n"
     ]
    }
   ],
   "source": [
    "print('cross validation training root mean_squared_error is:', sqrt(sum(-new_results['train_score'])/len(new_results['train_score'])))\n",
    "print('cross validation testing  root mean_squared_error is:', sqrt(sum(-new_results['test_score'])/len(new_results['test_score'])))"
   ]
  },
  {
   "cell_type": "markdown",
   "id": "3e1a0c26",
   "metadata": {},
   "source": [
    "### 1.9. Overview of Model"
   ]
  },
  {
   "cell_type": "code",
   "execution_count": 42,
   "id": "a817e2e1",
   "metadata": {},
   "outputs": [
    {
     "name": "stdout",
     "output_type": "stream",
     "text": [
      "**Current Decision Tree Regressor Model**\n",
      "\n",
      "RMSE Scores\n",
      "---Before---\n",
      "Training Root Mean Squared Error is:  43274.89780422692\n",
      "Testing Root Mean Squared Error is:  50805.92102065478\n",
      "Cross Validation Training Root mean_squared_error is: 41434.19579116102\n",
      "Cross Validation Testing Root mean_squared_error is: 62219.75988419238\n",
      "\n",
      "---After---\n",
      "Training Root Mean Squared Error is:  52542.65111712872\n",
      "Testing Root Mean Squared Error is:  41070.001182039974\n",
      "Cross Validation Training Root mean_squared_error is: 48494.19981191559\n",
      "Cross Validation Testing Root mean_squared_error is: 50007.55038089571\n",
      "\n",
      "Accuracy\n",
      "---Before---\n",
      "training R^2 value is:  0.6527145903666689\n",
      "testing R^2 value is:  0.3822188904871636\n",
      "\n",
      "---After---\n",
      "training R^2 value is:  0.4880372067291717\n",
      "testing R^2 value is:  0.5963031157460726\n"
     ]
    }
   ],
   "source": [
    "print(\"**Current Decision Tree Regressor Model**\")\n",
    "print()\n",
    "print(\"RMSE Scores\")\n",
    "print(\"---Before---\")\n",
    "print('Training Root Mean Squared Error is: ', train_mse)\n",
    "print('Testing Root Mean Squared Error is: ', test_mse)\n",
    "print('Cross Validation Training Root mean_squared_error is:', sqrt(sum(-results['train_score'])/len(results['train_score'])))\n",
    "print('Cross Validation Testing Root mean_squared_error is:', sqrt(sum(-results['test_score'])/len(results['test_score'])))\n",
    "print()\n",
    "print(\"---After---\")\n",
    "print('Training Root Mean Squared Error is: ', new_train_mse)\n",
    "print('Testing Root Mean Squared Error is: ', new_test_mse)\n",
    "print('Cross Validation Training Root mean_squared_error is:', sqrt(sum(-new_results['train_score'])/len(new_results['train_score'])))\n",
    "print('Cross Validation Testing Root mean_squared_error is:', sqrt(sum(-new_results['test_score'])/len(new_results['test_score'])))\n",
    "print()\n",
    "print(\"Accuracy\")\n",
    "print(\"---Before---\")\n",
    "\n",
    "print('training R^2 value is: ', train_R2)\n",
    "print('testing R^2 value is: ', test_R2)\n",
    "print()\n",
    "print(\"---After---\")\n",
    "print('training R^2 value is: ', train_R2_new)\n",
    "print('testing R^2 value is: ', test_R2_new)"
   ]
  },
  {
   "cell_type": "markdown",
   "id": "c74ea5e2",
   "metadata": {},
   "source": [
    "After applying the best hyperparameters and refitting the Decision Tree Regressor Model again\n",
    "\n",
    "We can see that the training model and the testing model from before and after have changed drastically\n",
    "The RMSE have decreased from before and after hyperparameters have been selected\n",
    "However, after applying cross validation, the RMSE of training are testing models are more closely matched as compared to before.\n",
    "\n",
    "The R^2 training and testing values have greatly improved after applying gridsearch and cross validation\n",
    "\n",
    "However, the model can still be further improved by finding out the importance of features and dropping insignificant ones near the bottom of the tree"
   ]
  },
  {
   "cell_type": "markdown",
   "id": "5d827e88",
   "metadata": {},
   "source": [
    "### 1.10. Using Feature Importance to determine important data features"
   ]
  },
  {
   "cell_type": "code",
   "execution_count": 43,
   "id": "6e3e0ff6",
   "metadata": {},
   "outputs": [
    {
     "data": {
      "text/html": [
       "<div>\n",
       "<style scoped>\n",
       "    .dataframe tbody tr th:only-of-type {\n",
       "        vertical-align: middle;\n",
       "    }\n",
       "\n",
       "    .dataframe tbody tr th {\n",
       "        vertical-align: top;\n",
       "    }\n",
       "\n",
       "    .dataframe thead th {\n",
       "        text-align: right;\n",
       "    }\n",
       "</style>\n",
       "<table border=\"1\" class=\"dataframe\">\n",
       "  <thead>\n",
       "    <tr style=\"text-align: right;\">\n",
       "      <th></th>\n",
       "      <th>feature</th>\n",
       "      <th>importance</th>\n",
       "    </tr>\n",
       "  </thead>\n",
       "  <tbody>\n",
       "    <tr>\n",
       "      <th>1</th>\n",
       "      <td>compare_avr_salary</td>\n",
       "      <td>0.816401</td>\n",
       "    </tr>\n",
       "    <tr>\n",
       "      <th>6</th>\n",
       "      <td>company_continentN</td>\n",
       "      <td>0.080849</td>\n",
       "    </tr>\n",
       "    <tr>\n",
       "      <th>2</th>\n",
       "      <td>experience_levelN</td>\n",
       "      <td>0.061262</td>\n",
       "    </tr>\n",
       "    <tr>\n",
       "      <th>3</th>\n",
       "      <td>company_sizeN</td>\n",
       "      <td>0.019316</td>\n",
       "    </tr>\n",
       "    <tr>\n",
       "      <th>5</th>\n",
       "      <td>employee_continentN</td>\n",
       "      <td>0.014220</td>\n",
       "    </tr>\n",
       "    <tr>\n",
       "      <th>0</th>\n",
       "      <td>remote_ratio</td>\n",
       "      <td>0.007952</td>\n",
       "    </tr>\n",
       "    <tr>\n",
       "      <th>4</th>\n",
       "      <td>employment_typeN</td>\n",
       "      <td>0.000000</td>\n",
       "    </tr>\n",
       "  </tbody>\n",
       "</table>\n",
       "</div>"
      ],
      "text/plain": [
       "               feature  importance\n",
       "1   compare_avr_salary    0.816401\n",
       "6   company_continentN    0.080849\n",
       "2    experience_levelN    0.061262\n",
       "3        company_sizeN    0.019316\n",
       "5  employee_continentN    0.014220\n",
       "0         remote_ratio    0.007952\n",
       "4     employment_typeN    0.000000"
      ]
     },
     "execution_count": 43,
     "metadata": {},
     "output_type": "execute_result"
    }
   ],
   "source": [
    "pd.concat((pd.DataFrame(X_train.columns, columns = ['feature']), \n",
    "           pd.DataFrame(tree_reg_new.feature_importances_, columns = ['importance'])), \n",
    "          axis = 1).sort_values(by='importance', ascending = False)"
   ]
  },
  {
   "cell_type": "markdown",
   "id": "d229aa46",
   "metadata": {},
   "source": [
    "- Thinking to drop the unimportant columns, but will be left with one or two columns to be used on the model"
   ]
  },
  {
   "cell_type": "markdown",
   "id": "97d73d02",
   "metadata": {},
   "source": [
    "---"
   ]
  },
  {
   "cell_type": "markdown",
   "id": "885881f9",
   "metadata": {},
   "source": [
    "## 2.0. Linear Regression"
   ]
  },
  {
   "cell_type": "code",
   "execution_count": 44,
   "id": "c972f304",
   "metadata": {},
   "outputs": [
    {
     "data": {
      "text/html": [
       "<div>\n",
       "<style scoped>\n",
       "    .dataframe tbody tr th:only-of-type {\n",
       "        vertical-align: middle;\n",
       "    }\n",
       "\n",
       "    .dataframe tbody tr th {\n",
       "        vertical-align: top;\n",
       "    }\n",
       "\n",
       "    .dataframe thead th {\n",
       "        text-align: right;\n",
       "    }\n",
       "</style>\n",
       "<table border=\"1\" class=\"dataframe\">\n",
       "  <thead>\n",
       "    <tr style=\"text-align: right;\">\n",
       "      <th></th>\n",
       "      <th>employment_type</th>\n",
       "      <th>employee_continent</th>\n",
       "      <th>company_continent</th>\n",
       "      <th>domain</th>\n",
       "      <th>job_type</th>\n",
       "      <th>remote_ratio</th>\n",
       "      <th>experience_level</th>\n",
       "      <th>company_size</th>\n",
       "      <th>salary_in_usd</th>\n",
       "    </tr>\n",
       "  </thead>\n",
       "  <tbody>\n",
       "    <tr>\n",
       "      <th>0</th>\n",
       "      <td>FT</td>\n",
       "      <td>EUROPE</td>\n",
       "      <td>EUROPE</td>\n",
       "      <td>Data science</td>\n",
       "      <td>Scientist</td>\n",
       "      <td>0</td>\n",
       "      <td>MI</td>\n",
       "      <td>L</td>\n",
       "      <td>79833</td>\n",
       "    </tr>\n",
       "    <tr>\n",
       "      <th>1</th>\n",
       "      <td>FT</td>\n",
       "      <td>ASIA</td>\n",
       "      <td>ASIA</td>\n",
       "      <td>Machine Learning</td>\n",
       "      <td>Scientist</td>\n",
       "      <td>0</td>\n",
       "      <td>SE</td>\n",
       "      <td>S</td>\n",
       "      <td>260000</td>\n",
       "    </tr>\n",
       "    <tr>\n",
       "      <th>2</th>\n",
       "      <td>FT</td>\n",
       "      <td>EUROPE</td>\n",
       "      <td>EUROPE</td>\n",
       "      <td>Data science</td>\n",
       "      <td>Engineer</td>\n",
       "      <td>1</td>\n",
       "      <td>SE</td>\n",
       "      <td>M</td>\n",
       "      <td>109024</td>\n",
       "    </tr>\n",
       "    <tr>\n",
       "      <th>3</th>\n",
       "      <td>FT</td>\n",
       "      <td>NORTH AMERICA</td>\n",
       "      <td>NORTH AMERICA</td>\n",
       "      <td>Data science</td>\n",
       "      <td>Analyst</td>\n",
       "      <td>0</td>\n",
       "      <td>MI</td>\n",
       "      <td>S</td>\n",
       "      <td>20000</td>\n",
       "    </tr>\n",
       "    <tr>\n",
       "      <th>4</th>\n",
       "      <td>FT</td>\n",
       "      <td>NORTH AMERICA</td>\n",
       "      <td>NORTH AMERICA</td>\n",
       "      <td>Machine Learning</td>\n",
       "      <td>Engineer</td>\n",
       "      <td>1</td>\n",
       "      <td>SE</td>\n",
       "      <td>L</td>\n",
       "      <td>150000</td>\n",
       "    </tr>\n",
       "  </tbody>\n",
       "</table>\n",
       "</div>"
      ],
      "text/plain": [
       "  employment_type employee_continent company_continent            domain  \\\n",
       "0              FT             EUROPE            EUROPE      Data science   \n",
       "1              FT               ASIA              ASIA  Machine Learning   \n",
       "2              FT             EUROPE            EUROPE      Data science   \n",
       "3              FT      NORTH AMERICA     NORTH AMERICA      Data science   \n",
       "4              FT      NORTH AMERICA     NORTH AMERICA  Machine Learning   \n",
       "\n",
       "    job_type  remote_ratio experience_level company_size  salary_in_usd  \n",
       "0  Scientist             0               MI            L          79833  \n",
       "1  Scientist             0               SE            S         260000  \n",
       "2   Engineer             1               SE            M         109024  \n",
       "3    Analyst             0               MI            S          20000  \n",
       "4   Engineer             1               SE            L         150000  "
      ]
     },
     "execution_count": 44,
     "metadata": {},
     "output_type": "execute_result"
    }
   ],
   "source": [
    "df=dsdata[[\"employment_type\", \"employee_continent\", \"company_continent\", \"domain\", \"job_type\",\"remote_ratio\",\"experience_level\",\"company_size\",\"salary_in_usd\"]]\n",
    "df.head()"
   ]
  },
  {
   "cell_type": "code",
   "execution_count": 45,
   "id": "b867d525",
   "metadata": {},
   "outputs": [
    {
     "data": {
      "text/html": [
       "<div>\n",
       "<style scoped>\n",
       "    .dataframe tbody tr th:only-of-type {\n",
       "        vertical-align: middle;\n",
       "    }\n",
       "\n",
       "    .dataframe tbody tr th {\n",
       "        vertical-align: top;\n",
       "    }\n",
       "\n",
       "    .dataframe thead th {\n",
       "        text-align: right;\n",
       "    }\n",
       "</style>\n",
       "<table border=\"1\" class=\"dataframe\">\n",
       "  <thead>\n",
       "    <tr style=\"text-align: right;\">\n",
       "      <th></th>\n",
       "      <th>remote_ratio</th>\n",
       "      <th>experience_level</th>\n",
       "      <th>company_size</th>\n",
       "      <th>salary_in_usd</th>\n",
       "      <th>employment_type_CT</th>\n",
       "      <th>employment_type_FL</th>\n",
       "      <th>employment_type_FT</th>\n",
       "      <th>employment_type_PT</th>\n",
       "      <th>employee_continent_AFRICA</th>\n",
       "      <th>employee_continent_ASIA</th>\n",
       "      <th>...</th>\n",
       "      <th>domain_Management</th>\n",
       "      <th>domain_NLP</th>\n",
       "      <th>domain_Unknown</th>\n",
       "      <th>job_type_Analyst</th>\n",
       "      <th>job_type_Consultant</th>\n",
       "      <th>job_type_Developer</th>\n",
       "      <th>job_type_Engineer</th>\n",
       "      <th>job_type_Head</th>\n",
       "      <th>job_type_Manager</th>\n",
       "      <th>job_type_Scientist</th>\n",
       "    </tr>\n",
       "  </thead>\n",
       "  <tbody>\n",
       "    <tr>\n",
       "      <th>0</th>\n",
       "      <td>0</td>\n",
       "      <td>1</td>\n",
       "      <td>2</td>\n",
       "      <td>79833</td>\n",
       "      <td>0</td>\n",
       "      <td>0</td>\n",
       "      <td>1</td>\n",
       "      <td>0</td>\n",
       "      <td>0</td>\n",
       "      <td>0</td>\n",
       "      <td>...</td>\n",
       "      <td>0</td>\n",
       "      <td>0</td>\n",
       "      <td>0</td>\n",
       "      <td>0</td>\n",
       "      <td>0</td>\n",
       "      <td>0</td>\n",
       "      <td>0</td>\n",
       "      <td>0</td>\n",
       "      <td>0</td>\n",
       "      <td>1</td>\n",
       "    </tr>\n",
       "    <tr>\n",
       "      <th>1</th>\n",
       "      <td>0</td>\n",
       "      <td>2</td>\n",
       "      <td>0</td>\n",
       "      <td>260000</td>\n",
       "      <td>0</td>\n",
       "      <td>0</td>\n",
       "      <td>1</td>\n",
       "      <td>0</td>\n",
       "      <td>0</td>\n",
       "      <td>1</td>\n",
       "      <td>...</td>\n",
       "      <td>0</td>\n",
       "      <td>0</td>\n",
       "      <td>0</td>\n",
       "      <td>0</td>\n",
       "      <td>0</td>\n",
       "      <td>0</td>\n",
       "      <td>0</td>\n",
       "      <td>0</td>\n",
       "      <td>0</td>\n",
       "      <td>1</td>\n",
       "    </tr>\n",
       "    <tr>\n",
       "      <th>2</th>\n",
       "      <td>1</td>\n",
       "      <td>2</td>\n",
       "      <td>1</td>\n",
       "      <td>109024</td>\n",
       "      <td>0</td>\n",
       "      <td>0</td>\n",
       "      <td>1</td>\n",
       "      <td>0</td>\n",
       "      <td>0</td>\n",
       "      <td>0</td>\n",
       "      <td>...</td>\n",
       "      <td>0</td>\n",
       "      <td>0</td>\n",
       "      <td>0</td>\n",
       "      <td>0</td>\n",
       "      <td>0</td>\n",
       "      <td>0</td>\n",
       "      <td>1</td>\n",
       "      <td>0</td>\n",
       "      <td>0</td>\n",
       "      <td>0</td>\n",
       "    </tr>\n",
       "    <tr>\n",
       "      <th>3</th>\n",
       "      <td>0</td>\n",
       "      <td>1</td>\n",
       "      <td>0</td>\n",
       "      <td>20000</td>\n",
       "      <td>0</td>\n",
       "      <td>0</td>\n",
       "      <td>1</td>\n",
       "      <td>0</td>\n",
       "      <td>0</td>\n",
       "      <td>0</td>\n",
       "      <td>...</td>\n",
       "      <td>0</td>\n",
       "      <td>0</td>\n",
       "      <td>0</td>\n",
       "      <td>1</td>\n",
       "      <td>0</td>\n",
       "      <td>0</td>\n",
       "      <td>0</td>\n",
       "      <td>0</td>\n",
       "      <td>0</td>\n",
       "      <td>0</td>\n",
       "    </tr>\n",
       "    <tr>\n",
       "      <th>4</th>\n",
       "      <td>1</td>\n",
       "      <td>2</td>\n",
       "      <td>2</td>\n",
       "      <td>150000</td>\n",
       "      <td>0</td>\n",
       "      <td>0</td>\n",
       "      <td>1</td>\n",
       "      <td>0</td>\n",
       "      <td>0</td>\n",
       "      <td>0</td>\n",
       "      <td>...</td>\n",
       "      <td>0</td>\n",
       "      <td>0</td>\n",
       "      <td>0</td>\n",
       "      <td>0</td>\n",
       "      <td>0</td>\n",
       "      <td>0</td>\n",
       "      <td>1</td>\n",
       "      <td>0</td>\n",
       "      <td>0</td>\n",
       "      <td>0</td>\n",
       "    </tr>\n",
       "  </tbody>\n",
       "</table>\n",
       "<p>5 rows × 34 columns</p>\n",
       "</div>"
      ],
      "text/plain": [
       "   remote_ratio  experience_level  company_size  salary_in_usd  \\\n",
       "0             0                 1             2          79833   \n",
       "1             0                 2             0         260000   \n",
       "2             1                 2             1         109024   \n",
       "3             0                 1             0          20000   \n",
       "4             1                 2             2         150000   \n",
       "\n",
       "   employment_type_CT  employment_type_FL  employment_type_FT  \\\n",
       "0                   0                   0                   1   \n",
       "1                   0                   0                   1   \n",
       "2                   0                   0                   1   \n",
       "3                   0                   0                   1   \n",
       "4                   0                   0                   1   \n",
       "\n",
       "   employment_type_PT  employee_continent_AFRICA  employee_continent_ASIA  \\\n",
       "0                   0                          0                        0   \n",
       "1                   0                          0                        1   \n",
       "2                   0                          0                        0   \n",
       "3                   0                          0                        0   \n",
       "4                   0                          0                        0   \n",
       "\n",
       "   ...  domain_Management  domain_NLP  domain_Unknown  job_type_Analyst  \\\n",
       "0  ...                  0           0               0                 0   \n",
       "1  ...                  0           0               0                 0   \n",
       "2  ...                  0           0               0                 0   \n",
       "3  ...                  0           0               0                 1   \n",
       "4  ...                  0           0               0                 0   \n",
       "\n",
       "   job_type_Consultant  job_type_Developer  job_type_Engineer  job_type_Head  \\\n",
       "0                    0                   0                  0              0   \n",
       "1                    0                   0                  0              0   \n",
       "2                    0                   0                  1              0   \n",
       "3                    0                   0                  0              0   \n",
       "4                    0                   0                  1              0   \n",
       "\n",
       "   job_type_Manager  job_type_Scientist  \n",
       "0                 0                   1  \n",
       "1                 0                   1  \n",
       "2                 0                   0  \n",
       "3                 0                   0  \n",
       "4                 0                   0  \n",
       "\n",
       "[5 rows x 34 columns]"
      ]
     },
     "execution_count": 45,
     "metadata": {},
     "output_type": "execute_result"
    }
   ],
   "source": [
    "\n",
    "# One Hot Encoding\n",
    "df_encoded = pd.get_dummies(df, columns=[\"employment_type\", \"employee_continent\", \"company_continent\", \"domain\", \"job_type\"])\n",
    "\n",
    "# Integer Encoding\n",
    "df_encoded[\"remote_ratio\"] = df_encoded[\"remote_ratio\"].replace({0:0, 1:1, 2:2})\n",
    "df_encoded[\"experience_level\"] = df_encoded[\"experience_level\"].replace({\"EN\":0, \"MI\":1, \"SE\":2, \"EX\":3})\n",
    "df_encoded[\"company_size\"] = df_encoded[\"company_size\"].replace({\"S\":0, \"M\":1, \"L\":2})\n",
    "\n",
    "df_encoded.head()\n"
   ]
  },
  {
   "cell_type": "code",
   "execution_count": 46,
   "id": "f2bdd89c",
   "metadata": {},
   "outputs": [
    {
     "data": {
      "text/html": [
       "<style>#sk-container-id-5 {color: black;background-color: white;}#sk-container-id-5 pre{padding: 0;}#sk-container-id-5 div.sk-toggleable {background-color: white;}#sk-container-id-5 label.sk-toggleable__label {cursor: pointer;display: block;width: 100%;margin-bottom: 0;padding: 0.3em;box-sizing: border-box;text-align: center;}#sk-container-id-5 label.sk-toggleable__label-arrow:before {content: \"▸\";float: left;margin-right: 0.25em;color: #696969;}#sk-container-id-5 label.sk-toggleable__label-arrow:hover:before {color: black;}#sk-container-id-5 div.sk-estimator:hover label.sk-toggleable__label-arrow:before {color: black;}#sk-container-id-5 div.sk-toggleable__content {max-height: 0;max-width: 0;overflow: hidden;text-align: left;background-color: #f0f8ff;}#sk-container-id-5 div.sk-toggleable__content pre {margin: 0.2em;color: black;border-radius: 0.25em;background-color: #f0f8ff;}#sk-container-id-5 input.sk-toggleable__control:checked~div.sk-toggleable__content {max-height: 200px;max-width: 100%;overflow: auto;}#sk-container-id-5 input.sk-toggleable__control:checked~label.sk-toggleable__label-arrow:before {content: \"▾\";}#sk-container-id-5 div.sk-estimator input.sk-toggleable__control:checked~label.sk-toggleable__label {background-color: #d4ebff;}#sk-container-id-5 div.sk-label input.sk-toggleable__control:checked~label.sk-toggleable__label {background-color: #d4ebff;}#sk-container-id-5 input.sk-hidden--visually {border: 0;clip: rect(1px 1px 1px 1px);clip: rect(1px, 1px, 1px, 1px);height: 1px;margin: -1px;overflow: hidden;padding: 0;position: absolute;width: 1px;}#sk-container-id-5 div.sk-estimator {font-family: monospace;background-color: #f0f8ff;border: 1px dotted black;border-radius: 0.25em;box-sizing: border-box;margin-bottom: 0.5em;}#sk-container-id-5 div.sk-estimator:hover {background-color: #d4ebff;}#sk-container-id-5 div.sk-parallel-item::after {content: \"\";width: 100%;border-bottom: 1px solid gray;flex-grow: 1;}#sk-container-id-5 div.sk-label:hover label.sk-toggleable__label {background-color: #d4ebff;}#sk-container-id-5 div.sk-serial::before {content: \"\";position: absolute;border-left: 1px solid gray;box-sizing: border-box;top: 0;bottom: 0;left: 50%;z-index: 0;}#sk-container-id-5 div.sk-serial {display: flex;flex-direction: column;align-items: center;background-color: white;padding-right: 0.2em;padding-left: 0.2em;position: relative;}#sk-container-id-5 div.sk-item {position: relative;z-index: 1;}#sk-container-id-5 div.sk-parallel {display: flex;align-items: stretch;justify-content: center;background-color: white;position: relative;}#sk-container-id-5 div.sk-item::before, #sk-container-id-5 div.sk-parallel-item::before {content: \"\";position: absolute;border-left: 1px solid gray;box-sizing: border-box;top: 0;bottom: 0;left: 50%;z-index: -1;}#sk-container-id-5 div.sk-parallel-item {display: flex;flex-direction: column;z-index: 1;position: relative;background-color: white;}#sk-container-id-5 div.sk-parallel-item:first-child::after {align-self: flex-end;width: 50%;}#sk-container-id-5 div.sk-parallel-item:last-child::after {align-self: flex-start;width: 50%;}#sk-container-id-5 div.sk-parallel-item:only-child::after {width: 0;}#sk-container-id-5 div.sk-dashed-wrapped {border: 1px dashed gray;margin: 0 0.4em 0.5em 0.4em;box-sizing: border-box;padding-bottom: 0.4em;background-color: white;}#sk-container-id-5 div.sk-label label {font-family: monospace;font-weight: bold;display: inline-block;line-height: 1.2em;}#sk-container-id-5 div.sk-label-container {text-align: center;}#sk-container-id-5 div.sk-container {/* jupyter's `normalize.less` sets `[hidden] { display: none; }` but bootstrap.min.css set `[hidden] { display: none !important; }` so we also need the `!important` here to be able to override the default hidden behavior on the sphinx rendered scikit-learn.org. See: https://github.com/scikit-learn/scikit-learn/issues/21755 */display: inline-block !important;position: relative;}#sk-container-id-5 div.sk-text-repr-fallback {display: none;}</style><div id=\"sk-container-id-5\" class=\"sk-top-container\"><div class=\"sk-text-repr-fallback\"><pre>LinearRegression()</pre><b>In a Jupyter environment, please rerun this cell to show the HTML representation or trust the notebook. <br />On GitHub, the HTML representation is unable to render, please try loading this page with nbviewer.org.</b></div><div class=\"sk-container\" hidden><div class=\"sk-item\"><div class=\"sk-estimator sk-toggleable\"><input class=\"sk-toggleable__control sk-hidden--visually\" id=\"sk-estimator-id-5\" type=\"checkbox\" checked><label for=\"sk-estimator-id-5\" class=\"sk-toggleable__label sk-toggleable__label-arrow\">LinearRegression</label><div class=\"sk-toggleable__content\"><pre>LinearRegression()</pre></div></div></div></div></div>"
      ],
      "text/plain": [
       "LinearRegression()"
      ]
     },
     "execution_count": 46,
     "metadata": {},
     "output_type": "execute_result"
    }
   ],
   "source": [
    "from sklearn.model_selection import train_test_split\n",
    "from sklearn.linear_model import LinearRegression\n",
    "\n",
    "\n",
    "X = df_encoded.drop(\"salary_in_usd\", axis=1)\n",
    "y = df_encoded[\"salary_in_usd\"]\n",
    "\n",
    "X_train, X_test, y_train, y_test = train_test_split(X, y, test_size=0.3, random_state=48)\n",
    "model_lg = LinearRegression()\n",
    "model_lg.fit(X_train, y_train)\n"
   ]
  },
  {
   "cell_type": "code",
   "execution_count": 47,
   "id": "aacaad5b",
   "metadata": {},
   "outputs": [
    {
     "data": {
      "image/png": "[encoded data removed]",
      "text/plain": [
       "<Figure size 2400x1200 with 2 Axes>"
      ]
     },
     "metadata": {},
     "output_type": "display_data"
    }
   ],
   "source": [
    "\n",
    "y_train_pred = model_lg.predict(X_train)\n",
    "y_test_pred = model_lg.predict(X_test)\n",
    "\n",
    "# Plot the Predictions vs the True values\n",
    "f, axes = plt.subplots(1, 2, figsize=(24, 12))\n",
    "axes[0].scatter(y_train, y_train_pred, color = \"blue\")\n",
    "axes[0].plot(y_train, y_train, 'w-', linewidth = 1)\n",
    "axes[0].set_xlabel(\"True values of the Response Variable (Train)\")\n",
    "axes[0].set_ylabel(\"Predicted values of the Response Variable (Train)\")\n",
    "axes[1].scatter(y_test, y_test_pred, color = \"green\")\n",
    "axes[1].plot(y_test, y_test, 'w-', linewidth = 1)\n",
    "axes[1].set_xlabel(\"True values of the Response Variable (Test)\")\n",
    "axes[1].set_ylabel(\"Predicted values of the Response Variable (Test)\")\n",
    "plt.show()"
   ]
  },
  {
   "cell_type": "code",
   "execution_count": 48,
   "id": "c4eecb6d",
   "metadata": {},
   "outputs": [
    {
     "name": "stdout",
     "output_type": "stream",
     "text": [
      "Goodness of Fit of Model \tTrain Dataset\n",
      "Explained Variance (R^2) \t: 0.4582920172876539\n",
      "Root Mean Squared Error (RMSE) \t: 53865.969637895316\n",
      "\n",
      "Prediction Accuracy of Model \tTest Dataset\n",
      "Explained Variance (R^2) \t: 0.3415965673881016\n",
      "Root Mean Squared Error (RMSE) \t: 52049.099593898056\n",
      "\n"
     ]
    }
   ],
   "source": [
    "from sklearn.metrics import mean_squared_error\n",
    " \n",
    "# Check the Goodness of Fit (on Train Data)\n",
    "print(\"Goodness of Fit of Model \\tTrain Dataset\")\n",
    "print(\"Explained Variance (R^2) \\t:\", model_lg.score(X_train, y_train))\n",
    "print(\"Root Mean Squared Error (RMSE) \\t:\", sqrt(mean_squared_error(y_train, y_train_pred)))\n",
    "print()\n",
    "\n",
    "# Check the Goodness of Fit (on Test Data)\n",
    "print(\"Prediction Accuracy of Model \\tTest Dataset\")\n",
    "print(\"Explained Variance (R^2) \\t:\", model_lg.score(X_test, y_test))\n",
    "print(\"Root Mean Squared Error (RMSE) \\t:\", sqrt(mean_squared_error(y_test, y_test_pred)))\n",
    "print()"
   ]
  },
  {
   "cell_type": "markdown",
   "id": "90ee47fc",
   "metadata": {},
   "source": [
    "### 2.1. Try to imporve the performance of the linear regression model by droping outlier"
   ]
  },
  {
   "cell_type": "code",
   "execution_count": 49,
   "id": "21258cb6",
   "metadata": {},
   "outputs": [
    {
     "data": {
      "text/plain": [
       "(597, 9)"
      ]
     },
     "execution_count": 49,
     "metadata": {},
     "output_type": "execute_result"
    }
   ],
   "source": [
    "df2 = dsdata.loc[dsdata['salary_group'] != 'outlier', [\"employment_type\", \"employee_continent\", \"company_continent\", \"domain\", \"job_type\",\"remote_ratio\",\"experience_level\",\"company_size\",\"salary_in_usd\"]].copy()\n",
    "df2.shape"
   ]
  },
  {
   "cell_type": "code",
   "execution_count": 50,
   "id": "31ae6fd0",
   "metadata": {},
   "outputs": [
    {
     "data": {
      "text/html": [
       "<div>\n",
       "<style scoped>\n",
       "    .dataframe tbody tr th:only-of-type {\n",
       "        vertical-align: middle;\n",
       "    }\n",
       "\n",
       "    .dataframe tbody tr th {\n",
       "        vertical-align: top;\n",
       "    }\n",
       "\n",
       "    .dataframe thead th {\n",
       "        text-align: right;\n",
       "    }\n",
       "</style>\n",
       "<table border=\"1\" class=\"dataframe\">\n",
       "  <thead>\n",
       "    <tr style=\"text-align: right;\">\n",
       "      <th></th>\n",
       "      <th>remote_ratio</th>\n",
       "      <th>experience_level</th>\n",
       "      <th>company_size</th>\n",
       "      <th>salary_in_usd</th>\n",
       "      <th>employment_type_CT</th>\n",
       "      <th>employment_type_FL</th>\n",
       "      <th>employment_type_FT</th>\n",
       "      <th>employment_type_PT</th>\n",
       "      <th>employee_continent_AFRICA</th>\n",
       "      <th>employee_continent_ASIA</th>\n",
       "      <th>...</th>\n",
       "      <th>domain_Management</th>\n",
       "      <th>domain_NLP</th>\n",
       "      <th>domain_Unknown</th>\n",
       "      <th>job_type_Analyst</th>\n",
       "      <th>job_type_Consultant</th>\n",
       "      <th>job_type_Developer</th>\n",
       "      <th>job_type_Engineer</th>\n",
       "      <th>job_type_Head</th>\n",
       "      <th>job_type_Manager</th>\n",
       "      <th>job_type_Scientist</th>\n",
       "    </tr>\n",
       "  </thead>\n",
       "  <tbody>\n",
       "    <tr>\n",
       "      <th>0</th>\n",
       "      <td>0</td>\n",
       "      <td>1</td>\n",
       "      <td>2</td>\n",
       "      <td>79833</td>\n",
       "      <td>0</td>\n",
       "      <td>0</td>\n",
       "      <td>1</td>\n",
       "      <td>0</td>\n",
       "      <td>0</td>\n",
       "      <td>0</td>\n",
       "      <td>...</td>\n",
       "      <td>0</td>\n",
       "      <td>0</td>\n",
       "      <td>0</td>\n",
       "      <td>0</td>\n",
       "      <td>0</td>\n",
       "      <td>0</td>\n",
       "      <td>0</td>\n",
       "      <td>0</td>\n",
       "      <td>0</td>\n",
       "      <td>1</td>\n",
       "    </tr>\n",
       "    <tr>\n",
       "      <th>1</th>\n",
       "      <td>0</td>\n",
       "      <td>2</td>\n",
       "      <td>0</td>\n",
       "      <td>260000</td>\n",
       "      <td>0</td>\n",
       "      <td>0</td>\n",
       "      <td>1</td>\n",
       "      <td>0</td>\n",
       "      <td>0</td>\n",
       "      <td>1</td>\n",
       "      <td>...</td>\n",
       "      <td>0</td>\n",
       "      <td>0</td>\n",
       "      <td>0</td>\n",
       "      <td>0</td>\n",
       "      <td>0</td>\n",
       "      <td>0</td>\n",
       "      <td>0</td>\n",
       "      <td>0</td>\n",
       "      <td>0</td>\n",
       "      <td>1</td>\n",
       "    </tr>\n",
       "    <tr>\n",
       "      <th>2</th>\n",
       "      <td>1</td>\n",
       "      <td>2</td>\n",
       "      <td>1</td>\n",
       "      <td>109024</td>\n",
       "      <td>0</td>\n",
       "      <td>0</td>\n",
       "      <td>1</td>\n",
       "      <td>0</td>\n",
       "      <td>0</td>\n",
       "      <td>0</td>\n",
       "      <td>...</td>\n",
       "      <td>0</td>\n",
       "      <td>0</td>\n",
       "      <td>0</td>\n",
       "      <td>0</td>\n",
       "      <td>0</td>\n",
       "      <td>0</td>\n",
       "      <td>1</td>\n",
       "      <td>0</td>\n",
       "      <td>0</td>\n",
       "      <td>0</td>\n",
       "    </tr>\n",
       "    <tr>\n",
       "      <th>3</th>\n",
       "      <td>0</td>\n",
       "      <td>1</td>\n",
       "      <td>0</td>\n",
       "      <td>20000</td>\n",
       "      <td>0</td>\n",
       "      <td>0</td>\n",
       "      <td>1</td>\n",
       "      <td>0</td>\n",
       "      <td>0</td>\n",
       "      <td>0</td>\n",
       "      <td>...</td>\n",
       "      <td>0</td>\n",
       "      <td>0</td>\n",
       "      <td>0</td>\n",
       "      <td>1</td>\n",
       "      <td>0</td>\n",
       "      <td>0</td>\n",
       "      <td>0</td>\n",
       "      <td>0</td>\n",
       "      <td>0</td>\n",
       "      <td>0</td>\n",
       "    </tr>\n",
       "    <tr>\n",
       "      <th>4</th>\n",
       "      <td>1</td>\n",
       "      <td>2</td>\n",
       "      <td>2</td>\n",
       "      <td>150000</td>\n",
       "      <td>0</td>\n",
       "      <td>0</td>\n",
       "      <td>1</td>\n",
       "      <td>0</td>\n",
       "      <td>0</td>\n",
       "      <td>0</td>\n",
       "      <td>...</td>\n",
       "      <td>0</td>\n",
       "      <td>0</td>\n",
       "      <td>0</td>\n",
       "      <td>0</td>\n",
       "      <td>0</td>\n",
       "      <td>0</td>\n",
       "      <td>1</td>\n",
       "      <td>0</td>\n",
       "      <td>0</td>\n",
       "      <td>0</td>\n",
       "    </tr>\n",
       "  </tbody>\n",
       "</table>\n",
       "<p>5 rows × 34 columns</p>\n",
       "</div>"
      ],
      "text/plain": [
       "   remote_ratio  experience_level  company_size  salary_in_usd  \\\n",
       "0             0                 1             2          79833   \n",
       "1             0                 2             0         260000   \n",
       "2             1                 2             1         109024   \n",
       "3             0                 1             0          20000   \n",
       "4             1                 2             2         150000   \n",
       "\n",
       "   employment_type_CT  employment_type_FL  employment_type_FT  \\\n",
       "0                   0                   0                   1   \n",
       "1                   0                   0                   1   \n",
       "2                   0                   0                   1   \n",
       "3                   0                   0                   1   \n",
       "4                   0                   0                   1   \n",
       "\n",
       "   employment_type_PT  employee_continent_AFRICA  employee_continent_ASIA  \\\n",
       "0                   0                          0                        0   \n",
       "1                   0                          0                        1   \n",
       "2                   0                          0                        0   \n",
       "3                   0                          0                        0   \n",
       "4                   0                          0                        0   \n",
       "\n",
       "   ...  domain_Management  domain_NLP  domain_Unknown  job_type_Analyst  \\\n",
       "0  ...                  0           0               0                 0   \n",
       "1  ...                  0           0               0                 0   \n",
       "2  ...                  0           0               0                 0   \n",
       "3  ...                  0           0               0                 1   \n",
       "4  ...                  0           0               0                 0   \n",
       "\n",
       "   job_type_Consultant  job_type_Developer  job_type_Engineer  job_type_Head  \\\n",
       "0                    0                   0                  0              0   \n",
       "1                    0                   0                  0              0   \n",
       "2                    0                   0                  1              0   \n",
       "3                    0                   0                  0              0   \n",
       "4                    0                   0                  1              0   \n",
       "\n",
       "   job_type_Manager  job_type_Scientist  \n",
       "0                 0                   1  \n",
       "1                 0                   1  \n",
       "2                 0                   0  \n",
       "3                 0                   0  \n",
       "4                 0                   0  \n",
       "\n",
       "[5 rows x 34 columns]"
      ]
     },
     "execution_count": 50,
     "metadata": {},
     "output_type": "execute_result"
    }
   ],
   "source": [
    "# One Hot Encoding\n",
    "df_encoded2 = pd.get_dummies(df2, columns=[\"employment_type\", \"employee_continent\", \"company_continent\", \"domain\", \"job_type\"])\n",
    "\n",
    "# Integer Encoding\n",
    "df_encoded2[\"remote_ratio\"] = df_encoded2[\"remote_ratio\"].replace({0:0, 1:1, 2:2})\n",
    "df_encoded2[\"experience_level\"] = df_encoded2[\"experience_level\"].replace({\"EN\":0, \"MI\":1, \"SE\":2, \"EX\":3})\n",
    "df_encoded2[\"company_size\"] = df_encoded2[\"company_size\"].replace({\"S\":0, \"M\":1, \"L\":2})\n",
    "\n",
    "df_encoded2.head()"
   ]
  },
  {
   "cell_type": "code",
   "execution_count": 51,
   "id": "526752e3",
   "metadata": {},
   "outputs": [
    {
     "data": {
      "image/png": "[encoded data removed]",
      "text/plain": [
       "<Figure size 2400x1200 with 2 Axes>"
      ]
     },
     "metadata": {},
     "output_type": "display_data"
    }
   ],
   "source": [
    "X2 = df_encoded2.drop(\"salary_in_usd\", axis=1)\n",
    "y2 = df_encoded2[\"salary_in_usd\"]\n",
    "\n",
    "X_train2, X_test2, y_train2, y_test2 = train_test_split(X2, y2, test_size=0.2, random_state=48)\n",
    "model_lg2 = LinearRegression()\n",
    "model_lg2.fit(X_train2, y_train2)\n",
    "\n",
    "y_train_pred2 = model_lg2.predict(X_train2)\n",
    "y_test_pred2 = model_lg2.predict(X_test2)\n",
    "\n",
    "# Plot the Predictions vs the True values\n",
    "f, axes = plt.subplots(1, 2, figsize=(24, 12))\n",
    "axes[0].scatter(y_train2, y_train_pred2, color = \"blue\")\n",
    "axes[0].plot(y_train2, y_train2, 'w-', linewidth = 1)\n",
    "axes[0].set_xlabel(\"True values of the Response Variable (Train)\")\n",
    "axes[0].set_ylabel(\"Predicted values of the Response Variable (Train)\")\n",
    "axes[1].scatter(y_test2, y_test_pred2, color = \"green\")\n",
    "axes[1].plot(y_test2, y_test2, 'w-', linewidth = 1)\n",
    "axes[1].set_xlabel(\"True values of the Response Variable (Test)\")\n",
    "axes[1].set_ylabel(\"Predicted values of the Response Variable (Test)\")\n",
    "plt.show()"
   ]
  },
  {
   "cell_type": "code",
   "execution_count": 52,
   "id": "5dc2a2da",
   "metadata": {},
   "outputs": [
    {
     "name": "stdout",
     "output_type": "stream",
     "text": [
      "Goodness of Fit of Model \tTrain Dataset\n",
      "Explained Variance (R^2) \t: 0.5958494907588698\n",
      "Root Mean Squared Error (RMSE) \t: 37518.28383685604\n",
      "\n",
      "Prediction Accuracy of Model \tTest Dataset\n",
      "Explained Variance (R^2) \t: 0.3689473665647558\n",
      "Root Mean Squared Error (RMSE) \t: 44767.1763113519\n",
      "\n"
     ]
    }
   ],
   "source": [
    "# Check the Goodness of Fit (on Train Data)\n",
    "print(\"Goodness of Fit of Model \\tTrain Dataset\")\n",
    "print(\"Explained Variance (R^2) \\t:\", model_lg2.score(X_train2, y_train2))\n",
    "print(\"Root Mean Squared Error (RMSE) \\t:\", sqrt(mean_squared_error(y_train2, y_train_pred2)))\n",
    "print()\n",
    "\n",
    "# Check the Goodness of Fit (on Test Data)\n",
    "print(\"Prediction Accuracy of Model \\tTest Dataset\")\n",
    "print(\"Explained Variance (R^2) \\t:\", model_lg2.score(X_test2, y_test2))\n",
    "print(\"Root Mean Squared Error (RMSE) \\t:\", sqrt(mean_squared_error(y_test2, y_test_pred2)))\n",
    "print()"
   ]
  },
  {
   "attachments": {},
   "cell_type": "markdown",
   "id": "46d889e0",
   "metadata": {},
   "source": [
    "#### comment: After droping outliers, the model's performance become better on train dataset, but there is no significant improvement on test dataset."
   ]
  },
  {
   "attachments": {},
   "cell_type": "markdown",
   "id": "7a90a783",
   "metadata": {},
   "source": [
    "### 2.2 Check using K-Fold Cross Validation to see if it will improve accuracy"
   ]
  },
  {
   "cell_type": "code",
   "execution_count": 53,
   "id": "593f90a2",
   "metadata": {},
   "outputs": [
    {
     "name": "stdout",
     "output_type": "stream",
     "text": [
      "Cross-validation scores: [ 3.25899195e-01  3.29452344e-01  3.35983730e-01 -1.54588014e+24\n",
      "  8.69438970e-02]\n",
      "Mean score: -3.0917602759067295e+23\n",
      "original train:Root Mean Squared Error (RMSE) \t: 53865.969637895316\n",
      "original test:Root Mean Squared Error (RMSE) \t: 52049.099593898056\n"
     ]
    }
   ],
   "source": [
    "from sklearn.model_selection import cross_val_score\n",
    "\n",
    "X = df_encoded.drop(\"salary_in_usd\", axis=1)\n",
    "y = df_encoded[\"salary_in_usd\"]\n",
    "\n",
    "model_lg = LinearRegression()\n",
    "scores = cross_val_score(model_lg, X, y, cv=5) # use 5 folds\n",
    "\n",
    "print(\"Cross-validation scores:\", scores)\n",
    "print(\"Mean score:\", scores.mean())\n",
    "print(\"original train:Root Mean Squared Error (RMSE) \\t:\", sqrt(mean_squared_error(y_train, y_train_pred)))\n",
    "print(\"original test:Root Mean Squared Error (RMSE) \\t:\", sqrt(mean_squared_error(y_test, y_test_pred)))\n"
   ]
  },
  {
   "attachments": {},
   "cell_type": "markdown",
   "id": "866ef8e1",
   "metadata": {},
   "source": [
    "### 2.3 Using Gridsearch to improve on the K-Fold Cross Validation model"
   ]
  },
  {
   "cell_type": "code",
   "execution_count": 55,
   "id": "c931a217",
   "metadata": {},
   "outputs": [
    {
     "name": "stdout",
     "output_type": "stream",
     "text": [
      "Best parameters: {'alpha': 10}\n",
      "Best score: 0.43286982523180323\n"
     ]
    }
   ],
   "source": [
    "from sklearn.model_selection import GridSearchCV\n",
    "from sklearn.linear_model import Ridge\n",
    "\n",
    "param_grid = {\"alpha\": [0.01, 0.1, 1, 10, 100]}\n",
    "\n",
    "model = Ridge()\n",
    "\n",
    "# Fit the model to the data\n",
    "model.fit(X_train, y_train)\n",
    "\n",
    "grid_search = GridSearchCV(model, param_grid, cv=5)\n",
    "grid_search.fit(X_train, y_train)\n",
    "\n",
    "print(\"Best parameters:\", grid_search.best_params_)\n",
    "print(\"Best score:\", grid_search.best_score_)\n"
   ]
  },
  {
   "attachments": {},
   "cell_type": "markdown",
   "id": "0258e9e0",
   "metadata": {},
   "source": [
    "#### comment: with 10 fold as the best parameter, the performance of the k-fold cross validation model is improved."
   ]
  },
  {
   "attachments": {},
   "cell_type": "markdown",
   "id": "2e63dcf1",
   "metadata": {},
   "source": [
    "#### Summary: With improved model, we find its performance still wrose than the improved random forest model."
   ]
  },
  {
   "cell_type": "markdown",
   "id": "a6dc924a",
   "metadata": {},
   "source": [
    "---"
   ]
  },
  {
   "cell_type": "markdown",
   "id": "56336a7f",
   "metadata": {},
   "source": [
    "## 3.0. Building Support Vector Machine Regressor Model"
   ]
  },
  {
   "cell_type": "markdown",
   "id": "56847349",
   "metadata": {},
   "source": [
    "### 3.1. Define Model Inputs (X) & Output (y)"
   ]
  },
  {
   "cell_type": "code",
   "execution_count": null,
   "id": "5b637f45",
   "metadata": {},
   "outputs": [],
   "source": [
    "X = ds_num.drop(['salary_in_usd', 'work_year', 'salary'], axis=1)\n",
    "y = ds_num['salary_in_usd']"
   ]
  },
  {
   "cell_type": "code",
   "execution_count": null,
   "id": "4dfb3a5a",
   "metadata": {},
   "outputs": [],
   "source": [
    "# Split both Inputs (X) and Ouput (y) into training set (70%) and testing set (30%)\n",
    "X_train, X_test, y_train, y_test = train_test_split(X, y, test_size=0.3, random_state=1)"
   ]
  },
  {
   "cell_type": "code",
   "execution_count": null,
   "id": "d280175d",
   "metadata": {},
   "outputs": [
    {
     "data": {
      "text/html": [
       "<style>#sk-container-id-4 {color: black;background-color: white;}#sk-container-id-4 pre{padding: 0;}#sk-container-id-4 div.sk-toggleable {background-color: white;}#sk-container-id-4 label.sk-toggleable__label {cursor: pointer;display: block;width: 100%;margin-bottom: 0;padding: 0.3em;box-sizing: border-box;text-align: center;}#sk-container-id-4 label.sk-toggleable__label-arrow:before {content: \"▸\";float: left;margin-right: 0.25em;color: #696969;}#sk-container-id-4 label.sk-toggleable__label-arrow:hover:before {color: black;}#sk-container-id-4 div.sk-estimator:hover label.sk-toggleable__label-arrow:before {color: black;}#sk-container-id-4 div.sk-toggleable__content {max-height: 0;max-width: 0;overflow: hidden;text-align: left;background-color: #f0f8ff;}#sk-container-id-4 div.sk-toggleable__content pre {margin: 0.2em;color: black;border-radius: 0.25em;background-color: #f0f8ff;}#sk-container-id-4 input.sk-toggleable__control:checked~div.sk-toggleable__content {max-height: 200px;max-width: 100%;overflow: auto;}#sk-container-id-4 input.sk-toggleable__control:checked~label.sk-toggleable__label-arrow:before {content: \"▾\";}#sk-container-id-4 div.sk-estimator input.sk-toggleable__control:checked~label.sk-toggleable__label {background-color: #d4ebff;}#sk-container-id-4 div.sk-label input.sk-toggleable__control:checked~label.sk-toggleable__label {background-color: #d4ebff;}#sk-container-id-4 input.sk-hidden--visually {border: 0;clip: rect(1px 1px 1px 1px);clip: rect(1px, 1px, 1px, 1px);height: 1px;margin: -1px;overflow: hidden;padding: 0;position: absolute;width: 1px;}#sk-container-id-4 div.sk-estimator {font-family: monospace;background-color: #f0f8ff;border: 1px dotted black;border-radius: 0.25em;box-sizing: border-box;margin-bottom: 0.5em;}#sk-container-id-4 div.sk-estimator:hover {background-color: #d4ebff;}#sk-container-id-4 div.sk-parallel-item::after {content: \"\";width: 100%;border-bottom: 1px solid gray;flex-grow: 1;}#sk-container-id-4 div.sk-label:hover label.sk-toggleable__label {background-color: #d4ebff;}#sk-container-id-4 div.sk-serial::before {content: \"\";position: absolute;border-left: 1px solid gray;box-sizing: border-box;top: 0;bottom: 0;left: 50%;z-index: 0;}#sk-container-id-4 div.sk-serial {display: flex;flex-direction: column;align-items: center;background-color: white;padding-right: 0.2em;padding-left: 0.2em;position: relative;}#sk-container-id-4 div.sk-item {position: relative;z-index: 1;}#sk-container-id-4 div.sk-parallel {display: flex;align-items: stretch;justify-content: center;background-color: white;position: relative;}#sk-container-id-4 div.sk-item::before, #sk-container-id-4 div.sk-parallel-item::before {content: \"\";position: absolute;border-left: 1px solid gray;box-sizing: border-box;top: 0;bottom: 0;left: 50%;z-index: -1;}#sk-container-id-4 div.sk-parallel-item {display: flex;flex-direction: column;z-index: 1;position: relative;background-color: white;}#sk-container-id-4 div.sk-parallel-item:first-child::after {align-self: flex-end;width: 50%;}#sk-container-id-4 div.sk-parallel-item:last-child::after {align-self: flex-start;width: 50%;}#sk-container-id-4 div.sk-parallel-item:only-child::after {width: 0;}#sk-container-id-4 div.sk-dashed-wrapped {border: 1px dashed gray;margin: 0 0.4em 0.5em 0.4em;box-sizing: border-box;padding-bottom: 0.4em;background-color: white;}#sk-container-id-4 div.sk-label label {font-family: monospace;font-weight: bold;display: inline-block;line-height: 1.2em;}#sk-container-id-4 div.sk-label-container {text-align: center;}#sk-container-id-4 div.sk-container {/* jupyter's `normalize.less` sets `[hidden] { display: none; }` but bootstrap.min.css set `[hidden] { display: none !important; }` so we also need the `!important` here to be able to override the default hidden behavior on the sphinx rendered scikit-learn.org. See: https://github.com/scikit-learn/scikit-learn/issues/21755 */display: inline-block !important;position: relative;}#sk-container-id-4 div.sk-text-repr-fallback {display: none;}</style><div id=\"sk-container-id-4\" class=\"sk-top-container\"><div class=\"sk-text-repr-fallback\"><pre>SVR(C=0.5)</pre><b>In a Jupyter environment, please rerun this cell to show the HTML representation or trust the notebook. <br />On GitHub, the HTML representation is unable to render, please try loading this page with nbviewer.org.</b></div><div class=\"sk-container\" hidden><div class=\"sk-item\"><div class=\"sk-estimator sk-toggleable\"><input class=\"sk-toggleable__control sk-hidden--visually\" id=\"sk-estimator-id-4\" type=\"checkbox\" checked><label for=\"sk-estimator-id-4\" class=\"sk-toggleable__label sk-toggleable__label-arrow\">SVR</label><div class=\"sk-toggleable__content\"><pre>SVR(C=0.5)</pre></div></div></div></div></div>"
      ],
      "text/plain": [
       "SVR(C=0.5)"
      ]
     },
     "execution_count": 29,
     "metadata": {},
     "output_type": "execute_result"
    }
   ],
   "source": [
    "svr = SVR(C=0.5, kernel = \"rbf\")\n",
    "svr.fit(X_train,y_train)"
   ]
  },
  {
   "cell_type": "code",
   "execution_count": null,
   "id": "b91dfdb6",
   "metadata": {},
   "outputs": [
    {
     "name": "stdout",
     "output_type": "stream",
     "text": [
      "Training root mean squared error is:  74172.53022629712\n",
      "Testing root mean squared error is:  65310.37575302947\n"
     ]
    }
   ],
   "source": [
    "print('Training root mean squared error is: ', sqrt(mean_squared_error(svr.predict(X_train), y_train)))\n",
    "print('Testing root mean squared error is: ', sqrt(mean_squared_error(svr.predict(X_test), y_test)))"
   ]
  },
  {
   "cell_type": "code",
   "execution_count": null,
   "id": "0aaadb00",
   "metadata": {},
   "outputs": [
    {
     "name": "stdout",
     "output_type": "stream",
     "text": [
      "Training accuracy is:  -0.020235954102069575\n",
      "Testing accuracy is:  -0.02086974171810474\n"
     ]
    }
   ],
   "source": [
    "print('Training accuracy is: ', svr.score(X_train,y_train))\n",
    "print('Testing accuracy is: ', svr.score(X_test,y_test))"
   ]
  },
  {
   "cell_type": "markdown",
   "id": "21e695f5",
   "metadata": {},
   "source": [
    "### 3.2. Applying K-Fold Cross Validation"
   ]
  },
  {
   "cell_type": "code",
   "execution_count": null,
   "id": "ff1c25fd",
   "metadata": {},
   "outputs": [
    {
     "name": "stdout",
     "output_type": "stream",
     "text": [
      "train_score:  [-4.57181366e+09 -4.90331931e+09 -5.29615266e+09 -5.53060962e+09\n",
      " -5.26140090e+09]\n",
      "test_score:  [-6.87004331e+09 -5.74459144e+09 -4.69334941e+09 -3.75001182e+09\n",
      " -5.01340513e+09]\n"
     ]
    }
   ],
   "source": [
    "results = cross_validate(svr, X, y, scoring='neg_mean_squared_error', cv=5, return_train_score = True)\n",
    "print('train_score: ', results['train_score'])\n",
    "print('test_score: ', results['test_score'])"
   ]
  },
  {
   "cell_type": "code",
   "execution_count": null,
   "id": "8e7aeafb",
   "metadata": {},
   "outputs": [
    {
     "name": "stdout",
     "output_type": "stream",
     "text": [
      "Cross validation training root mean_squared_error is: 71502.86168507041\n",
      "Cross validation testing root mean_squared_error is: 72209.97314749708\n"
     ]
    }
   ],
   "source": [
    "print('Cross validation training root mean_squared_error is:', sqrt(sum(-results['train_score'])/len(results['train_score'])))\n",
    "print('Cross validation testing root mean_squared_error is:', sqrt(sum(-results['test_score'])/len(results['test_score'])))"
   ]
  },
  {
   "cell_type": "markdown",
   "id": "d64fedd8",
   "metadata": {},
   "source": [
    "### 3.3. Perform Gridsearch to find the best hyperparameters for Support Vector Machine Regressor Model"
   ]
  },
  {
   "cell_type": "code",
   "execution_count": null,
   "id": "499ad4d0",
   "metadata": {},
   "outputs": [
    {
     "name": "stdout",
     "output_type": "stream",
     "text": [
      "-5211692767.571948\n",
      "{'C': 1, 'kernel': 'rbf'}\n"
     ]
    }
   ],
   "source": [
    "param_grid = { \"C\" : [0.8,1,0.5,0.4,0.2], \n",
    "              \"kernel\": [\"rbf\",\"sigmoid\"]}\n",
    "gs = GridSearchCV(svr, param_grid=param_grid, scoring='neg_mean_squared_error', cv=5, n_jobs=-1)\n",
    "gs = gs.fit(X, y)\n",
    "\n",
    "print(gs.best_score_)\n",
    "print(gs.best_params_)"
   ]
  },
  {
   "cell_type": "code",
   "execution_count": null,
   "id": "ee1f5ec4",
   "metadata": {},
   "outputs": [
    {
     "data": {
      "text/html": [
       "<style>#sk-container-id-5 {color: black;background-color: white;}#sk-container-id-5 pre{padding: 0;}#sk-container-id-5 div.sk-toggleable {background-color: white;}#sk-container-id-5 label.sk-toggleable__label {cursor: pointer;display: block;width: 100%;margin-bottom: 0;padding: 0.3em;box-sizing: border-box;text-align: center;}#sk-container-id-5 label.sk-toggleable__label-arrow:before {content: \"▸\";float: left;margin-right: 0.25em;color: #696969;}#sk-container-id-5 label.sk-toggleable__label-arrow:hover:before {color: black;}#sk-container-id-5 div.sk-estimator:hover label.sk-toggleable__label-arrow:before {color: black;}#sk-container-id-5 div.sk-toggleable__content {max-height: 0;max-width: 0;overflow: hidden;text-align: left;background-color: #f0f8ff;}#sk-container-id-5 div.sk-toggleable__content pre {margin: 0.2em;color: black;border-radius: 0.25em;background-color: #f0f8ff;}#sk-container-id-5 input.sk-toggleable__control:checked~div.sk-toggleable__content {max-height: 200px;max-width: 100%;overflow: auto;}#sk-container-id-5 input.sk-toggleable__control:checked~label.sk-toggleable__label-arrow:before {content: \"▾\";}#sk-container-id-5 div.sk-estimator input.sk-toggleable__control:checked~label.sk-toggleable__label {background-color: #d4ebff;}#sk-container-id-5 div.sk-label input.sk-toggleable__control:checked~label.sk-toggleable__label {background-color: #d4ebff;}#sk-container-id-5 input.sk-hidden--visually {border: 0;clip: rect(1px 1px 1px 1px);clip: rect(1px, 1px, 1px, 1px);height: 1px;margin: -1px;overflow: hidden;padding: 0;position: absolute;width: 1px;}#sk-container-id-5 div.sk-estimator {font-family: monospace;background-color: #f0f8ff;border: 1px dotted black;border-radius: 0.25em;box-sizing: border-box;margin-bottom: 0.5em;}#sk-container-id-5 div.sk-estimator:hover {background-color: #d4ebff;}#sk-container-id-5 div.sk-parallel-item::after {content: \"\";width: 100%;border-bottom: 1px solid gray;flex-grow: 1;}#sk-container-id-5 div.sk-label:hover label.sk-toggleable__label {background-color: #d4ebff;}#sk-container-id-5 div.sk-serial::before {content: \"\";position: absolute;border-left: 1px solid gray;box-sizing: border-box;top: 0;bottom: 0;left: 50%;z-index: 0;}#sk-container-id-5 div.sk-serial {display: flex;flex-direction: column;align-items: center;background-color: white;padding-right: 0.2em;padding-left: 0.2em;position: relative;}#sk-container-id-5 div.sk-item {position: relative;z-index: 1;}#sk-container-id-5 div.sk-parallel {display: flex;align-items: stretch;justify-content: center;background-color: white;position: relative;}#sk-container-id-5 div.sk-item::before, #sk-container-id-5 div.sk-parallel-item::before {content: \"\";position: absolute;border-left: 1px solid gray;box-sizing: border-box;top: 0;bottom: 0;left: 50%;z-index: -1;}#sk-container-id-5 div.sk-parallel-item {display: flex;flex-direction: column;z-index: 1;position: relative;background-color: white;}#sk-container-id-5 div.sk-parallel-item:first-child::after {align-self: flex-end;width: 50%;}#sk-container-id-5 div.sk-parallel-item:last-child::after {align-self: flex-start;width: 50%;}#sk-container-id-5 div.sk-parallel-item:only-child::after {width: 0;}#sk-container-id-5 div.sk-dashed-wrapped {border: 1px dashed gray;margin: 0 0.4em 0.5em 0.4em;box-sizing: border-box;padding-bottom: 0.4em;background-color: white;}#sk-container-id-5 div.sk-label label {font-family: monospace;font-weight: bold;display: inline-block;line-height: 1.2em;}#sk-container-id-5 div.sk-label-container {text-align: center;}#sk-container-id-5 div.sk-container {/* jupyter's `normalize.less` sets `[hidden] { display: none; }` but bootstrap.min.css set `[hidden] { display: none !important; }` so we also need the `!important` here to be able to override the default hidden behavior on the sphinx rendered scikit-learn.org. See: https://github.com/scikit-learn/scikit-learn/issues/21755 */display: inline-block !important;position: relative;}#sk-container-id-5 div.sk-text-repr-fallback {display: none;}</style><div id=\"sk-container-id-5\" class=\"sk-top-container\"><div class=\"sk-text-repr-fallback\"><pre>SVR(C=1)</pre><b>In a Jupyter environment, please rerun this cell to show the HTML representation or trust the notebook. <br />On GitHub, the HTML representation is unable to render, please try loading this page with nbviewer.org.</b></div><div class=\"sk-container\" hidden><div class=\"sk-item\"><div class=\"sk-estimator sk-toggleable\"><input class=\"sk-toggleable__control sk-hidden--visually\" id=\"sk-estimator-id-5\" type=\"checkbox\" checked><label for=\"sk-estimator-id-5\" class=\"sk-toggleable__label sk-toggleable__label-arrow\">SVR</label><div class=\"sk-toggleable__content\"><pre>SVR(C=1)</pre></div></div></div></div></div>"
      ],
      "text/plain": [
       "SVR(C=1)"
      ]
     },
     "execution_count": 35,
     "metadata": {},
     "output_type": "execute_result"
    }
   ],
   "source": [
    "svr_new = SVR(C=1, kernel = \"rbf\")\n",
    "svr_new.fit(X_train,y_train)"
   ]
  },
  {
   "cell_type": "code",
   "execution_count": null,
   "id": "dc63e4ec",
   "metadata": {},
   "outputs": [
    {
     "name": "stdout",
     "output_type": "stream",
     "text": [
      "Training root mean squared error is:  74160.80697184717\n",
      "Testing root mean squared error is:  65297.10887717974\n"
     ]
    }
   ],
   "source": [
    "print('Training root mean squared error is: ', sqrt(mean_squared_error(svr_new.predict(X_train), y_train)))\n",
    "print('Testing root mean squared error is: ', sqrt(mean_squared_error(svr_new.predict(X_test), y_test)))"
   ]
  },
  {
   "cell_type": "code",
   "execution_count": null,
   "id": "ec131513",
   "metadata": {},
   "outputs": [
    {
     "name": "stdout",
     "output_type": "stream",
     "text": [
      "training accuracy is:  -0.019913475134398118\n",
      "testing accuracy is:  -0.02045503344685451\n"
     ]
    }
   ],
   "source": [
    "train_R2_new = svr_new.score(X_train,y_train)\n",
    "print('training accuracy is: ', svr_new.score(X_train,y_train))\n",
    "test_R2_new = svr_new.score(X_test,y_test)\n",
    "print('testing accuracy is: ', svr_new.score(X_test,y_test))"
   ]
  },
  {
   "cell_type": "markdown",
   "id": "a220697c",
   "metadata": {},
   "source": [
    "### 3.4. Applying K-Fold Cross Validation to newly improved model to compare results"
   ]
  },
  {
   "cell_type": "code",
   "execution_count": null,
   "id": "c1cbb178",
   "metadata": {},
   "outputs": [
    {
     "name": "stdout",
     "output_type": "stream",
     "text": [
      "train_score:  [-4.57005759e+09 -4.90175053e+09 -5.29415651e+09 -5.52839154e+09\n",
      " -5.25868687e+09]\n",
      "test_score:  [-6.86701887e+09 -5.74182716e+09 -4.69191719e+09 -3.74783141e+09\n",
      " -5.00986921e+09]\n"
     ]
    }
   ],
   "source": [
    "# Evaluate the Model using K-folds Cross validation\n",
    "new_results = cross_validate(svr_new, X, y, scoring='neg_mean_squared_error', cv=5, return_train_score = True)\n",
    "print('train_score: ', new_results['train_score'])\n",
    "print('test_score: ', new_results['test_score'])"
   ]
  },
  {
   "cell_type": "code",
   "execution_count": null,
   "id": "195ecc45",
   "metadata": {},
   "outputs": [
    {
     "name": "stdout",
     "output_type": "stream",
     "text": [
      "Cross validation training root mean_squared_error is: 71488.520812489\n",
      "Cross validation testing root mean_squared_error is: 72192.05473992237\n"
     ]
    }
   ],
   "source": [
    "print('Cross validation training root mean_squared_error is:', sqrt(sum(-new_results['train_score'])/len(new_results['train_score'])))\n",
    "print('Cross validation testing root mean_squared_error is:', sqrt(sum(-new_results['test_score'])/len(new_results['test_score'])))"
   ]
  },
  {
   "cell_type": "markdown",
   "id": "28c3b04f",
   "metadata": {},
   "source": [
    "### 3.5. Summary"
   ]
  },
  {
   "cell_type": "code",
   "execution_count": null,
   "id": "2033741c",
   "metadata": {},
   "outputs": [
    {
     "name": "stdout",
     "output_type": "stream",
     "text": [
      "**Current Model of Support Vector Machine Regressor**\n",
      "RMSE Values\n",
      "---Before---\n",
      "Training root mean squared error is:  74172.53022629712\n",
      "Testing root mean squared error is:  65310.37575302947\n",
      "Cross validation training root mean_squared_error is: 71502.86168507041\n",
      "Cross validation testing root mean_squared_error is: 72209.97314749708\n",
      "\n",
      "---After---\n",
      "Training root mean squared error is:  74160.80697184717\n",
      "Testing root mean squared error is:  65297.10887717974\n",
      "Cross validation training root mean_squared_error is: 71488.520812489\n",
      "Cross validation testing root mean_squared_error is: 72192.05473992237\n",
      "\n",
      "Accuracy\n",
      "---Before---\n",
      "Training accuracy is:  -0.020235954102069575\n",
      "Testing accuracy is:  -0.02086974171810474\n",
      "---After---\n",
      "Training accuracy is:  -0.019913475134398118\n",
      "Testing accuracy is:  -0.02045503344685451\n"
     ]
    }
   ],
   "source": [
    "print(\"**Current Model of Support Vector Machine Regressor**\")\n",
    "print(\"RMSE Values\")\n",
    "print(\"---Before---\")\n",
    "print('Training root mean squared error is: ', sqrt(mean_squared_error(svr.predict(X_train), y_train)))\n",
    "print('Testing root mean squared error is: ', sqrt(mean_squared_error(svr.predict(X_test), y_test)))\n",
    "print('Cross validation training root mean_squared_error is:', sqrt(sum(-results['train_score'])/len(results['train_score'])))\n",
    "print('Cross validation testing root mean_squared_error is:', sqrt(sum(-results['test_score'])/len(results['test_score'])))\n",
    "print()\n",
    "print(\"---After---\")\n",
    "print('Training root mean squared error is: ', sqrt(mean_squared_error(svr_new.predict(X_train), y_train)))\n",
    "print('Testing root mean squared error is: ', sqrt(mean_squared_error(svr_new.predict(X_test), y_test)))\n",
    "print('Cross validation training root mean_squared_error is:', sqrt(sum(-new_results['train_score'])/len(new_results['train_score'])))\n",
    "print('Cross validation testing root mean_squared_error is:', sqrt(sum(-new_results['test_score'])/len(new_results['test_score'])))\n",
    "\n",
    "# print the accuracy\n",
    "print()\n",
    "print(\"Accuracy\")\n",
    "print(\"---Before---\")\n",
    "print('Training accuracy is: ', svr.score(X_train,y_train))\n",
    "print('Testing accuracy is: ', svr.score(X_test,y_test))\n",
    "print(\"---After---\")\n",
    "print('Training accuracy is: ', svr_new.score(X_train,y_train))\n",
    "print('Testing accuracy is: ', svr_new.score(X_test,y_test))"
   ]
  },
  {
   "cell_type": "markdown",
   "id": "bfca80a5",
   "metadata": {},
   "source": [
    "It can be clearly seen that Support Vector Machine isn't a very good model to be used for this dataset as its training accuracy and testing accuracy for before and after are below 0.0\n",
    "\n",
    "This means that the model is not suitable to be used for this dataset. Hence it is recommended to use some other model to predict"
   ]
  },
  {
   "cell_type": "markdown",
   "id": "8a415890",
   "metadata": {},
   "source": [
    "---"
   ]
  },
  {
   "cell_type": "code",
   "execution_count": null,
   "id": "9128dd5c",
   "metadata": {},
   "outputs": [],
   "source": []
  }
 ],
 "metadata": {
  "kernelspec": {
   "display_name": "Python 3 (ipykernel)",
   "language": "python",
   "name": "python3"
  },
  "language_info": {
   "codemirror_mode": {
    "name": "ipython",
    "version": 3
   },
   "file_extension": ".py",
   "mimetype": "text/x-python",
   "name": "python",
   "nbconvert_exporter": "python",
   "pygments_lexer": "ipython3",
   "version": "3.11.2"
  }
 },
 "nbformat": 4,
 "nbformat_minor": 5
}
