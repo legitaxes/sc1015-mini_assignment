{
 "cells": [
  {
   "cell_type": "markdown",
   "id": "1c10fc2e",
   "metadata": {},
   "source": [
    "# Mini Project - Job Salaries Dataset"
   ]
  },
  {
   "cell_type": "code",
   "execution_count": 1,
   "id": "8f743c38",
   "metadata": {},
   "outputs": [],
   "source": [
    "# Basic Libraries\n",
    "import numpy as np\n",
    "import pandas as pd\n",
    "import seaborn as sb\n",
    "import collections\n",
    "from scipy import stats\n",
    "import matplotlib.pyplot as plt # we only need pyplot\n",
    "sb.set() # set the default Seaborn style for graphics\n",
    "from sklearn.model_selection import train_test_split\n",
    "from math import sqrt\n",
    "from datetime import datetime, timedelta\n",
    "# Import Decision Tree Classifier model from Scikit-Learn\n",
    "from sklearn.tree import DecisionTreeClassifier\n",
    "# Plot the trained Decision Tree\n",
    "from sklearn.tree import plot_tree\n",
    "# for plotting confusion matrix\n",
    "from sklearn.metrics import confusion_matrix\n",
    "from collections import Counter\n",
    "\n",
    "\n",
    "from sklearn.model_selection import GridSearchCV\n",
    "from sklearn import tree\n",
    "from sklearn.neural_network import MLPClassifier\n",
    "from sklearn.metrics import mean_squared_error\n",
    "from sklearn.tree import DecisionTreeClassifier\n",
    "from sklearn. ensemble import RandomForestClassifier, RandomForestRegressor, BaggingClassifier, AdaBoostClassifier, VotingClassifier\n",
    "from sklearn.metrics import accuracy_score\n",
    "from sklearn.svm import SVC, SVR\n",
    "from sklearn.model_selection import cross_val_score, cross_validate"
   ]
  },
  {
   "cell_type": "code",
   "execution_count": 2,
   "id": "5337d834",
   "metadata": {},
   "outputs": [
    {
     "data": {
      "text/html": [
       "<div>\n",
       "<style scoped>\n",
       "    .dataframe tbody tr th:only-of-type {\n",
       "        vertical-align: middle;\n",
       "    }\n",
       "\n",
       "    .dataframe tbody tr th {\n",
       "        vertical-align: top;\n",
       "    }\n",
       "\n",
       "    .dataframe thead th {\n",
       "        text-align: right;\n",
       "    }\n",
       "</style>\n",
       "<table border=\"1\" class=\"dataframe\">\n",
       "  <thead>\n",
       "    <tr style=\"text-align: right;\">\n",
       "      <th></th>\n",
       "      <th>work_year</th>\n",
       "      <th>salary</th>\n",
       "      <th>salary_in_usd</th>\n",
       "      <th>remote_ratio</th>\n",
       "      <th>experience_levelN</th>\n",
       "      <th>company_sizeN</th>\n",
       "      <th>employment_typeN</th>\n",
       "      <th>employee_continentN</th>\n",
       "      <th>company_continentN</th>\n",
       "    </tr>\n",
       "  </thead>\n",
       "  <tbody>\n",
       "    <tr>\n",
       "      <th>0</th>\n",
       "      <td>2020</td>\n",
       "      <td>70000</td>\n",
       "      <td>79833</td>\n",
       "      <td>0</td>\n",
       "      <td>1</td>\n",
       "      <td>2</td>\n",
       "      <td>1</td>\n",
       "      <td>0</td>\n",
       "      <td>0</td>\n",
       "    </tr>\n",
       "    <tr>\n",
       "      <th>1</th>\n",
       "      <td>2020</td>\n",
       "      <td>260000</td>\n",
       "      <td>260000</td>\n",
       "      <td>0</td>\n",
       "      <td>2</td>\n",
       "      <td>0</td>\n",
       "      <td>1</td>\n",
       "      <td>1</td>\n",
       "      <td>1</td>\n",
       "    </tr>\n",
       "    <tr>\n",
       "      <th>2</th>\n",
       "      <td>2020</td>\n",
       "      <td>85000</td>\n",
       "      <td>109024</td>\n",
       "      <td>1</td>\n",
       "      <td>2</td>\n",
       "      <td>1</td>\n",
       "      <td>1</td>\n",
       "      <td>0</td>\n",
       "      <td>0</td>\n",
       "    </tr>\n",
       "    <tr>\n",
       "      <th>3</th>\n",
       "      <td>2020</td>\n",
       "      <td>20000</td>\n",
       "      <td>20000</td>\n",
       "      <td>0</td>\n",
       "      <td>1</td>\n",
       "      <td>0</td>\n",
       "      <td>1</td>\n",
       "      <td>2</td>\n",
       "      <td>2</td>\n",
       "    </tr>\n",
       "    <tr>\n",
       "      <th>4</th>\n",
       "      <td>2020</td>\n",
       "      <td>150000</td>\n",
       "      <td>150000</td>\n",
       "      <td>1</td>\n",
       "      <td>2</td>\n",
       "      <td>2</td>\n",
       "      <td>1</td>\n",
       "      <td>2</td>\n",
       "      <td>2</td>\n",
       "    </tr>\n",
       "  </tbody>\n",
       "</table>\n",
       "</div>"
      ],
      "text/plain": [
       "   work_year  salary  salary_in_usd  remote_ratio  experience_levelN  \\\n",
       "0       2020   70000          79833             0                  1   \n",
       "1       2020  260000         260000             0                  2   \n",
       "2       2020   85000         109024             1                  2   \n",
       "3       2020   20000          20000             0                  1   \n",
       "4       2020  150000         150000             1                  2   \n",
       "\n",
       "   company_sizeN  employment_typeN  employee_continentN  company_continentN  \n",
       "0              2                 1                    0                   0  \n",
       "1              0                 1                    1                   1  \n",
       "2              1                 1                    0                   0  \n",
       "3              0                 1                    2                   2  \n",
       "4              2                 1                    2                   2  "
      ]
     },
     "execution_count": 2,
     "metadata": {},
     "output_type": "execute_result"
    }
   ],
   "source": [
    "dsdata = pd.read_csv('new_ds_salaries.csv')\n",
    "ds_new = dsdata.copy()\n",
    "\n",
    "# Exploring the numeric data in hr_data\n",
    "ds_num = ds_new.select_dtypes(['int64', 'float64']).copy()\n",
    "ds_num.head()"
   ]
  },
  {
   "cell_type": "markdown",
   "id": "31435dd7",
   "metadata": {},
   "source": [
    "## 1. Decision Tree Regressor"
   ]
  },
  {
   "cell_type": "markdown",
   "id": "3d198e2a",
   "metadata": {},
   "source": [
    "### 1.1 Define Model Inputs (X) & Output (y)"
   ]
  },
  {
   "cell_type": "code",
   "execution_count": 3,
   "id": "d66f62c5",
   "metadata": {},
   "outputs": [],
   "source": [
    "X = ds_num.drop(['salary_in_usd', 'work_year', 'salary'], axis=1)\n",
    "y = ds_num['salary_in_usd']"
   ]
  },
  {
   "cell_type": "code",
   "execution_count": 4,
   "id": "0dfedc92",
   "metadata": {},
   "outputs": [],
   "source": [
    "X_train, X_test, y_train, y_test = train_test_split(X, y, test_size=0.3, random_state=1)"
   ]
  },
  {
   "cell_type": "markdown",
   "id": "b6351617",
   "metadata": {},
   "source": [
    "### 1.2 Create Decision Tree Regressor Model"
   ]
  },
  {
   "cell_type": "code",
   "execution_count": 5,
   "id": "35437d7d",
   "metadata": {},
   "outputs": [
    {
     "data": {
      "text/html": [
       "<style>#sk-container-id-1 {color: black;background-color: white;}#sk-container-id-1 pre{padding: 0;}#sk-container-id-1 div.sk-toggleable {background-color: white;}#sk-container-id-1 label.sk-toggleable__label {cursor: pointer;display: block;width: 100%;margin-bottom: 0;padding: 0.3em;box-sizing: border-box;text-align: center;}#sk-container-id-1 label.sk-toggleable__label-arrow:before {content: \"▸\";float: left;margin-right: 0.25em;color: #696969;}#sk-container-id-1 label.sk-toggleable__label-arrow:hover:before {color: black;}#sk-container-id-1 div.sk-estimator:hover label.sk-toggleable__label-arrow:before {color: black;}#sk-container-id-1 div.sk-toggleable__content {max-height: 0;max-width: 0;overflow: hidden;text-align: left;background-color: #f0f8ff;}#sk-container-id-1 div.sk-toggleable__content pre {margin: 0.2em;color: black;border-radius: 0.25em;background-color: #f0f8ff;}#sk-container-id-1 input.sk-toggleable__control:checked~div.sk-toggleable__content {max-height: 200px;max-width: 100%;overflow: auto;}#sk-container-id-1 input.sk-toggleable__control:checked~label.sk-toggleable__label-arrow:before {content: \"▾\";}#sk-container-id-1 div.sk-estimator input.sk-toggleable__control:checked~label.sk-toggleable__label {background-color: #d4ebff;}#sk-container-id-1 div.sk-label input.sk-toggleable__control:checked~label.sk-toggleable__label {background-color: #d4ebff;}#sk-container-id-1 input.sk-hidden--visually {border: 0;clip: rect(1px 1px 1px 1px);clip: rect(1px, 1px, 1px, 1px);height: 1px;margin: -1px;overflow: hidden;padding: 0;position: absolute;width: 1px;}#sk-container-id-1 div.sk-estimator {font-family: monospace;background-color: #f0f8ff;border: 1px dotted black;border-radius: 0.25em;box-sizing: border-box;margin-bottom: 0.5em;}#sk-container-id-1 div.sk-estimator:hover {background-color: #d4ebff;}#sk-container-id-1 div.sk-parallel-item::after {content: \"\";width: 100%;border-bottom: 1px solid gray;flex-grow: 1;}#sk-container-id-1 div.sk-label:hover label.sk-toggleable__label {background-color: #d4ebff;}#sk-container-id-1 div.sk-serial::before {content: \"\";position: absolute;border-left: 1px solid gray;box-sizing: border-box;top: 0;bottom: 0;left: 50%;z-index: 0;}#sk-container-id-1 div.sk-serial {display: flex;flex-direction: column;align-items: center;background-color: white;padding-right: 0.2em;padding-left: 0.2em;position: relative;}#sk-container-id-1 div.sk-item {position: relative;z-index: 1;}#sk-container-id-1 div.sk-parallel {display: flex;align-items: stretch;justify-content: center;background-color: white;position: relative;}#sk-container-id-1 div.sk-item::before, #sk-container-id-1 div.sk-parallel-item::before {content: \"\";position: absolute;border-left: 1px solid gray;box-sizing: border-box;top: 0;bottom: 0;left: 50%;z-index: -1;}#sk-container-id-1 div.sk-parallel-item {display: flex;flex-direction: column;z-index: 1;position: relative;background-color: white;}#sk-container-id-1 div.sk-parallel-item:first-child::after {align-self: flex-end;width: 50%;}#sk-container-id-1 div.sk-parallel-item:last-child::after {align-self: flex-start;width: 50%;}#sk-container-id-1 div.sk-parallel-item:only-child::after {width: 0;}#sk-container-id-1 div.sk-dashed-wrapped {border: 1px dashed gray;margin: 0 0.4em 0.5em 0.4em;box-sizing: border-box;padding-bottom: 0.4em;background-color: white;}#sk-container-id-1 div.sk-label label {font-family: monospace;font-weight: bold;display: inline-block;line-height: 1.2em;}#sk-container-id-1 div.sk-label-container {text-align: center;}#sk-container-id-1 div.sk-container {/* jupyter's `normalize.less` sets `[hidden] { display: none; }` but bootstrap.min.css set `[hidden] { display: none !important; }` so we also need the `!important` here to be able to override the default hidden behavior on the sphinx rendered scikit-learn.org. See: https://github.com/scikit-learn/scikit-learn/issues/21755 */display: inline-block !important;position: relative;}#sk-container-id-1 div.sk-text-repr-fallback {display: none;}</style><div id=\"sk-container-id-1\" class=\"sk-top-container\"><div class=\"sk-text-repr-fallback\"><pre>DecisionTreeRegressor(max_depth=40, random_state=2)</pre><b>In a Jupyter environment, please rerun this cell to show the HTML representation or trust the notebook. <br />On GitHub, the HTML representation is unable to render, please try loading this page with nbviewer.org.</b></div><div class=\"sk-container\" hidden><div class=\"sk-item\"><div class=\"sk-estimator sk-toggleable\"><input class=\"sk-toggleable__control sk-hidden--visually\" id=\"sk-estimator-id-1\" type=\"checkbox\" checked><label for=\"sk-estimator-id-1\" class=\"sk-toggleable__label sk-toggleable__label-arrow\">DecisionTreeRegressor</label><div class=\"sk-toggleable__content\"><pre>DecisionTreeRegressor(max_depth=40, random_state=2)</pre></div></div></div></div></div>"
      ],
      "text/plain": [
       "DecisionTreeRegressor(max_depth=40, random_state=2)"
      ]
     },
     "execution_count": 5,
     "metadata": {},
     "output_type": "execute_result"
    }
   ],
   "source": [
    "# Create Decision Tree Model\n",
    "tree_reg = tree.DecisionTreeRegressor(max_depth=40, random_state=2)\n",
    "tree_reg.fit(X_train, y_train)"
   ]
  },
  {
   "cell_type": "markdown",
   "id": "a541f9c4",
   "metadata": {},
   "source": [
    "### 1.3 Evaluating Decision Tree Regressor Model"
   ]
  },
  {
   "cell_type": "code",
   "execution_count": 6,
   "id": "1d430bc1",
   "metadata": {},
   "outputs": [
    {
     "name": "stdout",
     "output_type": "stream",
     "text": [
      "Training Root Mean Squared Error is:  46043.174130143605\n",
      "Testing Root Mean Squared Error is:  58347.6096446681\n"
     ]
    }
   ],
   "source": [
    "# Training MSE\n",
    "train_mse = sqrt(mean_squared_error(tree_reg.predict(X_train), y_train))\n",
    "print('Training Root Mean Squared Error is: ', train_mse)\n",
    "\n",
    "# Testing mse\n",
    "test_mse = sqrt(mean_squared_error(tree_reg.predict(X_test), y_test))\n",
    "print('Testing Root Mean Squared Error is: ',test_mse)"
   ]
  },
  {
   "cell_type": "code",
   "execution_count": 7,
   "id": "432719cb",
   "metadata": {},
   "outputs": [
    {
     "name": "stdout",
     "output_type": "stream",
     "text": [
      "Training R^2 value is:  0.606862069809205\n",
      "Testing R^2 value is:  0.18519796612680894\n"
     ]
    }
   ],
   "source": [
    "train_R2 = tree_reg.score(X_train, y_train)\n",
    "print('Training R^2 value is: ', train_R2)\n",
    "test_R2 = tree_reg.score(X_test, y_test)\n",
    "print('Testing R^2 value is: ', test_R2)"
   ]
  },
  {
   "cell_type": "markdown",
   "id": "abc48caa",
   "metadata": {},
   "source": [
    "### 1.4 Check using K-Fold Cross Validation to see if it will improve accuracy"
   ]
  },
  {
   "cell_type": "code",
   "execution_count": 8,
   "id": "1185f13e",
   "metadata": {},
   "outputs": [
    {
     "name": "stdout",
     "output_type": "stream",
     "text": [
      "Training Score:  [-1.61347460e+09 -2.07775009e+09 -2.09089211e+09 -2.10753548e+09\n",
      " -1.95745419e+09]\n",
      "Testing Score:  [-5.88837912e+09 -4.47621720e+09 -2.68939630e+09 -3.07390298e+09\n",
      " -3.12131747e+09]\n"
     ]
    }
   ],
   "source": [
    "results = cross_validate(tree_reg, X, y, scoring='neg_mean_squared_error', cv=5, return_train_score = True)\n",
    "print('Training Score: ', results['train_score'])\n",
    "print('Testing Score: ', results['test_score'])"
   ]
  },
  {
   "cell_type": "code",
   "execution_count": 9,
   "id": "41b189b1",
   "metadata": {},
   "outputs": [
    {
     "name": "stdout",
     "output_type": "stream",
     "text": [
      "Cross Validation Training Root MSE is: 44378.16235535028\n",
      "Cross Validation Testing Root MSE is: 62047.099966221744\n"
     ]
    }
   ],
   "source": [
    "print('Cross Validation Training Root MSE is:', sqrt(sum(-results['train_score'])/len(results['train_score'])))\n",
    "print('Cross Validation Testing Root MSE is:', sqrt(sum(-results['test_score'])/len(results['test_score'])))"
   ]
  },
  {
   "cell_type": "markdown",
   "id": "36256eca",
   "metadata": {},
   "source": [
    "### 1.5 Improving Decision Tree Regressor Model"
   ]
  },
  {
   "cell_type": "markdown",
   "id": "e5d0b03c",
   "metadata": {},
   "source": [
    "#### Using Gridsearch to improve on the model\n",
    "- Finding the best Hyperparameters to select on modelling"
   ]
  },
  {
   "cell_type": "code",
   "execution_count": 10,
   "id": "4215803c",
   "metadata": {},
   "outputs": [
    {
     "name": "stdout",
     "output_type": "stream",
     "text": [
      "-3102128028.58451\n",
      "{'criterion': 'poisson', 'max_depth': 40, 'min_samples_leaf': 15, 'min_samples_split': 16}\n"
     ]
    }
   ],
   "source": [
    "param_grid = { \"criterion\" : [\"squared_error\", \"friedman_mse\", \"absolute_error\", \"poisson\"],\n",
    "                 \"min_samples_leaf\" : [15,20,25,35],\n",
    "                 \"min_samples_split\" : [16,22,26,29],\n",
    "                 'max_depth' : [40,45,50,55]}\n",
    "gs = GridSearchCV(tree_reg, param_grid=param_grid, scoring='neg_mean_squared_error', cv= 10, n_jobs=-1)\n",
    "gs = gs.fit(X, y)\n",
    "print(gs.best_score_)\n",
    "print(gs.best_params_)"
   ]
  },
  {
   "cell_type": "markdown",
   "id": "799aea60",
   "metadata": {},
   "source": [
    "### 1.6 Create New Decision Tree Regressor Model with new Hyperparameters"
   ]
  },
  {
   "cell_type": "code",
   "execution_count": 11,
   "id": "1a03e2e0",
   "metadata": {},
   "outputs": [
    {
     "data": {
      "text/html": [
       "<style>#sk-container-id-2 {color: black;background-color: white;}#sk-container-id-2 pre{padding: 0;}#sk-container-id-2 div.sk-toggleable {background-color: white;}#sk-container-id-2 label.sk-toggleable__label {cursor: pointer;display: block;width: 100%;margin-bottom: 0;padding: 0.3em;box-sizing: border-box;text-align: center;}#sk-container-id-2 label.sk-toggleable__label-arrow:before {content: \"▸\";float: left;margin-right: 0.25em;color: #696969;}#sk-container-id-2 label.sk-toggleable__label-arrow:hover:before {color: black;}#sk-container-id-2 div.sk-estimator:hover label.sk-toggleable__label-arrow:before {color: black;}#sk-container-id-2 div.sk-toggleable__content {max-height: 0;max-width: 0;overflow: hidden;text-align: left;background-color: #f0f8ff;}#sk-container-id-2 div.sk-toggleable__content pre {margin: 0.2em;color: black;border-radius: 0.25em;background-color: #f0f8ff;}#sk-container-id-2 input.sk-toggleable__control:checked~div.sk-toggleable__content {max-height: 200px;max-width: 100%;overflow: auto;}#sk-container-id-2 input.sk-toggleable__control:checked~label.sk-toggleable__label-arrow:before {content: \"▾\";}#sk-container-id-2 div.sk-estimator input.sk-toggleable__control:checked~label.sk-toggleable__label {background-color: #d4ebff;}#sk-container-id-2 div.sk-label input.sk-toggleable__control:checked~label.sk-toggleable__label {background-color: #d4ebff;}#sk-container-id-2 input.sk-hidden--visually {border: 0;clip: rect(1px 1px 1px 1px);clip: rect(1px, 1px, 1px, 1px);height: 1px;margin: -1px;overflow: hidden;padding: 0;position: absolute;width: 1px;}#sk-container-id-2 div.sk-estimator {font-family: monospace;background-color: #f0f8ff;border: 1px dotted black;border-radius: 0.25em;box-sizing: border-box;margin-bottom: 0.5em;}#sk-container-id-2 div.sk-estimator:hover {background-color: #d4ebff;}#sk-container-id-2 div.sk-parallel-item::after {content: \"\";width: 100%;border-bottom: 1px solid gray;flex-grow: 1;}#sk-container-id-2 div.sk-label:hover label.sk-toggleable__label {background-color: #d4ebff;}#sk-container-id-2 div.sk-serial::before {content: \"\";position: absolute;border-left: 1px solid gray;box-sizing: border-box;top: 0;bottom: 0;left: 50%;z-index: 0;}#sk-container-id-2 div.sk-serial {display: flex;flex-direction: column;align-items: center;background-color: white;padding-right: 0.2em;padding-left: 0.2em;position: relative;}#sk-container-id-2 div.sk-item {position: relative;z-index: 1;}#sk-container-id-2 div.sk-parallel {display: flex;align-items: stretch;justify-content: center;background-color: white;position: relative;}#sk-container-id-2 div.sk-item::before, #sk-container-id-2 div.sk-parallel-item::before {content: \"\";position: absolute;border-left: 1px solid gray;box-sizing: border-box;top: 0;bottom: 0;left: 50%;z-index: -1;}#sk-container-id-2 div.sk-parallel-item {display: flex;flex-direction: column;z-index: 1;position: relative;background-color: white;}#sk-container-id-2 div.sk-parallel-item:first-child::after {align-self: flex-end;width: 50%;}#sk-container-id-2 div.sk-parallel-item:last-child::after {align-self: flex-start;width: 50%;}#sk-container-id-2 div.sk-parallel-item:only-child::after {width: 0;}#sk-container-id-2 div.sk-dashed-wrapped {border: 1px dashed gray;margin: 0 0.4em 0.5em 0.4em;box-sizing: border-box;padding-bottom: 0.4em;background-color: white;}#sk-container-id-2 div.sk-label label {font-family: monospace;font-weight: bold;display: inline-block;line-height: 1.2em;}#sk-container-id-2 div.sk-label-container {text-align: center;}#sk-container-id-2 div.sk-container {/* jupyter's `normalize.less` sets `[hidden] { display: none; }` but bootstrap.min.css set `[hidden] { display: none !important; }` so we also need the `!important` here to be able to override the default hidden behavior on the sphinx rendered scikit-learn.org. See: https://github.com/scikit-learn/scikit-learn/issues/21755 */display: inline-block !important;position: relative;}#sk-container-id-2 div.sk-text-repr-fallback {display: none;}</style><div id=\"sk-container-id-2\" class=\"sk-top-container\"><div class=\"sk-text-repr-fallback\"><pre>DecisionTreeRegressor(criterion=&#x27;poisson&#x27;, max_depth=40, min_samples_leaf=15,\n",
       "                      min_samples_split=16)</pre><b>In a Jupyter environment, please rerun this cell to show the HTML representation or trust the notebook. <br />On GitHub, the HTML representation is unable to render, please try loading this page with nbviewer.org.</b></div><div class=\"sk-container\" hidden><div class=\"sk-item\"><div class=\"sk-estimator sk-toggleable\"><input class=\"sk-toggleable__control sk-hidden--visually\" id=\"sk-estimator-id-2\" type=\"checkbox\" checked><label for=\"sk-estimator-id-2\" class=\"sk-toggleable__label sk-toggleable__label-arrow\">DecisionTreeRegressor</label><div class=\"sk-toggleable__content\"><pre>DecisionTreeRegressor(criterion=&#x27;poisson&#x27;, max_depth=40, min_samples_leaf=15,\n",
       "                      min_samples_split=16)</pre></div></div></div></div></div>"
      ],
      "text/plain": [
       "DecisionTreeRegressor(criterion='poisson', max_depth=40, min_samples_leaf=15,\n",
       "                      min_samples_split=16)"
      ]
     },
     "execution_count": 11,
     "metadata": {},
     "output_type": "execute_result"
    }
   ],
   "source": [
    "tree_reg_new = tree.DecisionTreeRegressor(criterion='poisson', max_depth = 40, min_samples_leaf = 15, min_samples_split=16)\n",
    "tree_reg_new.fit(X_train, y_train)"
   ]
  },
  {
   "cell_type": "markdown",
   "id": "677ba59c",
   "metadata": {},
   "source": [
    "### 1.7 Evaluating model based on newly improved model with hyperparameters"
   ]
  },
  {
   "cell_type": "code",
   "execution_count": 12,
   "id": "8e473a4d",
   "metadata": {},
   "outputs": [
    {
     "name": "stdout",
     "output_type": "stream",
     "text": [
      "Training Root Mean Squared Error is:  46043.174130143605\n",
      "Testing Root Mean Squared Error is:  58347.6096446681\n"
     ]
    }
   ],
   "source": [
    "#training mse\n",
    "new_train_mse = sqrt(mean_squared_error(tree_reg_new.predict(X_train), y_train))\n",
    "print('Training Root Mean Squared Error is: ', train_mse)\n",
    "#testing mse\n",
    "new_test_mse = sqrt(mean_squared_error(tree_reg_new.predict(X_test), y_test))\n",
    "print('Testing Root Mean Squared Error is: ', test_mse)"
   ]
  },
  {
   "cell_type": "code",
   "execution_count": 13,
   "id": "3c98cf8a",
   "metadata": {},
   "outputs": [
    {
     "name": "stdout",
     "output_type": "stream",
     "text": [
      "Training R^2 value is:  0.3972164267578737\n",
      "Testing R^2 value is:  0.50108403633547\n"
     ]
    }
   ],
   "source": [
    "train_R2_new = tree_reg_new.score(X_train, y_train)\n",
    "print('Training R^2 value is: ', train_R2_new)\n",
    "test_R2_new = tree_reg_new.score(X_test, y_test)\n",
    "print('Testing R^2 value is: ', test_R2_new)"
   ]
  },
  {
   "cell_type": "markdown",
   "id": "8ddf9fc2",
   "metadata": {},
   "source": [
    "### 1.8 Check whether using K-fold Cross Validation will further improve the accuracy on the new Decision Tree Regressor Model"
   ]
  },
  {
   "cell_type": "code",
   "execution_count": 14,
   "id": "6596bf80",
   "metadata": {},
   "outputs": [
    {
     "name": "stdout",
     "output_type": "stream",
     "text": [
      "train_score:  [-2.47218656e+09 -2.90087424e+09 -2.88048434e+09 -3.08784238e+09\n",
      " -2.73538085e+09]\n",
      "test_score:  [-4.17322674e+09 -3.95547985e+09 -2.77642848e+09 -2.19064834e+09\n",
      " -2.89470170e+09]\n"
     ]
    }
   ],
   "source": [
    "# Evaluate the Model using K-folds Cross validation\n",
    "new_results = cross_validate(tree_reg_new, X, y, scoring='neg_mean_squared_error', cv=5, return_train_score = True)\n",
    "print('train_score: ', new_results['train_score'])\n",
    "print('test_score: ', new_results['test_score'])"
   ]
  },
  {
   "cell_type": "code",
   "execution_count": 15,
   "id": "b670f2b7",
   "metadata": {},
   "outputs": [
    {
     "name": "stdout",
     "output_type": "stream",
     "text": [
      "cross validation training root mean_squared_error is: 53059.90646587468\n",
      "cross validation testing  root mean_squared_error is: 56551.71988361068\n"
     ]
    }
   ],
   "source": [
    "print('cross validation training root mean_squared_error is:', sqrt(sum(-new_results['train_score'])/len(new_results['train_score'])))\n",
    "print('cross validation testing  root mean_squared_error is:', sqrt(sum(-new_results['test_score'])/len(new_results['test_score'])))"
   ]
  },
  {
   "cell_type": "markdown",
   "id": "3e1a0c26",
   "metadata": {},
   "source": [
    "### 1.9 Overview of Model"
   ]
  },
  {
   "cell_type": "code",
   "execution_count": 16,
   "id": "a817e2e1",
   "metadata": {},
   "outputs": [
    {
     "name": "stdout",
     "output_type": "stream",
     "text": [
      "**Current Decision Tree Regressor Model**\n",
      "\n",
      "RMSE Scores\n",
      "---Before---\n",
      "Training Root Mean Squared Error is:  46043.174130143605\n",
      "Testing Root Mean Squared Error is:  58347.6096446681\n",
      "Cross Validation Training Root mean_squared_error is: 44378.16235535028\n",
      "Cross Validation Testing Root mean_squared_error is: 62047.099966221744\n",
      "\n",
      "---After---\n",
      "Training Root Mean Squared Error is:  57012.94648250877\n",
      "Testing Root Mean Squared Error is:  45657.35164886388\n",
      "Cross Validation Training Root mean_squared_error is: 53059.90646587468\n",
      "Cross Validation Testing Root mean_squared_error is: 56551.71988361068\n",
      "\n",
      "Accuracy\n",
      "---Before---\n",
      "training R^2 value is:  0.606862069809205\n",
      "testing R^2 value is:  0.18519796612680894\n",
      "\n",
      "---After---\n",
      "training R^2 value is:  0.3972164267578737\n",
      "testing R^2 value is:  0.50108403633547\n"
     ]
    }
   ],
   "source": [
    "print(\"**Current Decision Tree Regressor Model**\")\n",
    "print()\n",
    "print(\"RMSE Scores\")\n",
    "print(\"---Before---\")\n",
    "print('Training Root Mean Squared Error is: ', train_mse)\n",
    "print('Testing Root Mean Squared Error is: ', test_mse)\n",
    "print('Cross Validation Training Root mean_squared_error is:', sqrt(sum(-results['train_score'])/len(results['train_score'])))\n",
    "print('Cross Validation Testing Root mean_squared_error is:', sqrt(sum(-results['test_score'])/len(results['test_score'])))\n",
    "print()\n",
    "print(\"---After---\")\n",
    "print('Training Root Mean Squared Error is: ', new_train_mse)\n",
    "print('Testing Root Mean Squared Error is: ', new_test_mse)\n",
    "print('Cross Validation Training Root mean_squared_error is:', sqrt(sum(-new_results['train_score'])/len(new_results['train_score'])))\n",
    "print('Cross Validation Testing Root mean_squared_error is:', sqrt(sum(-new_results['test_score'])/len(new_results['test_score'])))\n",
    "print()\n",
    "print(\"Accuracy\")\n",
    "print(\"---Before---\")\n",
    "\n",
    "print('training R^2 value is: ', train_R2)\n",
    "print('testing R^2 value is: ', test_R2)\n",
    "print()\n",
    "print(\"---After---\")\n",
    "print('training R^2 value is: ', train_R2_new)\n",
    "print('testing R^2 value is: ', test_R2_new)"
   ]
  },
  {
   "cell_type": "markdown",
   "id": "c74ea5e2",
   "metadata": {},
   "source": [
    "After applying the best hyperparameters and refitting the Decision Tree Regressor Model again\n",
    "\n",
    "We can see that the training model and the testing model from before and after have changed drastically\n",
    "The RMSE have decreased from before and after hyperparameters have been selected\n",
    "However, after applying cross validation, the RMSE of training are testing models are more closely matched as compared to before.\n",
    "\n",
    "The R^2 training and testing values have greatly improved after applying gridsearch and cross validation\n",
    "\n",
    "However, the model can still be further improved by finding out the importance of features and dropping insignificant ones near the bottom of the tree"
   ]
  },
  {
   "cell_type": "markdown",
   "id": "5d827e88",
   "metadata": {},
   "source": [
    "### 1.10 Using Feature Importance to determine important data features"
   ]
  },
  {
   "cell_type": "code",
   "execution_count": 17,
   "id": "6e3e0ff6",
   "metadata": {},
   "outputs": [
    {
     "data": {
      "text/html": [
       "<div>\n",
       "<style scoped>\n",
       "    .dataframe tbody tr th:only-of-type {\n",
       "        vertical-align: middle;\n",
       "    }\n",
       "\n",
       "    .dataframe tbody tr th {\n",
       "        vertical-align: top;\n",
       "    }\n",
       "\n",
       "    .dataframe thead th {\n",
       "        text-align: right;\n",
       "    }\n",
       "</style>\n",
       "<table border=\"1\" class=\"dataframe\">\n",
       "  <thead>\n",
       "    <tr style=\"text-align: right;\">\n",
       "      <th></th>\n",
       "      <th>feature</th>\n",
       "      <th>importance</th>\n",
       "    </tr>\n",
       "  </thead>\n",
       "  <tbody>\n",
       "    <tr>\n",
       "      <th>4</th>\n",
       "      <td>employee_continentN</td>\n",
       "      <td>0.728805</td>\n",
       "    </tr>\n",
       "    <tr>\n",
       "      <th>1</th>\n",
       "      <td>experience_levelN</td>\n",
       "      <td>0.193035</td>\n",
       "    </tr>\n",
       "    <tr>\n",
       "      <th>2</th>\n",
       "      <td>company_sizeN</td>\n",
       "      <td>0.038845</td>\n",
       "    </tr>\n",
       "    <tr>\n",
       "      <th>0</th>\n",
       "      <td>remote_ratio</td>\n",
       "      <td>0.019966</td>\n",
       "    </tr>\n",
       "    <tr>\n",
       "      <th>5</th>\n",
       "      <td>company_continentN</td>\n",
       "      <td>0.019350</td>\n",
       "    </tr>\n",
       "    <tr>\n",
       "      <th>3</th>\n",
       "      <td>employment_typeN</td>\n",
       "      <td>0.000000</td>\n",
       "    </tr>\n",
       "  </tbody>\n",
       "</table>\n",
       "</div>"
      ],
      "text/plain": [
       "               feature  importance\n",
       "4  employee_continentN    0.728805\n",
       "1    experience_levelN    0.193035\n",
       "2        company_sizeN    0.038845\n",
       "0         remote_ratio    0.019966\n",
       "5   company_continentN    0.019350\n",
       "3     employment_typeN    0.000000"
      ]
     },
     "execution_count": 17,
     "metadata": {},
     "output_type": "execute_result"
    }
   ],
   "source": [
    "pd.concat((pd.DataFrame(X_train.columns, columns = ['feature']), \n",
    "           pd.DataFrame(tree_reg_new.feature_importances_, columns = ['importance'])), \n",
    "          axis = 1).sort_values(by='importance', ascending = False)"
   ]
  },
  {
   "cell_type": "markdown",
   "id": "d229aa46",
   "metadata": {},
   "source": [
    "- Thinking to drop the unimportant columns, but will be left with one or two columns to be used on the model"
   ]
  },
  {
   "cell_type": "code",
   "execution_count": null,
   "id": "8e51511e",
   "metadata": {},
   "outputs": [],
   "source": []
  }
 ],
 "metadata": {
  "kernelspec": {
   "display_name": "Python 3 (ipykernel)",
   "language": "python",
   "name": "python3"
  },
  "language_info": {
   "codemirror_mode": {
    "name": "ipython",
    "version": 3
   },
   "file_extension": ".py",
   "mimetype": "text/x-python",
   "name": "python",
   "nbconvert_exporter": "python",
   "pygments_lexer": "ipython3",
   "version": "3.10.9"
  }
 },
 "nbformat": 4,
 "nbformat_minor": 5
}
